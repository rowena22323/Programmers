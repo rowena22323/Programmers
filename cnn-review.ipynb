{
 "cells": [
  {
   "cell_type": "code",
   "execution_count": 1,
   "metadata": {},
   "outputs": [],
   "source": [
    "from keras.datasets import mnist\n",
    "from keras.utils import np_utils\n",
    "import numpy as np\n",
    "import sys\n",
    "import matplotlib.pyplot as plt"
   ]
  },
  {
   "cell_type": "code",
   "execution_count": 2,
   "metadata": {},
   "outputs": [],
   "source": [
    "(xTrain, yTrain),(xTest, yTest) = mnist.load_data() # 60000, 10000건 데이터"
   ]
  },
  {
   "cell_type": "code",
   "execution_count": 3,
   "metadata": {},
   "outputs": [
    {
     "data": {
      "image/png": "[encoded data removed]",
      "text/plain": [
       "<Figure size 432x288 with 1 Axes>"
      ]
     },
     "metadata": {
      "needs_background": "light"
     },
     "output_type": "display_data"
    }
   ],
   "source": [
    "plt.imshow(xTrain[0], cmap = 'Greys') # xTrain의 0번째 데이터 출력\n",
    "plt.show()\n",
    "# 모델을 만들 때 전처리 과정에서 할 수 있는것   - 스케일에 따른 정규화"
   ]
  },
  {
   "cell_type": "code",
   "execution_count": 5,
   "metadata": {},
   "outputs": [],
   "source": [
    "# 차원축소 후 정규화\n",
    "xTrain = xTrain.reshape(xTrain.shape[0],784) \n",
    "xTrain = xTrain/255 # 소수이하 실수값이 나오질 않는다. \n",
    "xTest = xTest.reshape(xTest.shape[0],784) \n",
    "xTest = xTest/255 # 소수이하 실수값이 나오질 않는다. "
   ]
  },
  {
   "cell_type": "code",
   "execution_count": 6,
   "metadata": {},
   "outputs": [],
   "source": [
    "yTrain = np_utils.to_categorical(yTrain,10)\n",
    "yTest = np_utils.to_categorical(yTest,10)"
   ]
  },
  {
   "cell_type": "code",
   "execution_count": 7,
   "metadata": {},
   "outputs": [],
   "source": [
    "from keras.models import Sequential\n",
    "from keras.layers import Dense\n",
    "from keras.callbacks import EarlyStopping"
   ]
  },
  {
   "cell_type": "code",
   "execution_count": 8,
   "metadata": {},
   "outputs": [],
   "source": [
    "model = Sequential()\n",
    "model.add(Dense(512, input_dim=784, activation='relu'))\n",
    "model.add(Dense(10, activation='softmax'))"
   ]
  },
  {
   "cell_type": "code",
   "execution_count": 9,
   "metadata": {},
   "outputs": [],
   "source": [
    "model.compile(loss='categorical_crossentropy', optimizer = 'adam', metrics=['accuracy'])"
   ]
  },
  {
   "cell_type": "code",
   "execution_count": 10,
   "metadata": {},
   "outputs": [],
   "source": [
    "es = EarlyStopping(monitor='val_loss', patience=10)\n",
    "#validation data의 loss가 10회이상 계속해서 줄어들지 않으면 모델링 중단."
   ]
  },
  {
   "cell_type": "code",
   "execution_count": 11,
   "metadata": {},
   "outputs": [
    {
     "name": "stdout",
     "output_type": "stream",
     "text": [
      "Epoch 1/30\n",
      "300/300 [==============================] - 1s 4ms/step - loss: 1.6308 - accuracy: 0.6463 - val_loss: 32.6839 - val_accuracy: 0.7105\n",
      "Epoch 2/30\n",
      "300/300 [==============================] - 1s 4ms/step - loss: 0.6964 - accuracy: 0.8376 - val_loss: 48.1730 - val_accuracy: 0.7520\n",
      "Epoch 3/30\n",
      "300/300 [==============================] - 1s 4ms/step - loss: 0.4766 - accuracy: 0.8770 - val_loss: 58.0795 - val_accuracy: 0.7558\n",
      "Epoch 4/30\n",
      "300/300 [==============================] - 1s 4ms/step - loss: 0.3950 - accuracy: 0.8931 - val_loss: 60.7601 - val_accuracy: 0.7719\n",
      "Epoch 5/30\n",
      "300/300 [==============================] - 1s 4ms/step - loss: 0.3539 - accuracy: 0.9021 - val_loss: 57.8425 - val_accuracy: 0.7906\n",
      "Epoch 6/30\n",
      "300/300 [==============================] - 1s 4ms/step - loss: 0.3286 - accuracy: 0.9075 - val_loss: 55.2340 - val_accuracy: 0.8072\n",
      "Epoch 7/30\n",
      "300/300 [==============================] - 1s 4ms/step - loss: 0.3108 - accuracy: 0.9117 - val_loss: 53.5178 - val_accuracy: 0.8159\n",
      "Epoch 8/30\n",
      "300/300 [==============================] - 1s 4ms/step - loss: 0.2972 - accuracy: 0.9146 - val_loss: 48.8803 - val_accuracy: 0.8344\n",
      "Epoch 9/30\n",
      "300/300 [==============================] - 1s 4ms/step - loss: 0.2854 - accuracy: 0.9177 - val_loss: 45.2583 - val_accuracy: 0.8482\n",
      "Epoch 10/30\n",
      "300/300 [==============================] - 1s 4ms/step - loss: 0.2757 - accuracy: 0.9208 - val_loss: 43.4388 - val_accuracy: 0.8533\n",
      "Epoch 11/30\n",
      "300/300 [==============================] - 1s 4ms/step - loss: 0.2663 - accuracy: 0.9232 - val_loss: 40.8043 - val_accuracy: 0.8633\n"
     ]
    },
    {
     "data": {
      "text/plain": [
       "<tensorflow.python.keras.callbacks.History at 0x22f053b6c48>"
      ]
     },
     "execution_count": 11,
     "metadata": {},
     "output_type": "execute_result"
    }
   ],
   "source": [
    "# 트레이닝, 검증, 테스트 : 현재는 따로 검증용 데이터를 생성하지 않고 테스트로 모델의 정확도만 파악\n",
    "model.fit(xTrain, yTrain, validation_data = (xTest, yTest), epochs = 30, batch_size=200, callbacks=[es])"
   ]
  },
  {
   "cell_type": "markdown",
   "metadata": {},
   "source": [
    "# CNN"
   ]
  },
  {
   "cell_type": "code",
   "execution_count": 18,
   "metadata": {},
   "outputs": [],
   "source": [
    "from keras.layers import *"
   ]
  },
  {
   "cell_type": "code",
   "execution_count": 19,
   "metadata": {},
   "outputs": [],
   "source": [
    "(xTrain, yTrain),(xTest, yTest) = mnist.load_data() # 60000, 10000건 데이터"
   ]
  },
  {
   "cell_type": "code",
   "execution_count": 20,
   "metadata": {},
   "outputs": [],
   "source": [
    "xTrain = xTrain.reshape(xTrain.shape[0],28, 28, 1).astype('float64')/255 \n",
    "xTest = xTest.reshape(xTest.shape[0],28, 28, 1).astype('float64')/255"
   ]
  },
  {
   "cell_type": "code",
   "execution_count": 21,
   "metadata": {},
   "outputs": [],
   "source": [
    "yTrain = np_utils.to_categorical(yTrain,10)\n",
    "yTest = np_utils.to_categorical(yTest,10)"
   ]
  },
  {
   "cell_type": "code",
   "execution_count": 23,
   "metadata": {},
   "outputs": [],
   "source": [
    "# 모델 설계는 어디까지나 본인나름.\n",
    "model = Sequential() # sequential객체생성\n",
    "model.add(Conv2D(32, kernel_size=(3,3), input_shape=(28, 28,1), activation='relu')) # conv2D 층 \n",
    "model.add(Conv2D(64, kernel_size=(3,3), activation='relu'))\n",
    "model.add(MaxPooling2D(2)) \n",
    "model.add(Dropout(0.25))\n",
    "model.add(Flatten())\n",
    "model.add(Dense(128, activation='relu'))\n",
    "model.add(Dropout(0.5))\n",
    "model.add(Dense(10, activation='softmax'))"
   ]
  },
  {
   "cell_type": "code",
   "execution_count": 27,
   "metadata": {},
   "outputs": [
    {
     "name": "stdout",
     "output_type": "stream",
     "text": [
      "Model: \"sequential_1\"\n",
      "_________________________________________________________________\n",
      "Layer (type)                 Output Shape              Param #   \n",
      "=================================================================\n",
      "conv2d (Conv2D)              (None, 26, 26, 32)        320       \n",
      "_________________________________________________________________\n",
      "conv2d_1 (Conv2D)            (None, 24, 24, 64)        18496     \n",
      "_________________________________________________________________\n",
      "max_pooling2d (MaxPooling2D) (None, 12, 12, 64)        0         \n",
      "_________________________________________________________________\n",
      "dropout (Dropout)            (None, 12, 12, 64)        0         \n",
      "_________________________________________________________________\n",
      "flatten (Flatten)            (None, 9216)              0         \n",
      "_________________________________________________________________\n",
      "dense_2 (Dense)              (None, 128)               1179776   \n",
      "_________________________________________________________________\n",
      "dropout_1 (Dropout)          (None, 128)               0         \n",
      "_________________________________________________________________\n",
      "dense_3 (Dense)              (None, 10)                1290      \n",
      "=================================================================\n",
      "Total params: 1,199,882\n",
      "Trainable params: 1,199,882\n",
      "Non-trainable params: 0\n",
      "_________________________________________________________________\n"
     ]
    }
   ],
   "source": [
    "model.summary()\n"
   ]
  },
  {
   "cell_type": "markdown",
   "metadata": {},
   "source": [
    "\n",
    "conv2d (Conv2D)              (None, 26, 26, 32)        320       conv1층 - 32개 필터로 요약된 28*28 이미지 \n",
    "_________________________________________________________________\n",
    "conv2d_1 (Conv2D)            (None, 24, 24, 64)        18496     conv2층 - 64개 필터로 요약된 26*26 이미지 \n",
    "_________________________________________________________________\n",
    "max_pooling2d (MaxPooling2D) (None, 12, 12, 64)        0         maxPooling -  24*24 이미지 압축\n",
    "_________________________________________________________________\n",
    "dropout (Dropout)            (None, 12, 12, 64)        0         randomly weighting - 과적합 방지 (0.25)\n",
    "_________________________________________________________________\n"
   ]
  },
  {
   "cell_type": "code",
   "execution_count": 28,
   "metadata": {},
   "outputs": [
    {
     "name": "stdout",
     "output_type": "stream",
     "text": [
      "Epoch 1/30\n",
      "300/300 [==============================] - 48s 161ms/step - loss: 0.2733 - accuracy: 0.9171 - val_loss: 0.0537 - val_accuracy: 0.9828\n",
      "Epoch 2/30\n",
      "300/300 [==============================] - 46s 155ms/step - loss: 0.0879 - accuracy: 0.9738 - val_loss: 0.0410 - val_accuracy: 0.9872\n",
      "Epoch 3/30\n",
      "300/300 [==============================] - 48s 159ms/step - loss: 0.0667 - accuracy: 0.9803 - val_loss: 0.0349 - val_accuracy: 0.9884\n",
      "Epoch 4/30\n",
      "300/300 [==============================] - 48s 161ms/step - loss: 0.0522 - accuracy: 0.9842 - val_loss: 0.0283 - val_accuracy: 0.9908\n",
      "Epoch 5/30\n",
      "300/300 [==============================] - 52s 175ms/step - loss: 0.0447 - accuracy: 0.9861 - val_loss: 0.0260 - val_accuracy: 0.9908\n",
      "Epoch 6/30\n",
      "300/300 [==============================] - 49s 162ms/step - loss: 0.0387 - accuracy: 0.9881 - val_loss: 0.0264 - val_accuracy: 0.9920\n",
      "Epoch 7/30\n",
      "300/300 [==============================] - 48s 159ms/step - loss: 0.0344 - accuracy: 0.9896 - val_loss: 0.0259 - val_accuracy: 0.9921\n",
      "Epoch 8/30\n",
      "300/300 [==============================] - 49s 163ms/step - loss: 0.0314 - accuracy: 0.9898 - val_loss: 0.0284 - val_accuracy: 0.9905\n",
      "Epoch 9/30\n",
      "300/300 [==============================] - 51s 169ms/step - loss: 0.0284 - accuracy: 0.9911 - val_loss: 0.0283 - val_accuracy: 0.9905\n",
      "Epoch 10/30\n",
      "300/300 [==============================] - 48s 159ms/step - loss: 0.0273 - accuracy: 0.9911 - val_loss: 0.0253 - val_accuracy: 0.9930\n",
      "Epoch 11/30\n",
      "300/300 [==============================] - 51s 171ms/step - loss: 0.0243 - accuracy: 0.9925 - val_loss: 0.0325 - val_accuracy: 0.9899\n",
      "Epoch 12/30\n",
      "300/300 [==============================] - 47s 156ms/step - loss: 0.0220 - accuracy: 0.9928 - val_loss: 0.0275 - val_accuracy: 0.9913\n",
      "Epoch 13/30\n",
      "300/300 [==============================] - 46s 153ms/step - loss: 0.0207 - accuracy: 0.9931 - val_loss: 0.0297 - val_accuracy: 0.9921\n",
      "Epoch 14/30\n",
      "300/300 [==============================] - 47s 158ms/step - loss: 0.0186 - accuracy: 0.9940 - val_loss: 0.0278 - val_accuracy: 0.9917\n",
      "Epoch 15/30\n",
      "300/300 [==============================] - 47s 157ms/step - loss: 0.0185 - accuracy: 0.9933 - val_loss: 0.0288 - val_accuracy: 0.9924\n",
      "Epoch 16/30\n",
      "300/300 [==============================] - 47s 156ms/step - loss: 0.0171 - accuracy: 0.9941 - val_loss: 0.0258 - val_accuracy: 0.9937\n",
      "Epoch 17/30\n",
      "300/300 [==============================] - 46s 154ms/step - loss: 0.0160 - accuracy: 0.9943 - val_loss: 0.0280 - val_accuracy: 0.9926\n",
      "Epoch 18/30\n",
      "300/300 [==============================] - 47s 156ms/step - loss: 0.0152 - accuracy: 0.9947 - val_loss: 0.0242 - val_accuracy: 0.9929\n",
      "Epoch 19/30\n",
      "300/300 [==============================] - 47s 157ms/step - loss: 0.0155 - accuracy: 0.9947 - val_loss: 0.0256 - val_accuracy: 0.9929\n",
      "Epoch 20/30\n",
      "300/300 [==============================] - 46s 154ms/step - loss: 0.0131 - accuracy: 0.9957 - val_loss: 0.0263 - val_accuracy: 0.9929\n",
      "Epoch 21/30\n",
      "300/300 [==============================] - 46s 153ms/step - loss: 0.0147 - accuracy: 0.9949 - val_loss: 0.0267 - val_accuracy: 0.9930\n",
      "Epoch 22/30\n",
      "300/300 [==============================] - 47s 156ms/step - loss: 0.0142 - accuracy: 0.9954 - val_loss: 0.0275 - val_accuracy: 0.9933\n",
      "Epoch 23/30\n",
      "300/300 [==============================] - 46s 154ms/step - loss: 0.0113 - accuracy: 0.9959 - val_loss: 0.0300 - val_accuracy: 0.9927\n",
      "Epoch 24/30\n",
      "300/300 [==============================] - 46s 153ms/step - loss: 0.0116 - accuracy: 0.9961 - val_loss: 0.0310 - val_accuracy: 0.9925\n",
      "Epoch 25/30\n",
      "300/300 [==============================] - 46s 154ms/step - loss: 0.0120 - accuracy: 0.9958 - val_loss: 0.0295 - val_accuracy: 0.9930\n",
      "Epoch 26/30\n",
      "300/300 [==============================] - 46s 154ms/step - loss: 0.0107 - accuracy: 0.9964 - val_loss: 0.0294 - val_accuracy: 0.9924\n",
      "Epoch 27/30\n",
      "300/300 [==============================] - 46s 154ms/step - loss: 0.0110 - accuracy: 0.9962 - val_loss: 0.0281 - val_accuracy: 0.9925\n",
      "Epoch 28/30\n",
      "300/300 [==============================] - 46s 154ms/step - loss: 0.0103 - accuracy: 0.9966 - val_loss: 0.0316 - val_accuracy: 0.9928\n"
     ]
    },
    {
     "data": {
      "text/plain": [
       "<tensorflow.python.keras.callbacks.History at 0x22f0b084c88>"
      ]
     },
     "execution_count": 28,
     "metadata": {},
     "output_type": "execute_result"
    }
   ],
   "source": [
    "model.compile(loss='categorical_crossentropy', optimizer = 'adam', metrics=['accuracy'])\n",
    "es = EarlyStopping(monitor='val_loss', patience=10)\n",
    "model.fit(xTrain, yTrain, validation_data = (xTest, yTest), epochs = 30, batch_size=200, callbacks=[es])"
   ]
  },
  {
   "cell_type": "code",
   "execution_count": null,
   "metadata": {},
   "outputs": [],
   "source": []
  },
  {
   "cell_type": "code",
   "execution_count": null,
   "metadata": {},
   "outputs": [],
   "source": []
  },
  {
   "cell_type": "code",
   "execution_count": null,
   "metadata": {},
   "outputs": [],
   "source": []
  },
  {
   "cell_type": "code",
   "execution_count": null,
   "metadata": {},
   "outputs": [],
   "source": []
  }
 ],
 "metadata": {
  "kernelspec": {
   "display_name": "Python 3",
   "language": "python",
   "name": "python3"
  },
  "language_info": {
   "codemirror_mode": {
    "name": "ipython",
    "version": 3
   },
   "file_extension": ".py",
   "mimetype": "text/x-python",
   "name": "python",
   "nbconvert_exporter": "python",
   "pygments_lexer": "ipython3",
   "version": "3.7.7"
  }
 },
 "nbformat": 4,
 "nbformat_minor": 4
}
