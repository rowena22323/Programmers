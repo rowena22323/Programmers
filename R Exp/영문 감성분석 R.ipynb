{
 "cells": [
  {
   "cell_type": "code",
   "execution_count": 5,
   "metadata": {},
   "outputs": [],
   "source": [
    "# 영문 텍스트 감정분석 : 감성사전을 이용해서 특정 텍스트 (paragraph) 가 어떠한 감정을 갖고 있는지 분석\n",
    "# 토픽 모델링 : 글이 주어져 있을 때 주어진 글로부터 주제를 찾는 문제\n",
    "# 감정 어휘사전 (AFINN(-5 ~ +5), LEXICON(긍부정), EmoLex(즐거움, 놀람...)) - 감정! 긍부정, 긍부정의 스케일 (수치화), 희노애락,"
   ]
  },
  {
   "cell_type": "code",
   "execution_count": 13,
   "metadata": {},
   "outputs": [
    {
     "name": "stderr",
     "output_type": "stream",
     "text": [
      "Warning message:\n",
      "\"package 'textdata' was built under R version 4.0.2\"\n",
      "Warning message:\n",
      "\"package 'tidyverse' was built under R version 4.0.2\"\n",
      "-- \u001b[1mAttaching packages\u001b[22m --------------------------------------- tidyverse 1.3.0 --\n",
      "\n",
      "\u001b[32m√\u001b[39m \u001b[34mggplot2\u001b[39m 3.3.2     \u001b[32m√\u001b[39m \u001b[34mpurrr  \u001b[39m 0.3.4\n",
      "\u001b[32m√\u001b[39m \u001b[34mtibble \u001b[39m 3.0.1     \u001b[32m√\u001b[39m \u001b[34mdplyr  \u001b[39m 1.0.0\n",
      "\u001b[32m√\u001b[39m \u001b[34mtidyr  \u001b[39m 1.1.0     \u001b[32m√\u001b[39m \u001b[34mstringr\u001b[39m 1.4.0\n",
      "\u001b[32m√\u001b[39m \u001b[34mreadr  \u001b[39m 1.3.1     \u001b[32m√\u001b[39m \u001b[34mforcats\u001b[39m 0.5.0\n",
      "\n",
      "Warning message:\n",
      "\"package 'ggplot2' was built under R version 4.0.2\"\n",
      "Warning message:\n",
      "\"package 'tibble' was built under R version 4.0.2\"\n",
      "Warning message:\n",
      "\"package 'tidyr' was built under R version 4.0.2\"\n",
      "Warning message:\n",
      "\"package 'readr' was built under R version 4.0.2\"\n",
      "Warning message:\n",
      "\"package 'purrr' was built under R version 4.0.2\"\n",
      "Warning message:\n",
      "\"package 'stringr' was built under R version 4.0.2\"\n",
      "Warning message:\n",
      "\"package 'forcats' was built under R version 4.0.2\"\n",
      "-- \u001b[1mConflicts\u001b[22m ------------------------------------------ tidyverse_conflicts() --\n",
      "\u001b[31mx\u001b[39m \u001b[34mdplyr\u001b[39m::\u001b[32mfilter()\u001b[39m masks \u001b[34mstats\u001b[39m::filter()\n",
      "\u001b[31mx\u001b[39m \u001b[34mdplyr\u001b[39m::\u001b[32mlag()\u001b[39m    masks \u001b[34mstats\u001b[39m::lag()\n",
      "\n"
     ]
    }
   ],
   "source": [
    "library(tidytext)\n",
    "library(textdata)\n",
    "library(tidyverse)"
   ]
  },
  {
   "cell_type": "code",
   "execution_count": 27,
   "metadata": {},
   "outputs": [],
   "source": [
    "# 감정어휘사전 기반의 감정분석 : 사전 등록된 단어와 단어에 따른 점수를 바탕으로 머신러닝 기법적용이 아니라 단순분석.\n",
    "# 감정어휘사전에 등록된 단어가 많을수록 좋겠지"
   ]
  },
  {
   "cell_type": "code",
   "execution_count": 16,
   "metadata": {},
   "outputs": [
    {
     "data": {
      "text/plain": [
       "     word               value        \n",
       " Length:2477        Min.   :-5.0000  \n",
       " Class :character   1st Qu.:-2.0000  \n",
       " Mode  :character   Median :-2.0000  \n",
       "                    Mean   :-0.5894  \n",
       "                    3rd Qu.: 2.0000  \n",
       "                    Max.   : 5.0000  "
      ]
     },
     "metadata": {},
     "output_type": "display_data"
    }
   ],
   "source": [
    "AFINN<-data.frame(get_sentiments(\"afinn\"))\n",
    "summary(AFINN)"
   ]
  },
  {
   "cell_type": "code",
   "execution_count": 19,
   "metadata": {},
   "outputs": [
    {
     "data": {
      "image/png": "[encoded data removed]",
      "text/plain": [
       "Plot with title \"Histogram of AFINN$value\""
      ]
     },
     "metadata": {
      "image/png": {
       "height": 420,
       "width": 420
      },
      "text/plain": {
       "height": 420,
       "width": 420
      }
     },
     "output_type": "display_data"
    }
   ],
   "source": [
    "hist(AFINN$value, breaks=20, xlim=c(-6, 6), col='blue', xlab=\"senti score\")"
   ]
  },
  {
   "cell_type": "code",
   "execution_count": 26,
   "metadata": {},
   "outputs": [
    {
     "data": {
      "text/plain": [
       "\n",
       "negative positive \n",
       "    4781     2005 "
      ]
     },
     "metadata": {},
     "output_type": "display_data"
    }
   ],
   "source": [
    "oplex<-data.frame(get_sentiments(\"bing\"))\n",
    "table(oplex$sentiment)"
   ]
  },
  {
   "cell_type": "code",
   "execution_count": 31,
   "metadata": {},
   "outputs": [
    {
     "data": {
      "text/plain": [
       "             sentiment\n",
       "word          anger anticipation disgust fear joy negative positive sadness\n",
       "  abacus          0            0       0    0   0        0        0       0\n",
       "  abandon         0            0       0    1   0        1        0       1\n",
       "  abandoned       1            0       0    1   0        1        0       1\n",
       "  abandonment     1            0       0    1   0        1        0       1\n",
       "  abba            0            0       0    0   0        0        1       0\n",
       "  abbot           0            0       0    0   0        0        0       0\n",
       "             sentiment\n",
       "word          surprise trust\n",
       "  abacus             0     1\n",
       "  abandon            0     0\n",
       "  abandoned          0     0\n",
       "  abandonment        1     0\n",
       "  abba               0     0\n",
       "  abbot              0     1"
      ]
     },
     "metadata": {},
     "output_type": "display_data"
    }
   ],
   "source": [
    "emolex<- data.frame(get_sentiments(\"nrc\"))\n",
    "head(table(emolex))"
   ]
  },
  {
   "cell_type": "code",
   "execution_count": 32,
   "metadata": {},
   "outputs": [
    {
     "name": "stderr",
     "output_type": "stream",
     "text": [
      "Warning message:\n",
      "\"package 'tm' was built under R version 4.0.2\"\n",
      "Loading required package: NLP\n",
      "\n",
      "\n",
      "Attaching package: 'NLP'\n",
      "\n",
      "\n",
      "The following object is masked from 'package:ggplot2':\n",
      "\n",
      "    annotate\n",
      "\n",
      "\n"
     ]
    }
   ],
   "source": [
    "library(tm)\n",
    "library(stringr)\n",
    "library(dplyr)"
   ]
  },
  {
   "cell_type": "code",
   "execution_count": 35,
   "metadata": {},
   "outputs": [
    {
     "data": {
      "text/plain": [
       "<<VCorpus>>\n",
       "Metadata:  corpus specific: 0, document level (indexed): 0\n",
       "Content:  documents: 33"
      ]
     },
     "metadata": {},
     "output_type": "display_data"
    }
   ],
   "source": [
    "my.text.location<-\"papers\"\n",
    "mypaper<-VCorpus(DirSource(my.text.location))\n",
    "mypaper"
   ]
  },
  {
   "cell_type": "code",
   "execution_count": 37,
   "metadata": {},
   "outputs": [
    {
     "data": {
      "text/html": [
       "<strong>$content</strong> = 'Does deliberative setting, online versus face-to-face, influence citizens\\' experiences? Are certain factors differently influential in one setting than in the other? We draw on a nationally representative survey and identify citizens who participated in both online and face-to-face settings (n = 82). We use structural equation modeling to first assess the effects that deliberation format has on the interrelationship between such crucial factors as motivations to deliberate, perceived diversity, elicited emotions, enhanced understanding, and goal evaluation. We later employ network analysis to ask which factor or which cluster of factors is more central to an overall experience in which format. Relying on citizens who participated in both settings and using within-subject analyses, we assure that the previously unnoted findings are attributable to the format per se rather than to individual characteristics. We discuss the theoretical, practical and methodological implications.'"
      ],
      "text/latex": [
       "\\textbf{\\$content} = 'Does deliberative setting, online versus face-to-face, influence citizens\\textbackslash{}' experiences? Are certain factors differently influential in one setting than in the other? We draw on a nationally representative survey and identify citizens who participated in both online and face-to-face settings (n = 82). We use structural equation modeling to first assess the effects that deliberation format has on the interrelationship between such crucial factors as motivations to deliberate, perceived diversity, elicited emotions, enhanced understanding, and goal evaluation. We later employ network analysis to ask which factor or which cluster of factors is more central to an overall experience in which format. Relying on citizens who participated in both settings and using within-subject analyses, we assure that the previously unnoted findings are attributable to the format per se rather than to individual characteristics. We discuss the theoretical, practical and methodological implications.'"
      ],
      "text/markdown": [
       "**$content** = 'Does deliberative setting, online versus face-to-face, influence citizens\\' experiences? Are certain factors differently influential in one setting than in the other? We draw on a nationally representative survey and identify citizens who participated in both online and face-to-face settings (n = 82). We use structural equation modeling to first assess the effects that deliberation format has on the interrelationship between such crucial factors as motivations to deliberate, perceived diversity, elicited emotions, enhanced understanding, and goal evaluation. We later employ network analysis to ask which factor or which cluster of factors is more central to an overall experience in which format. Relying on citizens who participated in both settings and using within-subject analyses, we assure that the previously unnoted findings are attributable to the format per se rather than to individual characteristics. We discuss the theoretical, practical and methodological implications.'"
      ],
      "text/plain": [
       "$content\n",
       "[1] \"Does deliberative setting, online versus face-to-face, influence citizens' experiences? Are certain factors differently influential in one setting than in the other? We draw on a nationally representative survey and identify citizens who participated in both online and face-to-face settings (n = 82). We use structural equation modeling to first assess the effects that deliberation format has on the interrelationship between such crucial factors as motivations to deliberate, perceived diversity, elicited emotions, enhanced understanding, and goal evaluation. We later employ network analysis to ask which factor or which cluster of factors is more central to an overall experience in which format. Relying on citizens who participated in both settings and using within-subject analyses, we assure that the previously unnoted findings are attributable to the format per se rather than to individual characteristics. We discuss the theoretical, practical and methodological implications.\"\n"
      ]
     },
     "metadata": {},
     "output_type": "display_data"
    }
   ],
   "source": [
    "mypaper[[1]][1] # 코퍼스 내의 내용 확인 "
   ]
  },
  {
   "cell_type": "code",
   "execution_count": 41,
   "metadata": {},
   "outputs": [
    {
     "data": {
      "text/html": [
       "<style>\n",
       ".list-inline {list-style: none; margin:0; padding: 0}\n",
       ".list-inline>li {display: inline-block}\n",
       ".list-inline>li:not(:last-child)::after {content: \"\\00b7\"; padding: 0 .5ex}\n",
       "</style>\n",
       "<ol class=list-inline><li>'Does deliberative setting, online versus face-to-face, influence citizens\\' experiences? Are certain factors differently influential in one setting than in the other? We draw on a nationally representative survey and identify citizens who participated in both online and face-to-face settings (n = 82). We use structural equation modeling to first assess the effects that deliberation format has on the interrelationship between such crucial factors as motivations to deliberate, perceived diversity, elicited emotions, enhanced understanding, and goal evaluation. We later employ network analysis to ask which factor or which cluster of factors is more central to an overall experience in which format. Relying on citizens who participated in both settings and using within-subject analyses, we assure that the previously unnoted findings are attributable to the format per se rather than to individual characteristics. We discuss the theoretical, practical and methodological implications.'</li><li>'The debate on late night comedy has been inconclusive, with some scholars arguing that this genre increases political knowledge, and others seeing late night comedy as harmful to effective citizenry. We add to the debate and to the research on media effects more generally, by proposing a model that measures political knowledge. The model utilizes item response theory (IRT) to account for individual characteristics, knowledge item difficulty, and response format that influences the likelihood of providing a correct response. Drawing on the 2004 National Annenberg Election Study, we employ this model to test knowledge gain from late night comedy. Using a meta-analysis across 35 political knowledge items, we show that late night comedy increases knowledge, but primarily on easy political items that have fewer correct response options, and mainly among the inattentive citizens. We discuss theoretical implications and provide practical suggestions for scholarship on media effects.'</li><li>'We draw on a nationally representative sample of American adults who reported having participated in face-to-face deliberation (N = 756). We use structural equation modeling to first ask whether perceived political diversity differently influences follow-up engagement in various civic or political activities among strong, weak, and moderate ideologues. We also examine the processes - cognitive and affective - that lead from perceived diversity to follow-up engagement, and assess whether these processes depend on ideological strength. We find that follow-up political engagement among strong ideologues is primarily affected by their prior civic and political participation. Weak ideologues, in turn, are mobilized through cognitive reactions to perceived diversity, and moderates through affective reactions. Our results add to the debate on deliberative versus participatory democracy, suggesting that research should more closely attend to individual characteristics and underlying mechanisms.'</li><li>'Ambivalence is a widely experienced psychological state, but inter-disciplinary studies, to a certain extent, define and conceptualize ambivalence independently. In spite of its lack of clarity, ambivalence has become an increasingly popular concept, utilized in hypotheses concerning a variety of social phenomena. This study provides an overview of extant studies on ambivalence, and summarizes the similarities and differences in how practitioners of social psychology, political science, and sociology have adopted the concept. A survey of literature from the three fields suggests four distinctive definitions of ambivalence or antecedents that have caused ambivalence: (1) co-activation of both positivity and negativity; (2) co-emergence of conflicting attitudes; (3) co-constraint of conflicting values; and (4) co-existence of conflicting reference groups. Some potential problems, such as inconsistent findings and lack of relevant measures or indices are indicated, and alternative methods are suggested. The paper concludes by suggesting a more sophisticated and precise integrative model of ambivalence.'</li><li>'Political consumerism has recently generated academic interest among political participation researchers. While some scholars underscore political consumerism as an emerging civic and political engagement, others discredit its democratic potentials. Drawing on two national survey samples in 2002 that measured both boycotting and ‘buycotting’, this study examines political consumers\\' demographic backgrounds, socio-political attitudes, issue orientations and their status of civic and political participation. Findings suggest that: (1) boycotters and buycotters should be distinguished because their demographic backgrounds are substantially different; (2) political consumers possess post-material values and are mainly interested in lifestyle-oriented social issues; and (3) political consumers are more active political participants. Theoretical implications of the findings and an agenda for future studies are also discussed.'</li><li>'Party affiliation has been identified as the most powerful factor explaining citizens\\' political attitudes and voting decisions. However, history provides several examples of Black Democratic candidates who failed to garner votes from White Democrats during biracial elections. Focusing on perceived concern about Black favoritism and political ambivalence, this study investigates why White citizens’ party affiliation loses its influence on candidate evaluation and vote choice in biracial political contests. Relying on the 2008 National Presidential Election between Barack Obama and John McCain as an analytic case study, this research provides evidence that White citizens’ concern about Black favoritism in biracial political contests is a consequential factor in (a) reducing favorability toward a Black political candidate among White Democrats and Independents, (b) creating political ambivalence toward the presidential candidate among White Democrats, and thereby (c) increasing the probability of cross-party voting and nonvoting among White Democrats.'</li><li>'This study presents automated methods for predicting valence and quantifying valenced thoughts of a text. First, it examines whether Wordscores, developed by Laver, Benoit, and Garry (2003), can be adapted to reliably predict the valence of open-ended responses in a survey about bioethical issues in genetics research, and then tests a complementary and novel technique for coding the number of valenced thoughts in open-ended responses, termed Affective Intonation. Results show that Wordscores successfully predicts the valence of brief and grammatically imperfect open-ended responses, and Affective Intonation achieves comparable performance to human coders when estimating number of valenced thoughts. Both Wordscores and Affective Intonation have promise as reliable, effective, and efficient methods when researchers content-analyze large amounts of textual data systematically.'</li><li>'Although there has been much speculation regarding the strengths and weaknesses of face-to-face versus online deliberative settings, no studies have systematically compared the two. Drawing on a national sample of Americans who reported deliberating face-to-face and/or online, we examine these two deliberative settings with regard to the participants, the motivations, the process, and the effects. Our findings, although tentative, suggest that the two settings are distinct in several important ways. Relative to face-to-face deliberation, online deliberation over-represents young, male, and white users, attracts more ideological moderates, generates more negative emotions, and is less likely to result in consensus and political action. At the same time, online deliberators perceived online settings as more politically and racially diverse. Implications for understanding the democratic potential of different forms of deliberation are discussed.'</li><li>'Most Racial Studies primarily focus on African Americans without paying attention to nonblack minorities, and it fails to capture recent increase in racial diversity. Based on previous theories and empirical findings, we propose a new model, minority comparison model, which accounts for theoretical shortcomings in Racial Studies. This model (1) captures psychological processes that compare blacks and nonblacks, and (2) explores the effects of whites’ multiracial evaluation on racialized policy preferences. Drawing on a 2008 national representative sample, this study finds that whites who have positive stereotype of nonblacks (e.g., Hispanics and/or Asians) but negative stereotype of blacks show substantially higher symbolic racism and stronger opposition to Affirmative Action, whereas whites who have positive stereotype of blacks but negative stereotypes of nonblacks have stronger opposition to expansive immigration policy. Our study offers new ways of understanding and accounting for symbolic racism in modern context, and shows how whites’ preferences in racialized policies are influenced by multiracial evaluation.'</li><li>'With the advent of social network sites (SNSs), people can efficiently maintain preexisting social relationships and make online friendships without offline encounters. While such technological features of SNSs hold a variety of potential for individual and collective benefits, some scholars warn that use of SNSs might lead to socially negative consequences, such as social isolation, erosion of social cohesion, or SNS addiction. This study distinguishes types of SNS relationships, and investigates their relationships with social isolation, interpersonal trust, and SNS addiction. We classify SNS relationships into two types: (a) social relationships based on reciprocity between a user and his/her friends, and (b) parasocial relationships in which an ordinary user is aware of activities of a celebrity (e.g., famous actors, athletes, and others) but not vice versa. Based on achievements in studies of media effect and social psychology, we constructed a set of hypotheses, and tested them using a subsample of SNS users drawn from representative survey data in South Korea. We found that dependency on parasocial relationships is positively related with loneliness but negatively correlated with interpersonal distrust, while dependency on social relationship is negatively correlated with loneliness but positively related with trust. However, more dependency on both social and parasocial relationships are positively related with SNS addiction. Implications based on findings are also discussed.'</li><li>'It is easy to trace and compile a record of individuals\\' online activities, and cases of online privacy infringement (i.e., improper use of personal information) have been reported in advanced societies. Based on existing risk perception research, this study examines comparative optimism regarding online privacy infringement (i.e., users tend to believe privacy infringement is less likely to happen to oneself than to others) and its antecedents and consequences. Relying on large-scale online survey data in South Korea (N = 2028), this study finds: (1) comparative optimism is higher when the comparison targets are younger; (2) online knowledge and maternalistic personality traits increase comparative optimism mainly by influencing perceived risk to others, while prior experience of privacy infringement increases comparative optimism mainly by influencing perceived personal risk; and (3) comparative optimism is related to both greater adoption of privacy-protective behaviors and a higher level of support for government policies to restrict the use of online information. Theoretical and practical implications of the findings, along with potential limitations, are discussed.'</li><li>'Relying on Gudykunst\\'s cultural variability in communication (CVC) framework and culture-specific facial expressions of emotion, we examined how people\\'s use of emoticons varies cross-culturally. By merging emoticon usage patterns on Twitter with Hofstede\\'s national culture scores and national indicators across 78 countries, this study found that people within individualistic cultures favor horizontal and mouth-oriented emoticons like :), while those within collectivistic cultures favor vertical and eye-oriented emoticons like ^_^. Our study serves to demonstrate how recent big data-driven approaches can be used to test research hypotheses in cross-cultural communication effectively from the methodological triangulation perspective. Implications and limitations regarding the findings of this study are also discussed.'</li><li>'c(\"BACKGROUND AND AIMS:\", \"Little is known about the extent depression adds to the costs of treatment for physical health conditions. This study examined the paths and the extent to which depression in conjunction with a physical health problem is associated with an increase in healthcare expenditures and how that is different between younger and older adults.\", \"METHODS:\", \"Data from the 2007 Medical Expenditure Panel Survey (MEPS) were analyzed. Depression status and physical health conditions were identified through ICD-9 codes. The multiple group structural equation modeling (SEM) was employed to examine the moderated mediation effects.\", \\n\"RESULTS:\", \"Approximately 11% of adults had clinical depression. The multiple group SEM for both younger and older adult groups supports not only a direct effect of depression on expenditures but also an indirect effect via comorbid health conditions. Furthermore, the indirect effect was significantly more prominent among older respondents than among younger ones, indicating significant moderated mediation by age.\", \"CONCLUSIONS:\", \"Depression has greater effects on comorbid health conditions and an increase in total healthcare expenditures through comorbid conditions among older adults. Findings of this study suggest that proper detection and treatment of depression is beneficial in reducing overall healthcare expenditures, especially among older adults.\"\\n)'</li><li>'This study investigates why ordinary online users highly concerned about the misuse of personal information do not adopt privacy-protective behaviors, or even engage in risky behaviors, on the Internet. Given that people have few chances to directly experience privacy infringement and tend to be unfamiliar with technical terms, their opinions as reflected in conventional polls tend to be instantaneous reactions to survey questionnaires, lacking thoughtfulness. By adopting a counterargument experimental technique, this study produced three important findings: (1) people’s opinions about online privacy are swayed after being presented with a message containing a counterargument; (2) this persuasion effect is pronounced among people with a low level of online knowledge or who assess the presented message’s argument as strong; and (3) the privacy paradox is found in conventional polls but disappears in counterargument conditions. These findings imply that opinions concerning online privacy should not be estimated through conventional polling. Rather, alternative polls (e.g., deliberative polls) should be adopted for online privacy policy-making.'</li><li>'This study investigates the relationship between selective self-presentation and online life satisfaction, and how this relationship is influenced by respondents’ perceptions of ‘‘self’’ (operationalized by ‘‘self-esteem’’) and ‘‘others’’ (operationalized by ‘‘social trust’’). Relying on survey data from 712 Korean online users, two important findings were detected in our study. First, the positive relationship between selective self-presentation and online life satisfaction becomes more prominent among people with low self-esteem compared to those with high self-esteem, and second, this positive relationship is enhanced among people with high levels of social trust compared to those with low trust levels. Theoretical and practical implications of our findings as well as potential limitations are discussed.'</li><li>'This study employs a uses and gratifications approach to explore how social network sites (SNS) users’ attachment style influences SNS motives, SNS use, and related psychological outcomes, as well as the interrelationships of these factors. By modifying preexisting attachment styles, users were classified into four styles: (1) fearful-avoidant, (2) dismissive-avoidant, (3) secure, and (4) anxious-ambivalent. Findings show SNS use and SNS-related outcomes differ across attachment style groups, although SNS motive does not; and attachment style moderates the influences of SNS motive and SNS use on psychological outcomes. These findings imply potential consequences of SNS use can substantially differ depending on users’ attachment style.'</li><li>'With Internet service providers (ISPs) increasingly demanding personal information to develop personalized services, people have become more vulnerable to privacy infringement. As a way to protect individuals’ privacy, industrialized countries have implemented a “notice-and-consent” requirement, meaning an ISP must obtain users’ consent to collect personal information in the course of the ISP\\'s business. Drawing on prospect theory and earlier work on information privacy and behavioral science, in this study, we administered an online survey experiment to test whether the giving of consent differs between ‘opt-in’ and ‘opt-out’ frames. The framing effect was found to be moderated by personal information type, people\\'s attitudes toward privacy, and people\\'s privacy infringement experience. The results indicate that the opt-in frame better protects users’ information privacy, and the framing effect is magnified when the targeted information concerns online activities, when users have weakly held privacy attitudes, and when users have less experience of privacy infringement.'</li><li>'c(\"Recent political communication scholarship has examined whether social network sites (SNSs) contribute to political participation. Regarding SNSs’ mobilization effect, however, mixed results have been reported. This study, relying on representative survey data from the 2012 South Korean general election, investigates interplay between three factors influencing electoral participation: (1) type of SNS use (i.e., political versus nonpolitical use), (2) user characteristics (i.e., past voters versus nonvoters), and (3) directionality of SNS messages (i.e., messages received from versus those sent to SNS friends). Results indicate SNSs’ mobilization effect emerges when conditions are met. Voting intention is increased among past nonvoters\", \\n\"who use SNSs through political messages received from their SNS friends. Theoretical and practical implications of SNSs’ mobilization effect are discussed.\")'</li><li>'Although many studies have investigated citizens\\' attitudes toward polls and the political consequences, there have been no studies examining the effects of social network site (SNS) users\\' opinion environments on their poll skepticism. Based on prior studies on poll skepticism, we examine the relationship between perceived SNS opinion environments, poll skepticism, perceived concerns over the negative influence of the polls, and voting intention in an upcoming election. Using the survey data of the 2012 South Korean General Election, this study found that if the published polls are against respondents\\' political position, their homophilous SNS opinion environments promote poll skepticism, and augmented poll skepticism leads to concerns over the negative influence of the polls on other voters, which in turn increases voting intention.'</li><li>'On the Internet, the line between news and opinion becomes blurred in terms of content and form. In this sense, the processes of news diffusion on the Internet and online public opinion formation are integrated. We select one Korean example about the private tweet of a judge about government SNS regulation and analyze citation networks from one news/opinion to another news/opinion. By relying on social network analysis (SNA) methods, we examine how news/opinions diffuse and how they interact and influence each other’s ideological frame within agencies sharing the same ideology and between agencies whose ideologies contrast. Our results show that public discourse on the Internet is clearly ‘polarized’ and ‘fragmented’ along political ideological lines. Additionally, our findings show that the winner is the conservative bloc because it succeeds in achieving within-bloc solidarity and ensures the resonance of news frames with the cultural values of Korean society. Implications for our findings in modern democracy are also discussed.'</li><li>'Despite the proliferation of studies on emotion, little attention has been paid to the effects of discrete emotion on political participation. Using a representative survey conducted on a sample of South Korean citizens in the aftermath of the Sewol ferry accident, the current survey explored how anger and sadness, as well as the ways people express those emotions, influence the orientation of their response in social environments and, ultimately, their voting intention. The results partially supported the discrete effects of sadness and anger in eliciting reactions of approach or avoidance. Anger was found to provoke an approach action tendency in independent voters and supporters of the opposition, while also eliciting an avoidance action tendency with a varying effect size across all three groups of respondents. Sadness also prompted an approach action tendency in independents and supporters of the incumbent party, while it manifested a negative association with the avoidance action tendency in supporters of the opponent party. An interpretation of the findings and proposed directions for future research are presented.'</li><li>'c(\"With the wide diffusion of social media like YouTube in the world, it becomes much easier to access foreign cultural products, which facilitates cross-cultural consumption of media content. Despite the rapid growth of cross-cultural consumption online, there is a dearth of large-scale studies examining how cultural products originated from certain culture are consumed and enjoyed among users of different cultures. Three data sets are used in the study, namely, (1) users’ online activities on Korean Pop (K-pop) music videos on YouTube crawled via open Application Programming Interface, (2) Hofstede’s five-dimensional model of national culture, and (3) official statistics gathered by World Bank. By combining three data sets, this study investigates how K-pop music videos are consumed across a variety of cultures. Based on prior studies examining the relationship between cultural distance and export/import of cultural goods, this study extracted two seemingly contrasting\", \\n\"hypotheses, that is, (1) cultural proximity hypothesis, emphasizing cultural similarity as a main motive for cross-cultural consumption and (2) cultural exoticism hypothesis, highlighting cultural difference driving cross-cultural consumption. Results show that K-pop music video consumption is highest among countries both whose cultures are very similar to Korean culture and whose cultures are very different, indicating that both hypotheses are empirically supported. Theoretical and practical implications of the findings are also discussed.\"\\n)'</li><li>'Numerous organization scholars point out that trust is crucial for well-functioning orga-nizations. However, trust in organizational settings could differ according to the objectsof trust. This study compares two conceptually different models: main-effect model andmediation-effect model. The main-effect model assumes that both interpersonal trust andinstitutional trust promote organizational commitment independently, but the mediation-effect model assumes that institutional trust is cultivated by interpersonal trust andincreases organizational commitment. The results of structural equation modeling (SEM)show that the mediation-effect model fits better than the main-effect model and that thestructural coefficients of the mediation-effect model are neatly interpreted by social sci-entific studies of trust. This study’s findings have two important implications: First, thereseems to be sequential order between different types of trust in organizational settings.Second, interpersonal trust promotes organizational commitment only if it facilitates insti-tutional trust, providing an explanation for the inconsistent findings of previous studies.'</li><li>'This study employs a cross-cultural perspective to examine how local audiences perceive and enjoy foreign dramas and how this psychological process differs depending on the cultural distance between the media and the viewing audience. Using a convenience sample of young Korean college students, this study, as predicted by cultural discount theory, shows that cultural distance decreases Korean audiences’ perceived identification with dramatic characters, which erodes their enjoyment of foreign dramas. Unlike cultural discount theory, however, cultural distance arouses Korean audiences’ perception of novelty, which heightens their enjoyment of foreign dramas. This study discusses the theoretical and practical implications of these findings, as well as their potential limitations.'</li><li>'Video-sharing social media like YouTube provide access to diverse cultural products from all over the world, making it possible to test theories that the Web facilitates global cultural convergence. Drawing on a daily listing of YouTube\\'s most popular videos across 58 countries, we investigate the consumption of popular videos in countries that differ in cultural values, language, gross domestic product, and Internet penetration rate. Although online social media facilitate global access to cultural products, we find this technological capability does not result in universal cultural convergence. Instead, consumption of popular videos in culturally different countries appears to be constrained by cultural values. Cross-cultural convergence is more advanced in cosmopolitan countries with cultural values that favor individualism and power inequality.'</li><li>'This study examined how social networking site (SNS) users\\' social comparison orientations indirectly affect their psychological well-being via four types of social comparison-based emotions. Based on national survey data, we found that social comparison-based emotions mediated the relationships between Facebook users\\' social comparison orientations and psychological well-being. If Facebook users have a stronger ability-based social comparison orientation, their psychological well-being decreases via upward contrastive emotions (e.g., depression and envy) toward the comparison other; however, it increases via downward assimilative emotions (e.g., worry and sympathy). By contrast, if Facebook users have a stronger opinion-based social comparison orientation, their psychological well-being increases via increased feelings of upward assimilative emotions (e.g., optimism and inspiration) or decreased feelings of upward contrastive emotions (e.g., depression and envy) towards the comparison other. These results indicate that the effects of social comparison on psychological well-being on SNSs become positive or negative depending on whether the users\\' social comparison orientation emphasized ability or opinion, and the type of emotions triggered by the comparison. We provide theoretical discussions and practical suggestions for psychologically healthy SNS use based on these empirical findings. '</li><li>'c(\"Political communication scholarship has investigated the mobilization effect of citizens’ political discursive behaviors during elections. With the recent advent of SNSs Social Networking Sites (SNSs) in the political communication environment, citizens’ discursive behaviors on SNSs have received increasing academic attention. This study examines (1) whether offline political talk mediates the relationship between political self-efficacy and election campaign activity (a type of political participation); (2) whether its mediation effect differs from that of SNS political talk; and (3) how those mediation effects vary according to citizens’ endorsed political ideologies. The results reveal that the effects of both offline and SNS political talk are statistically significant among conservatives, liberals, and moderates. Interestingly, the mediation effect of SNS political talk was substantially larger among liberals than among conservatives or moderates (i.e. a moderated mediation effect), while the effect of offline political\", \\n\"talk was consistent across all three ideological groups. This study demonstrates that the electoral mobilization effect of SNSs is ideology-dependent, and is particularly based on the mismatch between SNS users’ political ideology and the current government’s political orientation. Implications and limitations of the study are also discussed\")'</li><li>'c(\"This study investigated whether individuals with different socioeconomic status (SES) should be provided differently tailored health messages to promote healthy dietary behaviour (HDB). Prior research has suggested that people with different SESs tend to exhibit different types of beliefs about health, but it remains unclear how SES interacts with these beliefs to influence health outcomes. To better understand the differences in HDB between high-and low-SES populations and propose effective intervention strategies, we examined (i) how SES is associated with HDB, (ii) how internal health locus of control (HLC) and powerful others HLC are associated with HDB, and (iii) how SES interacts with internal and powerful others HLC to influence HDB. Using data from the Annenberg National Health Communication Survey, collected from 2005 to 2012 (N = 6,262) in the United States, hierarchical multiple regression analyses were conducted. Education level was found to be positively associated \", \\n\"with HDB, while income level was not. Both internal and powerful others HLC beliefs were positively associated with HDB. The positive relationship between internal HLC and HDB strengthened as the level of education and income increased, whereas the positive relationship between powerful others HLC and HDB weakened as respondents’ education level increased. These results suggest that the design and delivery of communication messages should be tailored to populations’ specific SES and HLC beliefs for effective public health interventions. For example, messages enhancing internal HLC (e.g. providing specific skills and knowledge about health behaviours) might be more helpful for the richer and more-educated, while messages appealing to one’s powerful others HLC beliefs (e.g. advice on health lifestyles given by well-known health professionals) might be more effective for less-educated people.\"\\n)'</li><li>'The present study advances the understanding of how medical drama viewing influences healthy lifestyle behaviors (e.g., smoking, exercising, and consuming vegetables) by examining the role of the health locus of control (HLOC) beliefs and education level. An analysis of nationally representative data reveals that watching medical dramas is positively associated with chance and powerful others’ HLOC beliefs. In addition, healthy lifestyle behaviors are positively associated with the internal HLOC belief and are negatively associated with the chance and powerful others’ HLOC beliefs. Research findings demonstrate that there are indirect effects of medical drama viewing on these behaviors via chance and powerful others’ HLOC beliefs. The indirect effect through the powerful others’ HLOC belief is also contingent on the education level. The implications for the role of HLOC beliefs and education level in terms of the effects of medical dramas on health-promoting behaviors are discussed.'</li><li>'This study presents an automated content analysis of 2,379 abstracts of research articles published in four major journals from 1997 to 2017. A total of 45 topics were extracted using the structural topic model (STM), a statistical text analytic method that allows us to infer latent topics from abstracts and to conduct statistical significance tests regarding the relationships between topic prevalence and abstract features. We found that while some topics (e.g., public health or online social movement) demonstrate increasing trends, others (e.g., third-person effect and communication strategies) reveal decreasing trends; authors in non-US-based institutions are more likely than those affiliated with US-based institutions to focus on the societal consequences of media (e.g., agenda-setting effect or public deliberation). Additionally, interesting relationships were found between topic prevalence and the number of article authors (e.g., popular topics among multi-author papers are lab-based experiments or large-scale campaign studies). Finally, topic-journal associations were identified.'</li><li>'We argue that the influence of presumed influence (IPI) model (Gunther &amp; Storey, 2003) should be extended through an additional interaction term between the presumed effects of media on “others” (PME3) and the “self” (PME1). Doing so would enable testing of whether individuals who perceive a mutually shared influence of the media show stronger support for censorship. The IPI model does not suffer from the methodological limitations of the conventional third-person effect literature relying on other?self disparities (i.e., PME3?PME1), but it focuses entirely on the main effect of PME3; thus, insufficient attention is paid to the role of PME1 in explaining the influence of presumed influence. To validate this Extended IPI model, and determine how it compares with other models, we compared individuals’ presumptions about the effects of fake news on others (PFNE3) and themselves (PFNE1), and how PFNE3 and PFNE1 interact to influence individuals’ support for policies prohibiting the potential negative effects of fake news. We found that individuals’ support for government interventions and sanctions for fake news creators and sharers was stronger if they believed that fake news influenced both other people and themselves. The theoretical and methodological implications of the Extended IPI model are discussed.'</li><li>'This study investigated citizens’ ambivalence toward female politicians and how valenced information about the politician helps them resolve their ambivalence, making them form polarized attitudes toward the candidate. Our study’s participants felt stronger ambivalence toward a female candidate than a male candidate; those feeling stronger ambivalence reported more one-sided thoughts about and more extreme evaluation of the candidate, but only when the candidate was a woman. Citizens were also more easily persuaded by valenced information to resolve their ambivalence about the female candidate. On the basis of our findings, we discuss the politico-psychological process underlying citizens’ ambivalence toward female politicians and how it is related with the gender-equal democracy.'</li><li>'Public health officials (PHOs) are responsible for providing trustworthy information during a public health crisis; however, there is little research on how the public behaves when their expectations for such information are violated. Drawing on media dependency theory and source credibility research as our primary theoretical framework, we tested how credibility of information from PHOs is associated with people’s reliance on a particular communication channel in the context of the 2015 Middle East Respiratory Syndrome (MERS) outbreak in South Korea. Using nationally representative data (N = 1036) collected during the MERS outbreak, we found that less credible information from PHOs led to more frequent use of online news, interpersonal networks, and social media for acquiring MERS-related information. However, credibility of information from PHOs was not associated with the use of television news or print newspapers. The theoretical and practical implications of our results on communication channels usage are discussed.'</li></ol>\n"
      ],
      "text/latex": [
       "\\begin{enumerate*}\n",
       "\\item 'Does deliberative setting, online versus face-to-face, influence citizens\\textbackslash{}' experiences? Are certain factors differently influential in one setting than in the other? We draw on a nationally representative survey and identify citizens who participated in both online and face-to-face settings (n = 82). We use structural equation modeling to first assess the effects that deliberation format has on the interrelationship between such crucial factors as motivations to deliberate, perceived diversity, elicited emotions, enhanced understanding, and goal evaluation. We later employ network analysis to ask which factor or which cluster of factors is more central to an overall experience in which format. Relying on citizens who participated in both settings and using within-subject analyses, we assure that the previously unnoted findings are attributable to the format per se rather than to individual characteristics. We discuss the theoretical, practical and methodological implications.'\n",
       "\\item 'The debate on late night comedy has been inconclusive, with some scholars arguing that this genre increases political knowledge, and others seeing late night comedy as harmful to effective citizenry. We add to the debate and to the research on media effects more generally, by proposing a model that measures political knowledge. The model utilizes item response theory (IRT) to account for individual characteristics, knowledge item difficulty, and response format that influences the likelihood of providing a correct response. Drawing on the 2004 National Annenberg Election Study, we employ this model to test knowledge gain from late night comedy. Using a meta-analysis across 35 political knowledge items, we show that late night comedy increases knowledge, but primarily on easy political items that have fewer correct response options, and mainly among the inattentive citizens. We discuss theoretical implications and provide practical suggestions for scholarship on media effects.'\n",
       "\\item 'We draw on a nationally representative sample of American adults who reported having participated in face-to-face deliberation (N = 756). We use structural equation modeling to first ask whether perceived political diversity differently influences follow-up engagement in various civic or political activities among strong, weak, and moderate ideologues. We also examine the processes - cognitive and affective - that lead from perceived diversity to follow-up engagement, and assess whether these processes depend on ideological strength. We find that follow-up political engagement among strong ideologues is primarily affected by their prior civic and political participation. Weak ideologues, in turn, are mobilized through cognitive reactions to perceived diversity, and moderates through affective reactions. Our results add to the debate on deliberative versus participatory democracy, suggesting that research should more closely attend to individual characteristics and underlying mechanisms.'\n",
       "\\item 'Ambivalence is a widely experienced psychological state, but inter-disciplinary studies, to a certain extent, define and conceptualize ambivalence independently. In spite of its lack of clarity, ambivalence has become an increasingly popular concept, utilized in hypotheses concerning a variety of social phenomena. This study provides an overview of extant studies on ambivalence, and summarizes the similarities and differences in how practitioners of social psychology, political science, and sociology have adopted the concept. A survey of literature from the three fields suggests four distinctive definitions of ambivalence or antecedents that have caused ambivalence: (1) co-activation of both positivity and negativity; (2) co-emergence of conflicting attitudes; (3) co-constraint of conflicting values; and (4) co-existence of conflicting reference groups. Some potential problems, such as inconsistent findings and lack of relevant measures or indices are indicated, and alternative methods are suggested. The paper concludes by suggesting a more sophisticated and precise integrative model of ambivalence.'\n",
       "\\item 'Political consumerism has recently generated academic interest among political participation researchers. While some scholars underscore political consumerism as an emerging civic and political engagement, others discredit its democratic potentials. Drawing on two national survey samples in 2002 that measured both boycotting and ‘buycotting’, this study examines political consumers\\textbackslash{}' demographic backgrounds, socio-political attitudes, issue orientations and their status of civic and political participation. Findings suggest that: (1) boycotters and buycotters should be distinguished because their demographic backgrounds are substantially different; (2) political consumers possess post-material values and are mainly interested in lifestyle-oriented social issues; and (3) political consumers are more active political participants. Theoretical implications of the findings and an agenda for future studies are also discussed.'\n",
       "\\item 'Party affiliation has been identified as the most powerful factor explaining citizens\\textbackslash{}' political attitudes and voting decisions. However, history provides several examples of Black Democratic candidates who failed to garner votes from White Democrats during biracial elections. Focusing on perceived concern about Black favoritism and political ambivalence, this study investigates why White citizens’ party affiliation loses its influence on candidate evaluation and vote choice in biracial political contests. Relying on the 2008 National Presidential Election between Barack Obama and John McCain as an analytic case study, this research provides evidence that White citizens’ concern about Black favoritism in biracial political contests is a consequential factor in (a) reducing favorability toward a Black political candidate among White Democrats and Independents, (b) creating political ambivalence toward the presidential candidate among White Democrats, and thereby (c) increasing the probability of cross-party voting and nonvoting among White Democrats.'\n",
       "\\item 'This study presents automated methods for predicting valence and quantifying valenced thoughts of a text. First, it examines whether Wordscores, developed by Laver, Benoit, and Garry (2003), can be adapted to reliably predict the valence of open-ended responses in a survey about bioethical issues in genetics research, and then tests a complementary and novel technique for coding the number of valenced thoughts in open-ended responses, termed Affective Intonation. Results show that Wordscores successfully predicts the valence of brief and grammatically imperfect open-ended responses, and Affective Intonation achieves comparable performance to human coders when estimating number of valenced thoughts. Both Wordscores and Affective Intonation have promise as reliable, effective, and efficient methods when researchers content-analyze large amounts of textual data systematically.'\n",
       "\\item 'Although there has been much speculation regarding the strengths and weaknesses of face-to-face versus online deliberative settings, no studies have systematically compared the two. Drawing on a national sample of Americans who reported deliberating face-to-face and/or online, we examine these two deliberative settings with regard to the participants, the motivations, the process, and the effects. Our findings, although tentative, suggest that the two settings are distinct in several important ways. Relative to face-to-face deliberation, online deliberation over-represents young, male, and white users, attracts more ideological moderates, generates more negative emotions, and is less likely to result in consensus and political action. At the same time, online deliberators perceived online settings as more politically and racially diverse. Implications for understanding the democratic potential of different forms of deliberation are discussed.'\n",
       "\\item 'Most Racial Studies primarily focus on African Americans without paying attention to nonblack minorities, and it fails to capture recent increase in racial diversity. Based on previous theories and empirical findings, we propose a new model, minority comparison model, which accounts for theoretical shortcomings in Racial Studies. This model (1) captures psychological processes that compare blacks and nonblacks, and (2) explores the effects of whites’ multiracial evaluation on racialized policy preferences. Drawing on a 2008 national representative sample, this study finds that whites who have positive stereotype of nonblacks (e.g., Hispanics and/or Asians) but negative stereotype of blacks show substantially higher symbolic racism and stronger opposition to Affirmative Action, whereas whites who have positive stereotype of blacks but negative stereotypes of nonblacks have stronger opposition to expansive immigration policy. Our study offers new ways of understanding and accounting for symbolic racism in modern context, and shows how whites’ preferences in racialized policies are influenced by multiracial evaluation.'\n",
       "\\item 'With the advent of social network sites (SNSs), people can efficiently maintain preexisting social relationships and make online friendships without offline encounters. While such technological features of SNSs hold a variety of potential for individual and collective benefits, some scholars warn that use of SNSs might lead to socially negative consequences, such as social isolation, erosion of social cohesion, or SNS addiction. This study distinguishes types of SNS relationships, and investigates their relationships with social isolation, interpersonal trust, and SNS addiction. We classify SNS relationships into two types: (a) social relationships based on reciprocity between a user and his/her friends, and (b) parasocial relationships in which an ordinary user is aware of activities of a celebrity (e.g., famous actors, athletes, and others) but not vice versa. Based on achievements in studies of media effect and social psychology, we constructed a set of hypotheses, and tested them using a subsample of SNS users drawn from representative survey data in South Korea. We found that dependency on parasocial relationships is positively related with loneliness but negatively correlated with interpersonal distrust, while dependency on social relationship is negatively correlated with loneliness but positively related with trust. However, more dependency on both social and parasocial relationships are positively related with SNS addiction. Implications based on findings are also discussed.'\n",
       "\\item 'It is easy to trace and compile a record of individuals\\textbackslash{}' online activities, and cases of online privacy infringement (i.e., improper use of personal information) have been reported in advanced societies. Based on existing risk perception research, this study examines comparative optimism regarding online privacy infringement (i.e., users tend to believe privacy infringement is less likely to happen to oneself than to others) and its antecedents and consequences. Relying on large-scale online survey data in South Korea (N = 2028), this study finds: (1) comparative optimism is higher when the comparison targets are younger; (2) online knowledge and maternalistic personality traits increase comparative optimism mainly by influencing perceived risk to others, while prior experience of privacy infringement increases comparative optimism mainly by influencing perceived personal risk; and (3) comparative optimism is related to both greater adoption of privacy-protective behaviors and a higher level of support for government policies to restrict the use of online information. Theoretical and practical implications of the findings, along with potential limitations, are discussed.'\n",
       "\\item 'Relying on Gudykunst\\textbackslash{}'s cultural variability in communication (CVC) framework and culture-specific facial expressions of emotion, we examined how people\\textbackslash{}'s use of emoticons varies cross-culturally. By merging emoticon usage patterns on Twitter with Hofstede\\textbackslash{}'s national culture scores and national indicators across 78 countries, this study found that people within individualistic cultures favor horizontal and mouth-oriented emoticons like :), while those within collectivistic cultures favor vertical and eye-oriented emoticons like \\textasciicircum{}\\_\\textasciicircum{}. Our study serves to demonstrate how recent big data-driven approaches can be used to test research hypotheses in cross-cultural communication effectively from the methodological triangulation perspective. Implications and limitations regarding the findings of this study are also discussed.'\n",
       "\\item 'c(\"BACKGROUND AND AIMS:\", \"Little is known about the extent depression adds to the costs of treatment for physical health conditions. This study examined the paths and the extent to which depression in conjunction with a physical health problem is associated with an increase in healthcare expenditures and how that is different between younger and older adults.\", \"METHODS:\", \"Data from the 2007 Medical Expenditure Panel Survey (MEPS) were analyzed. Depression status and physical health conditions were identified through ICD-9 codes. The multiple group structural equation modeling (SEM) was employed to examine the moderated mediation effects.\", \\textbackslash{}n\"RESULTS:\", \"Approximately 11\\% of adults had clinical depression. The multiple group SEM for both younger and older adult groups supports not only a direct effect of depression on expenditures but also an indirect effect via comorbid health conditions. Furthermore, the indirect effect was significantly more prominent among older respondents than among younger ones, indicating significant moderated mediation by age.\", \"CONCLUSIONS:\", \"Depression has greater effects on comorbid health conditions and an increase in total healthcare expenditures through comorbid conditions among older adults. Findings of this study suggest that proper detection and treatment of depression is beneficial in reducing overall healthcare expenditures, especially among older adults.\"\\textbackslash{}n)'\n",
       "\\item 'This study investigates why ordinary online users highly concerned about the misuse of personal information do not adopt privacy-protective behaviors, or even engage in risky behaviors, on the Internet. Given that people have few chances to directly experience privacy infringement and tend to be unfamiliar with technical terms, their opinions as reflected in conventional polls tend to be instantaneous reactions to survey questionnaires, lacking thoughtfulness. By adopting a counterargument experimental technique, this study produced three important findings: (1) people’s opinions about online privacy are swayed after being presented with a message containing a counterargument; (2) this persuasion effect is pronounced among people with a low level of online knowledge or who assess the presented message’s argument as strong; and (3) the privacy paradox is found in conventional polls but disappears in counterargument conditions. These findings imply that opinions concerning online privacy should not be estimated through conventional polling. Rather, alternative polls (e.g., deliberative polls) should be adopted for online privacy policy-making.'\n",
       "\\item 'This study investigates the relationship between selective self-presentation and online life satisfaction, and how this relationship is influenced by respondents’ perceptions of ‘‘self’’ (operationalized by ‘‘self-esteem’’) and ‘‘others’’ (operationalized by ‘‘social trust’’). Relying on survey data from 712 Korean online users, two important findings were detected in our study. First, the positive relationship between selective self-presentation and online life satisfaction becomes more prominent among people with low self-esteem compared to those with high self-esteem, and second, this positive relationship is enhanced among people with high levels of social trust compared to those with low trust levels. Theoretical and practical implications of our findings as well as potential limitations are discussed.'\n",
       "\\item 'This study employs a uses and gratifications approach to explore how social network sites (SNS) users’ attachment style influences SNS motives, SNS use, and related psychological outcomes, as well as the interrelationships of these factors. By modifying preexisting attachment styles, users were classified into four styles: (1) fearful-avoidant, (2) dismissive-avoidant, (3) secure, and (4) anxious-ambivalent. Findings show SNS use and SNS-related outcomes differ across attachment style groups, although SNS motive does not; and attachment style moderates the influences of SNS motive and SNS use on psychological outcomes. These findings imply potential consequences of SNS use can substantially differ depending on users’ attachment style.'\n",
       "\\item 'With Internet service providers (ISPs) increasingly demanding personal information to develop personalized services, people have become more vulnerable to privacy infringement. As a way to protect individuals’ privacy, industrialized countries have implemented a “notice-and-consent” requirement, meaning an ISP must obtain users’ consent to collect personal information in the course of the ISP\\textbackslash{}'s business. Drawing on prospect theory and earlier work on information privacy and behavioral science, in this study, we administered an online survey experiment to test whether the giving of consent differs between ‘opt-in’ and ‘opt-out’ frames. The framing effect was found to be moderated by personal information type, people\\textbackslash{}'s attitudes toward privacy, and people\\textbackslash{}'s privacy infringement experience. The results indicate that the opt-in frame better protects users’ information privacy, and the framing effect is magnified when the targeted information concerns online activities, when users have weakly held privacy attitudes, and when users have less experience of privacy infringement.'\n",
       "\\item 'c(\"Recent political communication scholarship has examined whether social network sites (SNSs) contribute to political participation. Regarding SNSs’ mobilization effect, however, mixed results have been reported. This study, relying on representative survey data from the 2012 South Korean general election, investigates interplay between three factors influencing electoral participation: (1) type of SNS use (i.e., political versus nonpolitical use), (2) user characteristics (i.e., past voters versus nonvoters), and (3) directionality of SNS messages (i.e., messages received from versus those sent to SNS friends). Results indicate SNSs’ mobilization effect emerges when conditions are met. Voting intention is increased among past nonvoters\", \\textbackslash{}n\"who use SNSs through political messages received from their SNS friends. Theoretical and practical implications of SNSs’ mobilization effect are discussed.\")'\n",
       "\\item 'Although many studies have investigated citizens\\textbackslash{}' attitudes toward polls and the political consequences, there have been no studies examining the effects of social network site (SNS) users\\textbackslash{}' opinion environments on their poll skepticism. Based on prior studies on poll skepticism, we examine the relationship between perceived SNS opinion environments, poll skepticism, perceived concerns over the negative influence of the polls, and voting intention in an upcoming election. Using the survey data of the 2012 South Korean General Election, this study found that if the published polls are against respondents\\textbackslash{}' political position, their homophilous SNS opinion environments promote poll skepticism, and augmented poll skepticism leads to concerns over the negative influence of the polls on other voters, which in turn increases voting intention.'\n",
       "\\item 'On the Internet, the line between news and opinion becomes blurred in terms of content and form. In this sense, the processes of news diffusion on the Internet and online public opinion formation are integrated. We select one Korean example about the private tweet of a judge about government SNS regulation and analyze citation networks from one news/opinion to another news/opinion. By relying on social network analysis (SNA) methods, we examine how news/opinions diffuse and how they interact and influence each other’s ideological frame within agencies sharing the same ideology and between agencies whose ideologies contrast. Our results show that public discourse on the Internet is clearly ‘polarized’ and ‘fragmented’ along political ideological lines. Additionally, our findings show that the winner is the conservative bloc because it succeeds in achieving within-bloc solidarity and ensures the resonance of news frames with the cultural values of Korean society. Implications for our findings in modern democracy are also discussed.'\n",
       "\\item 'Despite the proliferation of studies on emotion, little attention has been paid to the effects of discrete emotion on political participation. Using a representative survey conducted on a sample of South Korean citizens in the aftermath of the Sewol ferry accident, the current survey explored how anger and sadness, as well as the ways people express those emotions, influence the orientation of their response in social environments and, ultimately, their voting intention. The results partially supported the discrete effects of sadness and anger in eliciting reactions of approach or avoidance. Anger was found to provoke an approach action tendency in independent voters and supporters of the opposition, while also eliciting an avoidance action tendency with a varying effect size across all three groups of respondents. Sadness also prompted an approach action tendency in independents and supporters of the incumbent party, while it manifested a negative association with the avoidance action tendency in supporters of the opponent party. An interpretation of the findings and proposed directions for future research are presented.'\n",
       "\\item 'c(\"With the wide diffusion of social media like YouTube in the world, it becomes much easier to access foreign cultural products, which facilitates cross-cultural consumption of media content. Despite the rapid growth of cross-cultural consumption online, there is a dearth of large-scale studies examining how cultural products originated from certain culture are consumed and enjoyed among users of different cultures. Three data sets are used in the study, namely, (1) users’ online activities on Korean Pop (K-pop) music videos on YouTube crawled via open Application Programming Interface, (2) Hofstede’s five-dimensional model of national culture, and (3) official statistics gathered by World Bank. By combining three data sets, this study investigates how K-pop music videos are consumed across a variety of cultures. Based on prior studies examining the relationship between cultural distance and export/import of cultural goods, this study extracted two seemingly contrasting\", \\textbackslash{}n\"hypotheses, that is, (1) cultural proximity hypothesis, emphasizing cultural similarity as a main motive for cross-cultural consumption and (2) cultural exoticism hypothesis, highlighting cultural difference driving cross-cultural consumption. Results show that K-pop music video consumption is highest among countries both whose cultures are very similar to Korean culture and whose cultures are very different, indicating that both hypotheses are empirically supported. Theoretical and practical implications of the findings are also discussed.\"\\textbackslash{}n)'\n",
       "\\item 'Numerous organization scholars point out that trust is crucial for well-functioning orga-nizations. However, trust in organizational settings could differ according to the objectsof trust. This study compares two conceptually different models: main-effect model andmediation-effect model. The main-effect model assumes that both interpersonal trust andinstitutional trust promote organizational commitment independently, but the mediation-effect model assumes that institutional trust is cultivated by interpersonal trust andincreases organizational commitment. The results of structural equation modeling (SEM)show that the mediation-effect model fits better than the main-effect model and that thestructural coefficients of the mediation-effect model are neatly interpreted by social sci-entific studies of trust. This study’s findings have two important implications: First, thereseems to be sequential order between different types of trust in organizational settings.Second, interpersonal trust promotes organizational commitment only if it facilitates insti-tutional trust, providing an explanation for the inconsistent findings of previous studies.'\n",
       "\\item 'This study employs a cross-cultural perspective to examine how local audiences perceive and enjoy foreign dramas and how this psychological process differs depending on the cultural distance between the media and the viewing audience. Using a convenience sample of young Korean college students, this study, as predicted by cultural discount theory, shows that cultural distance decreases Korean audiences’ perceived identification with dramatic characters, which erodes their enjoyment of foreign dramas. Unlike cultural discount theory, however, cultural distance arouses Korean audiences’ perception of novelty, which heightens their enjoyment of foreign dramas. This study discusses the theoretical and practical implications of these findings, as well as their potential limitations.'\n",
       "\\item 'Video-sharing social media like YouTube provide access to diverse cultural products from all over the world, making it possible to test theories that the Web facilitates global cultural convergence. Drawing on a daily listing of YouTube\\textbackslash{}'s most popular videos across 58 countries, we investigate the consumption of popular videos in countries that differ in cultural values, language, gross domestic product, and Internet penetration rate. Although online social media facilitate global access to cultural products, we find this technological capability does not result in universal cultural convergence. Instead, consumption of popular videos in culturally different countries appears to be constrained by cultural values. Cross-cultural convergence is more advanced in cosmopolitan countries with cultural values that favor individualism and power inequality.'\n",
       "\\item 'This study examined how social networking site (SNS) users\\textbackslash{}' social comparison orientations indirectly affect their psychological well-being via four types of social comparison-based emotions. Based on national survey data, we found that social comparison-based emotions mediated the relationships between Facebook users\\textbackslash{}' social comparison orientations and psychological well-being. If Facebook users have a stronger ability-based social comparison orientation, their psychological well-being decreases via upward contrastive emotions (e.g., depression and envy) toward the comparison other; however, it increases via downward assimilative emotions (e.g., worry and sympathy). By contrast, if Facebook users have a stronger opinion-based social comparison orientation, their psychological well-being increases via increased feelings of upward assimilative emotions (e.g., optimism and inspiration) or decreased feelings of upward contrastive emotions (e.g., depression and envy) towards the comparison other. These results indicate that the effects of social comparison on psychological well-being on SNSs become positive or negative depending on whether the users\\textbackslash{}' social comparison orientation emphasized ability or opinion, and the type of emotions triggered by the comparison. We provide theoretical discussions and practical suggestions for psychologically healthy SNS use based on these empirical findings. '\n",
       "\\item 'c(\"Political communication scholarship has investigated the mobilization effect of citizens’ political discursive behaviors during elections. With the recent advent of SNSs Social Networking Sites (SNSs) in the political communication environment, citizens’ discursive behaviors on SNSs have received increasing academic attention. This study examines (1) whether offline political talk mediates the relationship between political self-efficacy and election campaign activity (a type of political participation); (2) whether its mediation effect differs from that of SNS political talk; and (3) how those mediation effects vary according to citizens’ endorsed political ideologies. The results reveal that the effects of both offline and SNS political talk are statistically significant among conservatives, liberals, and moderates. Interestingly, the mediation effect of SNS political talk was substantially larger among liberals than among conservatives or moderates (i.e. a moderated mediation effect), while the effect of offline political\", \\textbackslash{}n\"talk was consistent across all three ideological groups. This study demonstrates that the electoral mobilization effect of SNSs is ideology-dependent, and is particularly based on the mismatch between SNS users’ political ideology and the current government’s political orientation. Implications and limitations of the study are also discussed\")'\n",
       "\\item 'c(\"This study investigated whether individuals with different socioeconomic status (SES) should be provided differently tailored health messages to promote healthy dietary behaviour (HDB). Prior research has suggested that people with different SESs tend to exhibit different types of beliefs about health, but it remains unclear how SES interacts with these beliefs to influence health outcomes. To better understand the differences in HDB between high-and low-SES populations and propose effective intervention strategies, we examined (i) how SES is associated with HDB, (ii) how internal health locus of control (HLC) and powerful others HLC are associated with HDB, and (iii) how SES interacts with internal and powerful others HLC to influence HDB. Using data from the Annenberg National Health Communication Survey, collected from 2005 to 2012 (N = 6,262) in the United States, hierarchical multiple regression analyses were conducted. Education level was found to be positively associated \", \\textbackslash{}n\"with HDB, while income level was not. Both internal and powerful others HLC beliefs were positively associated with HDB. The positive relationship between internal HLC and HDB strengthened as the level of education and income increased, whereas the positive relationship between powerful others HLC and HDB weakened as respondents’ education level increased. These results suggest that the design and delivery of communication messages should be tailored to populations’ specific SES and HLC beliefs for effective public health interventions. For example, messages enhancing internal HLC (e.g. providing specific skills and knowledge about health behaviours) might be more helpful for the richer and more-educated, while messages appealing to one’s powerful others HLC beliefs (e.g. advice on health lifestyles given by well-known health professionals) might be more effective for less-educated people.\"\\textbackslash{}n)'\n",
       "\\item 'The present study advances the understanding of how medical drama viewing influences healthy lifestyle behaviors (e.g., smoking, exercising, and consuming vegetables) by examining the role of the health locus of control (HLOC) beliefs and education level. An analysis of nationally representative data reveals that watching medical dramas is positively associated with chance and powerful others’ HLOC beliefs. In addition, healthy lifestyle behaviors are positively associated with the internal HLOC belief and are negatively associated with the chance and powerful others’ HLOC beliefs. Research findings demonstrate that there are indirect effects of medical drama viewing on these behaviors via chance and powerful others’ HLOC beliefs. The indirect effect through the powerful others’ HLOC belief is also contingent on the education level. The implications for the role of HLOC beliefs and education level in terms of the effects of medical dramas on health-promoting behaviors are discussed.'\n",
       "\\item 'This study presents an automated content analysis of 2,379 abstracts of research articles published in four major journals from 1997 to 2017. A total of 45 topics were extracted using the structural topic model (STM), a statistical text analytic method that allows us to infer latent topics from abstracts and to conduct statistical significance tests regarding the relationships between topic prevalence and abstract features. We found that while some topics (e.g., public health or online social movement) demonstrate increasing trends, others (e.g., third-person effect and communication strategies) reveal decreasing trends; authors in non-US-based institutions are more likely than those affiliated with US-based institutions to focus on the societal consequences of media (e.g., agenda-setting effect or public deliberation). Additionally, interesting relationships were found between topic prevalence and the number of article authors (e.g., popular topics among multi-author papers are lab-based experiments or large-scale campaign studies). Finally, topic-journal associations were identified.'\n",
       "\\item 'We argue that the influence of presumed influence (IPI) model (Gunther \\& Storey, 2003) should be extended through an additional interaction term between the presumed effects of media on “others” (PME3) and the “self” (PME1). Doing so would enable testing of whether individuals who perceive a mutually shared influence of the media show stronger support for censorship. The IPI model does not suffer from the methodological limitations of the conventional third-person effect literature relying on other?self disparities (i.e., PME3?PME1), but it focuses entirely on the main effect of PME3; thus, insufficient attention is paid to the role of PME1 in explaining the influence of presumed influence. To validate this Extended IPI model, and determine how it compares with other models, we compared individuals’ presumptions about the effects of fake news on others (PFNE3) and themselves (PFNE1), and how PFNE3 and PFNE1 interact to influence individuals’ support for policies prohibiting the potential negative effects of fake news. We found that individuals’ support for government interventions and sanctions for fake news creators and sharers was stronger if they believed that fake news influenced both other people and themselves. The theoretical and methodological implications of the Extended IPI model are discussed.'\n",
       "\\item 'This study investigated citizens’ ambivalence toward female politicians and how valenced information about the politician helps them resolve their ambivalence, making them form polarized attitudes toward the candidate. Our study’s participants felt stronger ambivalence toward a female candidate than a male candidate; those feeling stronger ambivalence reported more one-sided thoughts about and more extreme evaluation of the candidate, but only when the candidate was a woman. Citizens were also more easily persuaded by valenced information to resolve their ambivalence about the female candidate. On the basis of our findings, we discuss the politico-psychological process underlying citizens’ ambivalence toward female politicians and how it is related with the gender-equal democracy.'\n",
       "\\item 'Public health officials (PHOs) are responsible for providing trustworthy information during a public health crisis; however, there is little research on how the public behaves when their expectations for such information are violated. Drawing on media dependency theory and source credibility research as our primary theoretical framework, we tested how credibility of information from PHOs is associated with people’s reliance on a particular communication channel in the context of the 2015 Middle East Respiratory Syndrome (MERS) outbreak in South Korea. Using nationally representative data (N = 1036) collected during the MERS outbreak, we found that less credible information from PHOs led to more frequent use of online news, interpersonal networks, and social media for acquiring MERS-related information. However, credibility of information from PHOs was not associated with the use of television news or print newspapers. The theoretical and practical implications of our results on communication channels usage are discussed.'\n",
       "\\end{enumerate*}\n"
      ],
      "text/markdown": [
       "1. 'Does deliberative setting, online versus face-to-face, influence citizens\\' experiences? Are certain factors differently influential in one setting than in the other? We draw on a nationally representative survey and identify citizens who participated in both online and face-to-face settings (n = 82). We use structural equation modeling to first assess the effects that deliberation format has on the interrelationship between such crucial factors as motivations to deliberate, perceived diversity, elicited emotions, enhanced understanding, and goal evaluation. We later employ network analysis to ask which factor or which cluster of factors is more central to an overall experience in which format. Relying on citizens who participated in both settings and using within-subject analyses, we assure that the previously unnoted findings are attributable to the format per se rather than to individual characteristics. We discuss the theoretical, practical and methodological implications.'\n",
       "2. 'The debate on late night comedy has been inconclusive, with some scholars arguing that this genre increases political knowledge, and others seeing late night comedy as harmful to effective citizenry. We add to the debate and to the research on media effects more generally, by proposing a model that measures political knowledge. The model utilizes item response theory (IRT) to account for individual characteristics, knowledge item difficulty, and response format that influences the likelihood of providing a correct response. Drawing on the 2004 National Annenberg Election Study, we employ this model to test knowledge gain from late night comedy. Using a meta-analysis across 35 political knowledge items, we show that late night comedy increases knowledge, but primarily on easy political items that have fewer correct response options, and mainly among the inattentive citizens. We discuss theoretical implications and provide practical suggestions for scholarship on media effects.'\n",
       "3. 'We draw on a nationally representative sample of American adults who reported having participated in face-to-face deliberation (N = 756). We use structural equation modeling to first ask whether perceived political diversity differently influences follow-up engagement in various civic or political activities among strong, weak, and moderate ideologues. We also examine the processes - cognitive and affective - that lead from perceived diversity to follow-up engagement, and assess whether these processes depend on ideological strength. We find that follow-up political engagement among strong ideologues is primarily affected by their prior civic and political participation. Weak ideologues, in turn, are mobilized through cognitive reactions to perceived diversity, and moderates through affective reactions. Our results add to the debate on deliberative versus participatory democracy, suggesting that research should more closely attend to individual characteristics and underlying mechanisms.'\n",
       "4. 'Ambivalence is a widely experienced psychological state, but inter-disciplinary studies, to a certain extent, define and conceptualize ambivalence independently. In spite of its lack of clarity, ambivalence has become an increasingly popular concept, utilized in hypotheses concerning a variety of social phenomena. This study provides an overview of extant studies on ambivalence, and summarizes the similarities and differences in how practitioners of social psychology, political science, and sociology have adopted the concept. A survey of literature from the three fields suggests four distinctive definitions of ambivalence or antecedents that have caused ambivalence: (1) co-activation of both positivity and negativity; (2) co-emergence of conflicting attitudes; (3) co-constraint of conflicting values; and (4) co-existence of conflicting reference groups. Some potential problems, such as inconsistent findings and lack of relevant measures or indices are indicated, and alternative methods are suggested. The paper concludes by suggesting a more sophisticated and precise integrative model of ambivalence.'\n",
       "5. 'Political consumerism has recently generated academic interest among political participation researchers. While some scholars underscore political consumerism as an emerging civic and political engagement, others discredit its democratic potentials. Drawing on two national survey samples in 2002 that measured both boycotting and ‘buycotting’, this study examines political consumers\\' demographic backgrounds, socio-political attitudes, issue orientations and their status of civic and political participation. Findings suggest that: (1) boycotters and buycotters should be distinguished because their demographic backgrounds are substantially different; (2) political consumers possess post-material values and are mainly interested in lifestyle-oriented social issues; and (3) political consumers are more active political participants. Theoretical implications of the findings and an agenda for future studies are also discussed.'\n",
       "6. 'Party affiliation has been identified as the most powerful factor explaining citizens\\' political attitudes and voting decisions. However, history provides several examples of Black Democratic candidates who failed to garner votes from White Democrats during biracial elections. Focusing on perceived concern about Black favoritism and political ambivalence, this study investigates why White citizens’ party affiliation loses its influence on candidate evaluation and vote choice in biracial political contests. Relying on the 2008 National Presidential Election between Barack Obama and John McCain as an analytic case study, this research provides evidence that White citizens’ concern about Black favoritism in biracial political contests is a consequential factor in (a) reducing favorability toward a Black political candidate among White Democrats and Independents, (b) creating political ambivalence toward the presidential candidate among White Democrats, and thereby (c) increasing the probability of cross-party voting and nonvoting among White Democrats.'\n",
       "7. 'This study presents automated methods for predicting valence and quantifying valenced thoughts of a text. First, it examines whether Wordscores, developed by Laver, Benoit, and Garry (2003), can be adapted to reliably predict the valence of open-ended responses in a survey about bioethical issues in genetics research, and then tests a complementary and novel technique for coding the number of valenced thoughts in open-ended responses, termed Affective Intonation. Results show that Wordscores successfully predicts the valence of brief and grammatically imperfect open-ended responses, and Affective Intonation achieves comparable performance to human coders when estimating number of valenced thoughts. Both Wordscores and Affective Intonation have promise as reliable, effective, and efficient methods when researchers content-analyze large amounts of textual data systematically.'\n",
       "8. 'Although there has been much speculation regarding the strengths and weaknesses of face-to-face versus online deliberative settings, no studies have systematically compared the two. Drawing on a national sample of Americans who reported deliberating face-to-face and/or online, we examine these two deliberative settings with regard to the participants, the motivations, the process, and the effects. Our findings, although tentative, suggest that the two settings are distinct in several important ways. Relative to face-to-face deliberation, online deliberation over-represents young, male, and white users, attracts more ideological moderates, generates more negative emotions, and is less likely to result in consensus and political action. At the same time, online deliberators perceived online settings as more politically and racially diverse. Implications for understanding the democratic potential of different forms of deliberation are discussed.'\n",
       "9. 'Most Racial Studies primarily focus on African Americans without paying attention to nonblack minorities, and it fails to capture recent increase in racial diversity. Based on previous theories and empirical findings, we propose a new model, minority comparison model, which accounts for theoretical shortcomings in Racial Studies. This model (1) captures psychological processes that compare blacks and nonblacks, and (2) explores the effects of whites’ multiracial evaluation on racialized policy preferences. Drawing on a 2008 national representative sample, this study finds that whites who have positive stereotype of nonblacks (e.g., Hispanics and/or Asians) but negative stereotype of blacks show substantially higher symbolic racism and stronger opposition to Affirmative Action, whereas whites who have positive stereotype of blacks but negative stereotypes of nonblacks have stronger opposition to expansive immigration policy. Our study offers new ways of understanding and accounting for symbolic racism in modern context, and shows how whites’ preferences in racialized policies are influenced by multiracial evaluation.'\n",
       "10. 'With the advent of social network sites (SNSs), people can efficiently maintain preexisting social relationships and make online friendships without offline encounters. While such technological features of SNSs hold a variety of potential for individual and collective benefits, some scholars warn that use of SNSs might lead to socially negative consequences, such as social isolation, erosion of social cohesion, or SNS addiction. This study distinguishes types of SNS relationships, and investigates their relationships with social isolation, interpersonal trust, and SNS addiction. We classify SNS relationships into two types: (a) social relationships based on reciprocity between a user and his/her friends, and (b) parasocial relationships in which an ordinary user is aware of activities of a celebrity (e.g., famous actors, athletes, and others) but not vice versa. Based on achievements in studies of media effect and social psychology, we constructed a set of hypotheses, and tested them using a subsample of SNS users drawn from representative survey data in South Korea. We found that dependency on parasocial relationships is positively related with loneliness but negatively correlated with interpersonal distrust, while dependency on social relationship is negatively correlated with loneliness but positively related with trust. However, more dependency on both social and parasocial relationships are positively related with SNS addiction. Implications based on findings are also discussed.'\n",
       "11. 'It is easy to trace and compile a record of individuals\\' online activities, and cases of online privacy infringement (i.e., improper use of personal information) have been reported in advanced societies. Based on existing risk perception research, this study examines comparative optimism regarding online privacy infringement (i.e., users tend to believe privacy infringement is less likely to happen to oneself than to others) and its antecedents and consequences. Relying on large-scale online survey data in South Korea (N = 2028), this study finds: (1) comparative optimism is higher when the comparison targets are younger; (2) online knowledge and maternalistic personality traits increase comparative optimism mainly by influencing perceived risk to others, while prior experience of privacy infringement increases comparative optimism mainly by influencing perceived personal risk; and (3) comparative optimism is related to both greater adoption of privacy-protective behaviors and a higher level of support for government policies to restrict the use of online information. Theoretical and practical implications of the findings, along with potential limitations, are discussed.'\n",
       "12. 'Relying on Gudykunst\\'s cultural variability in communication (CVC) framework and culture-specific facial expressions of emotion, we examined how people\\'s use of emoticons varies cross-culturally. By merging emoticon usage patterns on Twitter with Hofstede\\'s national culture scores and national indicators across 78 countries, this study found that people within individualistic cultures favor horizontal and mouth-oriented emoticons like :), while those within collectivistic cultures favor vertical and eye-oriented emoticons like ^_^. Our study serves to demonstrate how recent big data-driven approaches can be used to test research hypotheses in cross-cultural communication effectively from the methodological triangulation perspective. Implications and limitations regarding the findings of this study are also discussed.'\n",
       "13. 'c(\"BACKGROUND AND AIMS:\", \"Little is known about the extent depression adds to the costs of treatment for physical health conditions. This study examined the paths and the extent to which depression in conjunction with a physical health problem is associated with an increase in healthcare expenditures and how that is different between younger and older adults.\", \"METHODS:\", \"Data from the 2007 Medical Expenditure Panel Survey (MEPS) were analyzed. Depression status and physical health conditions were identified through ICD-9 codes. The multiple group structural equation modeling (SEM) was employed to examine the moderated mediation effects.\", \\n\"RESULTS:\", \"Approximately 11% of adults had clinical depression. The multiple group SEM for both younger and older adult groups supports not only a direct effect of depression on expenditures but also an indirect effect via comorbid health conditions. Furthermore, the indirect effect was significantly more prominent among older respondents than among younger ones, indicating significant moderated mediation by age.\", \"CONCLUSIONS:\", \"Depression has greater effects on comorbid health conditions and an increase in total healthcare expenditures through comorbid conditions among older adults. Findings of this study suggest that proper detection and treatment of depression is beneficial in reducing overall healthcare expenditures, especially among older adults.\"\\n)'\n",
       "14. 'This study investigates why ordinary online users highly concerned about the misuse of personal information do not adopt privacy-protective behaviors, or even engage in risky behaviors, on the Internet. Given that people have few chances to directly experience privacy infringement and tend to be unfamiliar with technical terms, their opinions as reflected in conventional polls tend to be instantaneous reactions to survey questionnaires, lacking thoughtfulness. By adopting a counterargument experimental technique, this study produced three important findings: (1) people’s opinions about online privacy are swayed after being presented with a message containing a counterargument; (2) this persuasion effect is pronounced among people with a low level of online knowledge or who assess the presented message’s argument as strong; and (3) the privacy paradox is found in conventional polls but disappears in counterargument conditions. These findings imply that opinions concerning online privacy should not be estimated through conventional polling. Rather, alternative polls (e.g., deliberative polls) should be adopted for online privacy policy-making.'\n",
       "15. 'This study investigates the relationship between selective self-presentation and online life satisfaction, and how this relationship is influenced by respondents’ perceptions of ‘‘self’’ (operationalized by ‘‘self-esteem’’) and ‘‘others’’ (operationalized by ‘‘social trust’’). Relying on survey data from 712 Korean online users, two important findings were detected in our study. First, the positive relationship between selective self-presentation and online life satisfaction becomes more prominent among people with low self-esteem compared to those with high self-esteem, and second, this positive relationship is enhanced among people with high levels of social trust compared to those with low trust levels. Theoretical and practical implications of our findings as well as potential limitations are discussed.'\n",
       "16. 'This study employs a uses and gratifications approach to explore how social network sites (SNS) users’ attachment style influences SNS motives, SNS use, and related psychological outcomes, as well as the interrelationships of these factors. By modifying preexisting attachment styles, users were classified into four styles: (1) fearful-avoidant, (2) dismissive-avoidant, (3) secure, and (4) anxious-ambivalent. Findings show SNS use and SNS-related outcomes differ across attachment style groups, although SNS motive does not; and attachment style moderates the influences of SNS motive and SNS use on psychological outcomes. These findings imply potential consequences of SNS use can substantially differ depending on users’ attachment style.'\n",
       "17. 'With Internet service providers (ISPs) increasingly demanding personal information to develop personalized services, people have become more vulnerable to privacy infringement. As a way to protect individuals’ privacy, industrialized countries have implemented a “notice-and-consent” requirement, meaning an ISP must obtain users’ consent to collect personal information in the course of the ISP\\'s business. Drawing on prospect theory and earlier work on information privacy and behavioral science, in this study, we administered an online survey experiment to test whether the giving of consent differs between ‘opt-in’ and ‘opt-out’ frames. The framing effect was found to be moderated by personal information type, people\\'s attitudes toward privacy, and people\\'s privacy infringement experience. The results indicate that the opt-in frame better protects users’ information privacy, and the framing effect is magnified when the targeted information concerns online activities, when users have weakly held privacy attitudes, and when users have less experience of privacy infringement.'\n",
       "18. 'c(\"Recent political communication scholarship has examined whether social network sites (SNSs) contribute to political participation. Regarding SNSs’ mobilization effect, however, mixed results have been reported. This study, relying on representative survey data from the 2012 South Korean general election, investigates interplay between three factors influencing electoral participation: (1) type of SNS use (i.e., political versus nonpolitical use), (2) user characteristics (i.e., past voters versus nonvoters), and (3) directionality of SNS messages (i.e., messages received from versus those sent to SNS friends). Results indicate SNSs’ mobilization effect emerges when conditions are met. Voting intention is increased among past nonvoters\", \\n\"who use SNSs through political messages received from their SNS friends. Theoretical and practical implications of SNSs’ mobilization effect are discussed.\")'\n",
       "19. 'Although many studies have investigated citizens\\' attitudes toward polls and the political consequences, there have been no studies examining the effects of social network site (SNS) users\\' opinion environments on their poll skepticism. Based on prior studies on poll skepticism, we examine the relationship between perceived SNS opinion environments, poll skepticism, perceived concerns over the negative influence of the polls, and voting intention in an upcoming election. Using the survey data of the 2012 South Korean General Election, this study found that if the published polls are against respondents\\' political position, their homophilous SNS opinion environments promote poll skepticism, and augmented poll skepticism leads to concerns over the negative influence of the polls on other voters, which in turn increases voting intention.'\n",
       "20. 'On the Internet, the line between news and opinion becomes blurred in terms of content and form. In this sense, the processes of news diffusion on the Internet and online public opinion formation are integrated. We select one Korean example about the private tweet of a judge about government SNS regulation and analyze citation networks from one news/opinion to another news/opinion. By relying on social network analysis (SNA) methods, we examine how news/opinions diffuse and how they interact and influence each other’s ideological frame within agencies sharing the same ideology and between agencies whose ideologies contrast. Our results show that public discourse on the Internet is clearly ‘polarized’ and ‘fragmented’ along political ideological lines. Additionally, our findings show that the winner is the conservative bloc because it succeeds in achieving within-bloc solidarity and ensures the resonance of news frames with the cultural values of Korean society. Implications for our findings in modern democracy are also discussed.'\n",
       "21. 'Despite the proliferation of studies on emotion, little attention has been paid to the effects of discrete emotion on political participation. Using a representative survey conducted on a sample of South Korean citizens in the aftermath of the Sewol ferry accident, the current survey explored how anger and sadness, as well as the ways people express those emotions, influence the orientation of their response in social environments and, ultimately, their voting intention. The results partially supported the discrete effects of sadness and anger in eliciting reactions of approach or avoidance. Anger was found to provoke an approach action tendency in independent voters and supporters of the opposition, while also eliciting an avoidance action tendency with a varying effect size across all three groups of respondents. Sadness also prompted an approach action tendency in independents and supporters of the incumbent party, while it manifested a negative association with the avoidance action tendency in supporters of the opponent party. An interpretation of the findings and proposed directions for future research are presented.'\n",
       "22. 'c(\"With the wide diffusion of social media like YouTube in the world, it becomes much easier to access foreign cultural products, which facilitates cross-cultural consumption of media content. Despite the rapid growth of cross-cultural consumption online, there is a dearth of large-scale studies examining how cultural products originated from certain culture are consumed and enjoyed among users of different cultures. Three data sets are used in the study, namely, (1) users’ online activities on Korean Pop (K-pop) music videos on YouTube crawled via open Application Programming Interface, (2) Hofstede’s five-dimensional model of national culture, and (3) official statistics gathered by World Bank. By combining three data sets, this study investigates how K-pop music videos are consumed across a variety of cultures. Based on prior studies examining the relationship between cultural distance and export/import of cultural goods, this study extracted two seemingly contrasting\", \\n\"hypotheses, that is, (1) cultural proximity hypothesis, emphasizing cultural similarity as a main motive for cross-cultural consumption and (2) cultural exoticism hypothesis, highlighting cultural difference driving cross-cultural consumption. Results show that K-pop music video consumption is highest among countries both whose cultures are very similar to Korean culture and whose cultures are very different, indicating that both hypotheses are empirically supported. Theoretical and practical implications of the findings are also discussed.\"\\n)'\n",
       "23. 'Numerous organization scholars point out that trust is crucial for well-functioning orga-nizations. However, trust in organizational settings could differ according to the objectsof trust. This study compares two conceptually different models: main-effect model andmediation-effect model. The main-effect model assumes that both interpersonal trust andinstitutional trust promote organizational commitment independently, but the mediation-effect model assumes that institutional trust is cultivated by interpersonal trust andincreases organizational commitment. The results of structural equation modeling (SEM)show that the mediation-effect model fits better than the main-effect model and that thestructural coefficients of the mediation-effect model are neatly interpreted by social sci-entific studies of trust. This study’s findings have two important implications: First, thereseems to be sequential order between different types of trust in organizational settings.Second, interpersonal trust promotes organizational commitment only if it facilitates insti-tutional trust, providing an explanation for the inconsistent findings of previous studies.'\n",
       "24. 'This study employs a cross-cultural perspective to examine how local audiences perceive and enjoy foreign dramas and how this psychological process differs depending on the cultural distance between the media and the viewing audience. Using a convenience sample of young Korean college students, this study, as predicted by cultural discount theory, shows that cultural distance decreases Korean audiences’ perceived identification with dramatic characters, which erodes their enjoyment of foreign dramas. Unlike cultural discount theory, however, cultural distance arouses Korean audiences’ perception of novelty, which heightens their enjoyment of foreign dramas. This study discusses the theoretical and practical implications of these findings, as well as their potential limitations.'\n",
       "25. 'Video-sharing social media like YouTube provide access to diverse cultural products from all over the world, making it possible to test theories that the Web facilitates global cultural convergence. Drawing on a daily listing of YouTube\\'s most popular videos across 58 countries, we investigate the consumption of popular videos in countries that differ in cultural values, language, gross domestic product, and Internet penetration rate. Although online social media facilitate global access to cultural products, we find this technological capability does not result in universal cultural convergence. Instead, consumption of popular videos in culturally different countries appears to be constrained by cultural values. Cross-cultural convergence is more advanced in cosmopolitan countries with cultural values that favor individualism and power inequality.'\n",
       "26. 'This study examined how social networking site (SNS) users\\' social comparison orientations indirectly affect their psychological well-being via four types of social comparison-based emotions. Based on national survey data, we found that social comparison-based emotions mediated the relationships between Facebook users\\' social comparison orientations and psychological well-being. If Facebook users have a stronger ability-based social comparison orientation, their psychological well-being decreases via upward contrastive emotions (e.g., depression and envy) toward the comparison other; however, it increases via downward assimilative emotions (e.g., worry and sympathy). By contrast, if Facebook users have a stronger opinion-based social comparison orientation, their psychological well-being increases via increased feelings of upward assimilative emotions (e.g., optimism and inspiration) or decreased feelings of upward contrastive emotions (e.g., depression and envy) towards the comparison other. These results indicate that the effects of social comparison on psychological well-being on SNSs become positive or negative depending on whether the users\\' social comparison orientation emphasized ability or opinion, and the type of emotions triggered by the comparison. We provide theoretical discussions and practical suggestions for psychologically healthy SNS use based on these empirical findings. '\n",
       "27. 'c(\"Political communication scholarship has investigated the mobilization effect of citizens’ political discursive behaviors during elections. With the recent advent of SNSs Social Networking Sites (SNSs) in the political communication environment, citizens’ discursive behaviors on SNSs have received increasing academic attention. This study examines (1) whether offline political talk mediates the relationship between political self-efficacy and election campaign activity (a type of political participation); (2) whether its mediation effect differs from that of SNS political talk; and (3) how those mediation effects vary according to citizens’ endorsed political ideologies. The results reveal that the effects of both offline and SNS political talk are statistically significant among conservatives, liberals, and moderates. Interestingly, the mediation effect of SNS political talk was substantially larger among liberals than among conservatives or moderates (i.e. a moderated mediation effect), while the effect of offline political\", \\n\"talk was consistent across all three ideological groups. This study demonstrates that the electoral mobilization effect of SNSs is ideology-dependent, and is particularly based on the mismatch between SNS users’ political ideology and the current government’s political orientation. Implications and limitations of the study are also discussed\")'\n",
       "28. 'c(\"This study investigated whether individuals with different socioeconomic status (SES) should be provided differently tailored health messages to promote healthy dietary behaviour (HDB). Prior research has suggested that people with different SESs tend to exhibit different types of beliefs about health, but it remains unclear how SES interacts with these beliefs to influence health outcomes. To better understand the differences in HDB between high-and low-SES populations and propose effective intervention strategies, we examined (i) how SES is associated with HDB, (ii) how internal health locus of control (HLC) and powerful others HLC are associated with HDB, and (iii) how SES interacts with internal and powerful others HLC to influence HDB. Using data from the Annenberg National Health Communication Survey, collected from 2005 to 2012 (N = 6,262) in the United States, hierarchical multiple regression analyses were conducted. Education level was found to be positively associated \", \\n\"with HDB, while income level was not. Both internal and powerful others HLC beliefs were positively associated with HDB. The positive relationship between internal HLC and HDB strengthened as the level of education and income increased, whereas the positive relationship between powerful others HLC and HDB weakened as respondents’ education level increased. These results suggest that the design and delivery of communication messages should be tailored to populations’ specific SES and HLC beliefs for effective public health interventions. For example, messages enhancing internal HLC (e.g. providing specific skills and knowledge about health behaviours) might be more helpful for the richer and more-educated, while messages appealing to one’s powerful others HLC beliefs (e.g. advice on health lifestyles given by well-known health professionals) might be more effective for less-educated people.\"\\n)'\n",
       "29. 'The present study advances the understanding of how medical drama viewing influences healthy lifestyle behaviors (e.g., smoking, exercising, and consuming vegetables) by examining the role of the health locus of control (HLOC) beliefs and education level. An analysis of nationally representative data reveals that watching medical dramas is positively associated with chance and powerful others’ HLOC beliefs. In addition, healthy lifestyle behaviors are positively associated with the internal HLOC belief and are negatively associated with the chance and powerful others’ HLOC beliefs. Research findings demonstrate that there are indirect effects of medical drama viewing on these behaviors via chance and powerful others’ HLOC beliefs. The indirect effect through the powerful others’ HLOC belief is also contingent on the education level. The implications for the role of HLOC beliefs and education level in terms of the effects of medical dramas on health-promoting behaviors are discussed.'\n",
       "30. 'This study presents an automated content analysis of 2,379 abstracts of research articles published in four major journals from 1997 to 2017. A total of 45 topics were extracted using the structural topic model (STM), a statistical text analytic method that allows us to infer latent topics from abstracts and to conduct statistical significance tests regarding the relationships between topic prevalence and abstract features. We found that while some topics (e.g., public health or online social movement) demonstrate increasing trends, others (e.g., third-person effect and communication strategies) reveal decreasing trends; authors in non-US-based institutions are more likely than those affiliated with US-based institutions to focus on the societal consequences of media (e.g., agenda-setting effect or public deliberation). Additionally, interesting relationships were found between topic prevalence and the number of article authors (e.g., popular topics among multi-author papers are lab-based experiments or large-scale campaign studies). Finally, topic-journal associations were identified.'\n",
       "31. 'We argue that the influence of presumed influence (IPI) model (Gunther &amp; Storey, 2003) should be extended through an additional interaction term between the presumed effects of media on “others” (PME3) and the “self” (PME1). Doing so would enable testing of whether individuals who perceive a mutually shared influence of the media show stronger support for censorship. The IPI model does not suffer from the methodological limitations of the conventional third-person effect literature relying on other?self disparities (i.e., PME3?PME1), but it focuses entirely on the main effect of PME3; thus, insufficient attention is paid to the role of PME1 in explaining the influence of presumed influence. To validate this Extended IPI model, and determine how it compares with other models, we compared individuals’ presumptions about the effects of fake news on others (PFNE3) and themselves (PFNE1), and how PFNE3 and PFNE1 interact to influence individuals’ support for policies prohibiting the potential negative effects of fake news. We found that individuals’ support for government interventions and sanctions for fake news creators and sharers was stronger if they believed that fake news influenced both other people and themselves. The theoretical and methodological implications of the Extended IPI model are discussed.'\n",
       "32. 'This study investigated citizens’ ambivalence toward female politicians and how valenced information about the politician helps them resolve their ambivalence, making them form polarized attitudes toward the candidate. Our study’s participants felt stronger ambivalence toward a female candidate than a male candidate; those feeling stronger ambivalence reported more one-sided thoughts about and more extreme evaluation of the candidate, but only when the candidate was a woman. Citizens were also more easily persuaded by valenced information to resolve their ambivalence about the female candidate. On the basis of our findings, we discuss the politico-psychological process underlying citizens’ ambivalence toward female politicians and how it is related with the gender-equal democracy.'\n",
       "33. 'Public health officials (PHOs) are responsible for providing trustworthy information during a public health crisis; however, there is little research on how the public behaves when their expectations for such information are violated. Drawing on media dependency theory and source credibility research as our primary theoretical framework, we tested how credibility of information from PHOs is associated with people’s reliance on a particular communication channel in the context of the 2015 Middle East Respiratory Syndrome (MERS) outbreak in South Korea. Using nationally representative data (N = 1036) collected during the MERS outbreak, we found that less credible information from PHOs led to more frequent use of online news, interpersonal networks, and social media for acquiring MERS-related information. However, credibility of information from PHOs was not associated with the use of television news or print newspapers. The theoretical and practical implications of our results on communication channels usage are discussed.'\n",
       "\n",
       "\n"
      ],
      "text/plain": [
       " [1] \"Does deliberative setting, online versus face-to-face, influence citizens' experiences? Are certain factors differently influential in one setting than in the other? We draw on a nationally representative survey and identify citizens who participated in both online and face-to-face settings (n = 82). We use structural equation modeling to first assess the effects that deliberation format has on the interrelationship between such crucial factors as motivations to deliberate, perceived diversity, elicited emotions, enhanced understanding, and goal evaluation. We later employ network analysis to ask which factor or which cluster of factors is more central to an overall experience in which format. Relying on citizens who participated in both settings and using within-subject analyses, we assure that the previously unnoted findings are attributable to the format per se rather than to individual characteristics. We discuss the theoretical, practical and methodological implications.\"                                                                                                                                                                                                                                                                                                                                                                                                                                                                                                                                                                                                                                                                                                                                                                                                                                                                                                                                                             \n",
       " [2] \"The debate on late night comedy has been inconclusive, with some scholars arguing that this genre increases political knowledge, and others seeing late night comedy as harmful to effective citizenry. We add to the debate and to the research on media effects more generally, by proposing a model that measures political knowledge. The model utilizes item response theory (IRT) to account for individual characteristics, knowledge item difficulty, and response format that influences the likelihood of providing a correct response. Drawing on the 2004 National Annenberg Election Study, we employ this model to test knowledge gain from late night comedy. Using a meta-analysis across 35 political knowledge items, we show that late night comedy increases knowledge, but primarily on easy political items that have fewer correct response options, and mainly among the inattentive citizens. We discuss theoretical implications and provide practical suggestions for scholarship on media effects.\"                                                                                                                                                                                                                                                                                                                                                                                                                                                                                                                                                                                                                                                                                                                                                                                                                                                                                                                                                             \n",
       " [3] \"We draw on a nationally representative sample of American adults who reported having participated in face-to-face deliberation (N = 756). We use structural equation modeling to first ask whether perceived political diversity differently influences follow-up engagement in various civic or political activities among strong, weak, and moderate ideologues. We also examine the processes - cognitive and affective - that lead from perceived diversity to follow-up engagement, and assess whether these processes depend on ideological strength. We find that follow-up political engagement among strong ideologues is primarily affected by their prior civic and political participation. Weak ideologues, in turn, are mobilized through cognitive reactions to perceived diversity, and moderates through affective reactions. Our results add to the debate on deliberative versus participatory democracy, suggesting that research should more closely attend to individual characteristics and underlying mechanisms.\"                                                                                                                                                                                                                                                                                                                                                                                                                                                                                                                                                                                                                                                                                                                                                                                                                                                                                                                                                  \n",
       " [4] \"Ambivalence is a widely experienced psychological state, but inter-disciplinary studies, to a certain extent, define and conceptualize ambivalence independently. In spite of its lack of clarity, ambivalence has become an increasingly popular concept, utilized in hypotheses concerning a variety of social phenomena. This study provides an overview of extant studies on ambivalence, and summarizes the similarities and differences in how practitioners of social psychology, political science, and sociology have adopted the concept. A survey of literature from the three fields suggests four distinctive definitions of ambivalence or antecedents that have caused ambivalence: (1) co-activation of both positivity and negativity; (2) co-emergence of conflicting attitudes; (3) co-constraint of conflicting values; and (4) co-existence of conflicting reference groups. Some potential problems, such as inconsistent findings and lack of relevant measures or indices are indicated, and alternative methods are suggested. The paper concludes by suggesting a more sophisticated and precise integrative model of ambivalence.\"                                                                                                                                                                                                                                                                                                                                                                                                                                                                                                                                                                                                                                                                                                                                                                                                                               \n",
       " [5] \"Political consumerism has recently generated academic interest among political participation researchers. While some scholars underscore political consumerism as an emerging civic and political engagement, others discredit its democratic potentials. Drawing on two national survey samples in 2002 that measured both boycotting and ‘buycotting’, this study examines political consumers' demographic backgrounds, socio-political attitudes, issue orientations and their status of civic and political participation. Findings suggest that: (1) boycotters and buycotters should be distinguished because their demographic backgrounds are substantially different; (2) political consumers possess post-material values and are mainly interested in lifestyle-oriented social issues; and (3) political consumers are more active political participants. Theoretical implications of the findings and an agenda for future studies are also discussed.\"                                                                                                                                                                                                                                                                                                                                                                                                                                                                                                                                                                                                                                                                                                                                                                                                                                                                                                                                                                                                                    \n",
       " [6] \"Party affiliation has been identified as the most powerful factor explaining citizens' political attitudes and voting decisions. However, history provides several examples of Black Democratic candidates who failed to garner votes from White Democrats during biracial elections. Focusing on perceived concern about Black favoritism and political ambivalence, this study investigates why White citizens’ party affiliation loses its influence on candidate evaluation and vote choice in biracial political contests. Relying on the 2008 National Presidential Election between Barack Obama and John McCain as an analytic case study, this research provides evidence that White citizens’ concern about Black favoritism in biracial political contests is a consequential factor in (a) reducing favorability toward a Black political candidate among White Democrats and Independents, (b) creating political ambivalence toward the presidential candidate among White Democrats, and thereby (c) increasing the probability of cross-party voting and nonvoting among White Democrats.\"                                                                                                                                                                                                                                                                                                                                                                                                                                                                                                                                                                                                                                                                                                                                                                                                                                                                                \n",
       " [7] \"This study presents automated methods for predicting valence and quantifying valenced thoughts of a text. First, it examines whether Wordscores, developed by Laver, Benoit, and Garry (2003), can be adapted to reliably predict the valence of open-ended responses in a survey about bioethical issues in genetics research, and then tests a complementary and novel technique for coding the number of valenced thoughts in open-ended responses, termed Affective Intonation. Results show that Wordscores successfully predicts the valence of brief and grammatically imperfect open-ended responses, and Affective Intonation achieves comparable performance to human coders when estimating number of valenced thoughts. Both Wordscores and Affective Intonation have promise as reliable, effective, and efficient methods when researchers content-analyze large amounts of textual data systematically.\"                                                                                                                                                                                                                                                                                                                                                                                                                                                                                                                                                                                                                                                                                                                                                                                                                                                                                                                                                                                                                                                                     \n",
       " [8] \"Although there has been much speculation regarding the strengths and weaknesses of face-to-face versus online deliberative settings, no studies have systematically compared the two. Drawing on a national sample of Americans who reported deliberating face-to-face and/or online, we examine these two deliberative settings with regard to the participants, the motivations, the process, and the effects. Our findings, although tentative, suggest that the two settings are distinct in several important ways. Relative to face-to-face deliberation, online deliberation over-represents young, male, and white users, attracts more ideological moderates, generates more negative emotions, and is less likely to result in consensus and political action. At the same time, online deliberators perceived online settings as more politically and racially diverse. Implications for understanding the democratic potential of different forms of deliberation are discussed.\"                                                                                                                                                                                                                                                                                                                                                                                                                                                                                                                                                                                                                                                                                                                                                                                                                                                                                                                                                                                               \n",
       " [9] \"Most Racial Studies primarily focus on African Americans without paying attention to nonblack minorities, and it fails to capture recent increase in racial diversity. Based on previous theories and empirical findings, we propose a new model, minority comparison model, which accounts for theoretical shortcomings in Racial Studies. This model (1) captures psychological processes that compare blacks and nonblacks, and (2) explores the effects of whites’ multiracial evaluation on racialized policy preferences. Drawing on a 2008 national representative sample, this study finds that whites who have positive stereotype of nonblacks (e.g., Hispanics and/or Asians) but negative stereotype of blacks show substantially higher symbolic racism and stronger opposition to Affirmative Action, whereas whites who have positive stereotype of blacks but negative stereotypes of nonblacks have stronger opposition to expansive immigration policy. Our study offers new ways of understanding and accounting for symbolic racism in modern context, and shows how whites’ preferences in racialized policies are influenced by multiracial evaluation.\"                                                                                                                                                                                                                                                                                                                                                                                                                                                                                                                                                                                                                                                                                                                                                                                                            \n",
       "[10] \"With the advent of social network sites (SNSs), people can efficiently maintain preexisting social relationships and make online friendships without offline encounters. While such technological features of SNSs hold a variety of potential for individual and collective benefits, some scholars warn that use of SNSs might lead to socially negative consequences, such as social isolation, erosion of social cohesion, or SNS addiction. This study distinguishes types of SNS relationships, and investigates their relationships with social isolation, interpersonal trust, and SNS addiction. We classify SNS relationships into two types: (a) social relationships based on reciprocity between a user and his/her friends, and (b) parasocial relationships in which an ordinary user is aware of activities of a celebrity (e.g., famous actors, athletes, and others) but not vice versa. Based on achievements in studies of media effect and social psychology, we constructed a set of hypotheses, and tested them using a subsample of SNS users drawn from representative survey data in South Korea. We found that dependency on parasocial relationships is positively related with loneliness but negatively correlated with interpersonal distrust, while dependency on social relationship is negatively correlated with loneliness but positively related with trust. However, more dependency on both social and parasocial relationships are positively related with SNS addiction. Implications based on findings are also discussed.\"                                                                                                                                                                                                                                                                                                                                                                                                                       \n",
       "[11] \"It is easy to trace and compile a record of individuals' online activities, and cases of online privacy infringement (i.e., improper use of personal information) have been reported in advanced societies. Based on existing risk perception research, this study examines comparative optimism regarding online privacy infringement (i.e., users tend to believe privacy infringement is less likely to happen to oneself than to others) and its antecedents and consequences. Relying on large-scale online survey data in South Korea (N = 2028), this study finds: (1) comparative optimism is higher when the comparison targets are younger; (2) online knowledge and maternalistic personality traits increase comparative optimism mainly by influencing perceived risk to others, while prior experience of privacy infringement increases comparative optimism mainly by influencing perceived personal risk; and (3) comparative optimism is related to both greater adoption of privacy-protective behaviors and a higher level of support for government policies to restrict the use of online information. Theoretical and practical implications of the findings, along with potential limitations, are discussed.\"                                                                                                                                                                                                                                                                                                                                                                                                                                                                                                                                                                                                                                                                                                                                                      \n",
       "[12] \"Relying on Gudykunst's cultural variability in communication (CVC) framework and culture-specific facial expressions of emotion, we examined how people's use of emoticons varies cross-culturally. By merging emoticon usage patterns on Twitter with Hofstede's national culture scores and national indicators across 78 countries, this study found that people within individualistic cultures favor horizontal and mouth-oriented emoticons like :), while those within collectivistic cultures favor vertical and eye-oriented emoticons like ^_^. Our study serves to demonstrate how recent big data-driven approaches can be used to test research hypotheses in cross-cultural communication effectively from the methodological triangulation perspective. Implications and limitations regarding the findings of this study are also discussed.\"                                                                                                                                                                                                                                                                                                                                                                                                                                                                                                                                                                                                                                                                                                                                                                                                                                                                                                                                                                                                                                                                                                                               \n",
       "[13] \"c(\\\"BACKGROUND AND AIMS:\\\", \\\"Little is known about the extent depression adds to the costs of treatment for physical health conditions. This study examined the paths and the extent to which depression in conjunction with a physical health problem is associated with an increase in healthcare expenditures and how that is different between younger and older adults.\\\", \\\"METHODS:\\\", \\\"Data from the 2007 Medical Expenditure Panel Survey (MEPS) were analyzed. Depression status and physical health conditions were identified through ICD-9 codes. The multiple group structural equation modeling (SEM) was employed to examine the moderated mediation effects.\\\", \\n\\\"RESULTS:\\\", \\\"Approximately 11% of adults had clinical depression. The multiple group SEM for both younger and older adult groups supports not only a direct effect of depression on expenditures but also an indirect effect via comorbid health conditions. Furthermore, the indirect effect was significantly more prominent among older respondents than among younger ones, indicating significant moderated mediation by age.\\\", \\\"CONCLUSIONS:\\\", \\\"Depression has greater effects on comorbid health conditions and an increase in total healthcare expenditures through comorbid conditions among older adults. Findings of this study suggest that proper detection and treatment of depression is beneficial in reducing overall healthcare expenditures, especially among older adults.\\\"\\n)\"                                                                                                                                                                                                                                                                                                                                                                                                                                                                                            \n",
       "[14] \"This study investigates why ordinary online users highly concerned about the misuse of personal information do not adopt privacy-protective behaviors, or even engage in risky behaviors, on the Internet. Given that people have few chances to directly experience privacy infringement and tend to be unfamiliar with technical terms, their opinions as reflected in conventional polls tend to be instantaneous reactions to survey questionnaires, lacking thoughtfulness. By adopting a counterargument experimental technique, this study produced three important findings: (1) people’s opinions about online privacy are swayed after being presented with a message containing a counterargument; (2) this persuasion effect is pronounced among people with a low level of online knowledge or who assess the presented message’s argument as strong; and (3) the privacy paradox is found in conventional polls but disappears in counterargument conditions. These findings imply that opinions concerning online privacy should not be estimated through conventional polling. Rather, alternative polls (e.g., deliberative polls) should be adopted for online privacy policy-making.\"                                                                                                                                                                                                                                                                                                                                                                                                                                                                                                                                                                                                                                                                                                                                                                                  \n",
       "[15] \"This study investigates the relationship between selective self-presentation and online life satisfaction, and how this relationship is influenced by respondents’ perceptions of ‘‘self’’ (operationalized by ‘‘self-esteem’’) and ‘‘others’’ (operationalized by ‘‘social trust’’). Relying on survey data from 712 Korean online users, two important findings were detected in our study. First, the positive relationship between selective self-presentation and online life satisfaction becomes more prominent among people with low self-esteem compared to those with high self-esteem, and second, this positive relationship is enhanced among people with high levels of social trust compared to those with low trust levels. Theoretical and practical implications of our findings as well as potential limitations are discussed.\"                                                                                                                                                                                                                                                                                                                                                                                                                                                                                                                                                                                                                                                                                                                                                                                                                                                                                                                                                                                                                                                                                                                        \n",
       "[16] \"This study employs a uses and gratifications approach to explore how social network sites (SNS) users’ attachment style influences SNS motives, SNS use, and related psychological outcomes, as well as the interrelationships of these factors. By modifying preexisting attachment styles, users were classified into four styles: (1) fearful-avoidant, (2) dismissive-avoidant, (3) secure, and (4) anxious-ambivalent. Findings show SNS use and SNS-related outcomes differ across attachment style groups, although SNS motive does not; and attachment style moderates the influences of SNS motive and SNS use on psychological outcomes. These findings imply potential consequences of SNS use can substantially differ depending on users’ attachment style.\"                                                                                                                                                                                                                                                                                                                                                                                                                                                                                                                                                                                                                                                                                                                                                                                                                                                                                                                                                                                                                                                                                                                                                                                                                 \n",
       "[17] \"With Internet service providers (ISPs) increasingly demanding personal information to develop personalized services, people have become more vulnerable to privacy infringement. As a way to protect individuals’ privacy, industrialized countries have implemented a “notice-and-consent” requirement, meaning an ISP must obtain users’ consent to collect personal information in the course of the ISP's business. Drawing on prospect theory and earlier work on information privacy and behavioral science, in this study, we administered an online survey experiment to test whether the giving of consent differs between ‘opt-in’ and ‘opt-out’ frames. The framing effect was found to be moderated by personal information type, people's attitudes toward privacy, and people's privacy infringement experience. The results indicate that the opt-in frame better protects users’ information privacy, and the framing effect is magnified when the targeted information concerns online activities, when users have weakly held privacy attitudes, and when users have less experience of privacy infringement.\"                                                                                                                                                                                                                                                                                                                                                                                                                                                                                                                                                                                                                                                                                                                                                                                                                                                   \n",
       "[18] \"c(\\\"Recent political communication scholarship has examined whether social network sites (SNSs) contribute to political participation. Regarding SNSs’ mobilization effect, however, mixed results have been reported. This study, relying on representative survey data from the 2012 South Korean general election, investigates interplay between three factors influencing electoral participation: (1) type of SNS use (i.e., political versus nonpolitical use), (2) user characteristics (i.e., past voters versus nonvoters), and (3) directionality of SNS messages (i.e., messages received from versus those sent to SNS friends). Results indicate SNSs’ mobilization effect emerges when conditions are met. Voting intention is increased among past nonvoters\\\", \\n\\\"who use SNSs through political messages received from their SNS friends. Theoretical and practical implications of SNSs’ mobilization effect are discussed.\\\")\"                                                                                                                                                                                                                                                                                                                                                                                                                                                                                                                                                                                                                                                                                                                                                                                                                                                                                                                                                                                                                                      \n",
       "[19] \"Although many studies have investigated citizens' attitudes toward polls and the political consequences, there have been no studies examining the effects of social network site (SNS) users' opinion environments on their poll skepticism. Based on prior studies on poll skepticism, we examine the relationship between perceived SNS opinion environments, poll skepticism, perceived concerns over the negative influence of the polls, and voting intention in an upcoming election. Using the survey data of the 2012 South Korean General Election, this study found that if the published polls are against respondents' political position, their homophilous SNS opinion environments promote poll skepticism, and augmented poll skepticism leads to concerns over the negative influence of the polls on other voters, which in turn increases voting intention.\"                                                                                                                                                                                                                                                                                                                                                                                                                                                                                                                                                                                                                                                                                                                                                                                                                                                                                                                                                                                                                                                                                                             \n",
       "[20] \"On the Internet, the line between news and opinion becomes blurred in terms of content and form. In this sense, the processes of news diffusion on the Internet and online public opinion formation are integrated. We select one Korean example about the private tweet of a judge about government SNS regulation and analyze citation networks from one news/opinion to another news/opinion. By relying on social network analysis (SNA) methods, we examine how news/opinions diffuse and how they interact and influence each other’s ideological frame within agencies sharing the same ideology and between agencies whose ideologies contrast. Our results show that public discourse on the Internet is clearly ‘polarized’ and ‘fragmented’ along political ideological lines. Additionally, our findings show that the winner is the conservative bloc because it succeeds in achieving within-bloc solidarity and ensures the resonance of news frames with the cultural values of Korean society. Implications for our findings in modern democracy are also discussed.\"                                                                                                                                                                                                                                                                                                                                                                                                                                                                                                                                                                                                                                                                                                                                                                                                                                                                                                 \n",
       "[21] \"Despite the proliferation of studies on emotion, little attention has been paid to the effects of discrete emotion on political participation. Using a representative survey conducted on a sample of South Korean citizens in the aftermath of the Sewol ferry accident, the current survey explored how anger and sadness, as well as the ways people express those emotions, influence the orientation of their response in social environments and, ultimately, their voting intention. The results partially supported the discrete effects of sadness and anger in eliciting reactions of approach or avoidance. Anger was found to provoke an approach action tendency in independent voters and supporters of the opposition, while also eliciting an avoidance action tendency with a varying effect size across all three groups of respondents. Sadness also prompted an approach action tendency in independents and supporters of the incumbent party, while it manifested a negative association with the avoidance action tendency in supporters of the opponent party. An interpretation of the findings and proposed directions for future research are presented.\"                                                                                                                                                                                                                                                                                                                                                                                                                                                                                                                                                                                                                                                                                                                                                                                                        \n",
       "[22] \"c(\\\"With the wide diffusion of social media like YouTube in the world, it becomes much easier to access foreign cultural products, which facilitates cross-cultural consumption of media content. Despite the rapid growth of cross-cultural consumption online, there is a dearth of large-scale studies examining how cultural products originated from certain culture are consumed and enjoyed among users of different cultures. Three data sets are used in the study, namely, (1) users’ online activities on Korean Pop (K-pop) music videos on YouTube crawled via open Application Programming Interface, (2) Hofstede’s five-dimensional model of national culture, and (3) official statistics gathered by World Bank. By combining three data sets, this study investigates how K-pop music videos are consumed across a variety of cultures. Based on prior studies examining the relationship between cultural distance and export/import of cultural goods, this study extracted two seemingly contrasting\\\", \\n\\\"hypotheses, that is, (1) cultural proximity hypothesis, emphasizing cultural similarity as a main motive for cross-cultural consumption and (2) cultural exoticism hypothesis, highlighting cultural difference driving cross-cultural consumption. Results show that K-pop music video consumption is highest among countries both whose cultures are very similar to Korean culture and whose cultures are very different, indicating that both hypotheses are empirically supported. Theoretical and practical implications of the findings are also discussed.\\\"\\n)\"                                                                                                                                                                                                                                                                                                                                                                                \n",
       "[23] \"Numerous organization scholars point out that trust is crucial for well-functioning orga-nizations. However, trust in organizational settings could differ according to the objectsof trust. This study compares two conceptually different models: main-effect model andmediation-effect model. The main-effect model assumes that both interpersonal trust andinstitutional trust promote organizational commitment independently, but the mediation-effect model assumes that institutional trust is cultivated by interpersonal trust andincreases organizational commitment. The results of structural equation modeling (SEM)show that the mediation-effect model fits better than the main-effect model and that thestructural coefficients of the mediation-effect model are neatly interpreted by social sci-entific studies of trust. This study’s findings have two important implications: First, thereseems to be sequential order between different types of trust in organizational settings.Second, interpersonal trust promotes organizational commitment only if it facilitates insti-tutional trust, providing an explanation for the inconsistent findings of previous studies.\"                                                                                                                                                                                                                                                                                                                                                                                                                                                                                                                                                                                                                                                                                                                                                                                       \n",
       "[24] \"This study employs a cross-cultural perspective to examine how local audiences perceive and enjoy foreign dramas and how this psychological process differs depending on the cultural distance between the media and the viewing audience. Using a convenience sample of young Korean college students, this study, as predicted by cultural discount theory, shows that cultural distance decreases Korean audiences’ perceived identification with dramatic characters, which erodes their enjoyment of foreign dramas. Unlike cultural discount theory, however, cultural distance arouses Korean audiences’ perception of novelty, which heightens their enjoyment of foreign dramas. This study discusses the theoretical and practical implications of these findings, as well as their potential limitations.\"                                                                                                                                                                                                                                                                                                                                                                                                                                                                                                                                                                                                                                                                                                                                                                                                                                                                                                                                                                                                                                                                                                                                                                     \n",
       "[25] \"Video-sharing social media like YouTube provide access to diverse cultural products from all over the world, making it possible to test theories that the Web facilitates global cultural convergence. Drawing on a daily listing of YouTube's most popular videos across 58 countries, we investigate the consumption of popular videos in countries that differ in cultural values, language, gross domestic product, and Internet penetration rate. Although online social media facilitate global access to cultural products, we find this technological capability does not result in universal cultural convergence. Instead, consumption of popular videos in culturally different countries appears to be constrained by cultural values. Cross-cultural convergence is more advanced in cosmopolitan countries with cultural values that favor individualism and power inequality.\"                                                                                                                                                                                                                                                                                                                                                                                                                                                                                                                                                                                                                                                                                                                                                                                                                                                                                                                                                                                                                                                                                               \n",
       "[26] \"This study examined how social networking site (SNS) users' social comparison orientations indirectly affect their psychological well-being via four types of social comparison-based emotions. Based on national survey data, we found that social comparison-based emotions mediated the relationships between Facebook users' social comparison orientations and psychological well-being. If Facebook users have a stronger ability-based social comparison orientation, their psychological well-being decreases via upward contrastive emotions (e.g., depression and envy) toward the comparison other; however, it increases via downward assimilative emotions (e.g., worry and sympathy). By contrast, if Facebook users have a stronger opinion-based social comparison orientation, their psychological well-being increases via increased feelings of upward assimilative emotions (e.g., optimism and inspiration) or decreased feelings of upward contrastive emotions (e.g., depression and envy) towards the comparison other. These results indicate that the effects of social comparison on psychological well-being on SNSs become positive or negative depending on whether the users' social comparison orientation emphasized ability or opinion, and the type of emotions triggered by the comparison. We provide theoretical discussions and practical suggestions for psychologically healthy SNS use based on these empirical findings. \"                                                                                                                                                                                                                                                                                                                                                                                                                                                                                                                       \n",
       "[27] \"c(\\\"Political communication scholarship has investigated the mobilization effect of citizens’ political discursive behaviors during elections. With the recent advent of SNSs Social Networking Sites (SNSs) in the political communication environment, citizens’ discursive behaviors on SNSs have received increasing academic attention. This study examines (1) whether offline political talk mediates the relationship between political self-efficacy and election campaign activity (a type of political participation); (2) whether its mediation effect differs from that of SNS political talk; and (3) how those mediation effects vary according to citizens’ endorsed political ideologies. The results reveal that the effects of both offline and SNS political talk are statistically significant among conservatives, liberals, and moderates. Interestingly, the mediation effect of SNS political talk was substantially larger among liberals than among conservatives or moderates (i.e. a moderated mediation effect), while the effect of offline political\\\", \\n\\\"talk was consistent across all three ideological groups. This study demonstrates that the electoral mobilization effect of SNSs is ideology-dependent, and is particularly based on the mismatch between SNS users’ political ideology and the current government’s political orientation. Implications and limitations of the study are also discussed\\\")\"                                                                                                                                                                                                                                                                                                                                                                                                                                                                                                                                \n",
       "[28] \"c(\\\"This study investigated whether individuals with different socioeconomic status (SES) should be provided differently tailored health messages to promote healthy dietary behaviour (HDB). Prior research has suggested that people with different SESs tend to exhibit different types of beliefs about health, but it remains unclear how SES interacts with these beliefs to influence health outcomes. To better understand the differences in HDB between high-and low-SES populations and propose effective intervention strategies, we examined (i) how SES is associated with HDB, (ii) how internal health locus of control (HLC) and powerful others HLC are associated with HDB, and (iii) how SES interacts with internal and powerful others HLC to influence HDB. Using data from the Annenberg National Health Communication Survey, collected from 2005 to 2012 (N = 6,262) in the United States, hierarchical multiple regression analyses were conducted. Education level was found to be positively associated \\\", \\n\\\"with HDB, while income level was not. Both internal and powerful others HLC beliefs were positively associated with HDB. The positive relationship between internal HLC and HDB strengthened as the level of education and income increased, whereas the positive relationship between powerful others HLC and HDB weakened as respondents’ education level increased. These results suggest that the design and delivery of communication messages should be tailored to populations’ specific SES and HLC beliefs for effective public health interventions. For example, messages enhancing internal HLC (e.g. providing specific skills and knowledge about health behaviours) might be more helpful for the richer and more-educated, while messages appealing to one’s powerful others HLC beliefs (e.g. advice on health lifestyles given by well-known health professionals) might be more effective for less-educated people.\\\"\\n)\"\n",
       "[29] \"The present study advances the understanding of how medical drama viewing influences healthy lifestyle behaviors (e.g., smoking, exercising, and consuming vegetables) by examining the role of the health locus of control (HLOC) beliefs and education level. An analysis of nationally representative data reveals that watching medical dramas is positively associated with chance and powerful others’ HLOC beliefs. In addition, healthy lifestyle behaviors are positively associated with the internal HLOC belief and are negatively associated with the chance and powerful others’ HLOC beliefs. Research findings demonstrate that there are indirect effects of medical drama viewing on these behaviors via chance and powerful others’ HLOC beliefs. The indirect effect through the powerful others’ HLOC belief is also contingent on the education level. The implications for the role of HLOC beliefs and education level in terms of the effects of medical dramas on health-promoting behaviors are discussed.\"                                                                                                                                                                                                                                                                                                                                                                                                                                                                                                                                                                                                                                                                                                                                                                                                                                                                                                                                                  \n",
       "[30] \"This study presents an automated content analysis of 2,379 abstracts of research articles published in four major journals from 1997 to 2017. A total of 45 topics were extracted using the structural topic model (STM), a statistical text analytic method that allows us to infer latent topics from abstracts and to conduct statistical significance tests regarding the relationships between topic prevalence and abstract features. We found that while some topics (e.g., public health or online social movement) demonstrate increasing trends, others (e.g., third-person effect and communication strategies) reveal decreasing trends; authors in non-US-based institutions are more likely than those affiliated with US-based institutions to focus on the societal consequences of media (e.g., agenda-setting effect or public deliberation). Additionally, interesting relationships were found between topic prevalence and the number of article authors (e.g., popular topics among multi-author papers are lab-based experiments or large-scale campaign studies). Finally, topic-journal associations were identified.\"                                                                                                                                                                                                                                                                                                                                                                                                                                                                                                                                                                                                                                                                                                                                                                                                                                             \n",
       "[31] \"We argue that the influence of presumed influence (IPI) model (Gunther & Storey, 2003) should be extended through an additional interaction term between the presumed effects of media on “others” (PME3) and the “self” (PME1). Doing so would enable testing of whether individuals who perceive a mutually shared influence of the media show stronger support for censorship. The IPI model does not suffer from the methodological limitations of the conventional third-person effect literature relying on other?self disparities (i.e., PME3?PME1), but it focuses entirely on the main effect of PME3; thus, insufficient attention is paid to the role of PME1 in explaining the influence of presumed influence. To validate this Extended IPI model, and determine how it compares with other models, we compared individuals’ presumptions about the effects of fake news on others (PFNE3) and themselves (PFNE1), and how PFNE3 and PFNE1 interact to influence individuals’ support for policies prohibiting the potential negative effects of fake news. We found that individuals’ support for government interventions and sanctions for fake news creators and sharers was stronger if they believed that fake news influenced both other people and themselves. The theoretical and methodological implications of the Extended IPI model are discussed.\"                                                                                                                                                                                                                                                                                                                                                                                                                                                                                                                                                                                                       \n",
       "[32] \"This study investigated citizens’ ambivalence toward female politicians and how valenced information about the politician helps them resolve their ambivalence, making them form polarized attitudes toward the candidate. Our study’s participants felt stronger ambivalence toward a female candidate than a male candidate; those feeling stronger ambivalence reported more one-sided thoughts about and more extreme evaluation of the candidate, but only when the candidate was a woman. Citizens were also more easily persuaded by valenced information to resolve their ambivalence about the female candidate. On the basis of our findings, we discuss the politico-psychological process underlying citizens’ ambivalence toward female politicians and how it is related with the gender-equal democracy.\"                                                                                                                                                                                                                                                                                                                                                                                                                                                                                                                                                                                                                                                                                                                                                                                                                                                                                                                                                                                                                                                                                                                                                                 \n",
       "[33] \"Public health officials (PHOs) are responsible for providing trustworthy information during a public health crisis; however, there is little research on how the public behaves when their expectations for such information are violated. Drawing on media dependency theory and source credibility research as our primary theoretical framework, we tested how credibility of information from PHOs is associated with people’s reliance on a particular communication channel in the context of the 2015 Middle East Respiratory Syndrome (MERS) outbreak in South Korea. Using nationally representative data (N = 1036) collected during the MERS outbreak, we found that less credible information from PHOs led to more frequent use of online news, interpersonal networks, and social media for acquiring MERS-related information. However, credibility of information from PHOs was not associated with the use of television news or print newspapers. The theoretical and practical implications of our results on communication channels usage are discussed.\"                                                                                                                                                                                                                                                                                                                                                                                                                                                                                                                                                                                                                                                                                                                                                                                                                                                                                                              "
      ]
     },
     "metadata": {},
     "output_type": "display_data"
    }
   ],
   "source": [
    "mytext<-c(rep(NA,33))\n",
    "for (i in 1:33){\n",
    "    #mytext[i]<-mypaper[[i]][1]\n",
    "    mytext[i] <- as.character(mypaper[[i]][1])\n",
    "}\n",
    "mytext"
   ]
  },
  {
   "cell_type": "code",
   "execution_count": 50,
   "metadata": {},
   "outputs": [],
   "source": [
    "my.df.text<-data_frame(paper.id = 1:33, doc=mytext)\n",
    "my.df.text.word <- my.df.text %>% unnest_tokens(word, doc)"
   ]
  },
  {
   "cell_type": "code",
   "execution_count": 52,
   "metadata": {},
   "outputs": [
    {
     "name": "stderr",
     "output_type": "stream",
     "text": [
      "Joining, by = \"word\"\n",
      "\n"
     ]
    },
    {
     "data": {
      "text/html": [
       "<table>\n",
       "<caption>A tibble: 223 × 4</caption>\n",
       "<thead>\n",
       "\t<tr><th scope=col>word</th><th scope=col>paper.id</th><th scope=col>sentiment</th><th scope=col>n</th></tr>\n",
       "\t<tr><th scope=col>&lt;chr&gt;</th><th scope=col>&lt;int&gt;</th><th scope=col>&lt;chr&gt;</th><th scope=col>&lt;int&gt;</th></tr>\n",
       "</thead>\n",
       "<tbody>\n",
       "\t<tr><td>achievements </td><td>10</td><td>positive</td><td>1</td></tr>\n",
       "\t<tr><td>advanced     </td><td>11</td><td>positive</td><td>1</td></tr>\n",
       "\t<tr><td>advanced     </td><td>25</td><td>positive</td><td>1</td></tr>\n",
       "\t<tr><td>affirmative  </td><td> 9</td><td>positive</td><td>1</td></tr>\n",
       "\t<tr><td>ambivalence  </td><td> 4</td><td>negative</td><td>7</td></tr>\n",
       "\t<tr><td>ambivalence  </td><td> 6</td><td>negative</td><td>2</td></tr>\n",
       "\t<tr><td>ambivalence  </td><td>32</td><td>negative</td><td>6</td></tr>\n",
       "\t<tr><td>ambivalent   </td><td>16</td><td>negative</td><td>1</td></tr>\n",
       "\t<tr><td>anger        </td><td>21</td><td>negative</td><td>3</td></tr>\n",
       "\t<tr><td>anxious      </td><td>16</td><td>negative</td><td>1</td></tr>\n",
       "\t<tr><td>appealing    </td><td>28</td><td>positive</td><td>1</td></tr>\n",
       "\t<tr><td>assure       </td><td> 1</td><td>positive</td><td>1</td></tr>\n",
       "\t<tr><td>beneficial   </td><td>13</td><td>positive</td><td>1</td></tr>\n",
       "\t<tr><td>benefits     </td><td>10</td><td>positive</td><td>1</td></tr>\n",
       "\t<tr><td>better       </td><td>17</td><td>positive</td><td>1</td></tr>\n",
       "\t<tr><td>better       </td><td>23</td><td>positive</td><td>1</td></tr>\n",
       "\t<tr><td>better       </td><td>28</td><td>positive</td><td>1</td></tr>\n",
       "\t<tr><td>blurred      </td><td>20</td><td>negative</td><td>1</td></tr>\n",
       "\t<tr><td>capability   </td><td>25</td><td>positive</td><td>1</td></tr>\n",
       "\t<tr><td>clarity      </td><td> 4</td><td>positive</td><td>1</td></tr>\n",
       "\t<tr><td>clearly      </td><td>20</td><td>positive</td><td>1</td></tr>\n",
       "\t<tr><td>commitment   </td><td>23</td><td>positive</td><td>3</td></tr>\n",
       "\t<tr><td>complementary</td><td> 7</td><td>positive</td><td>1</td></tr>\n",
       "\t<tr><td>concern      </td><td> 6</td><td>negative</td><td>2</td></tr>\n",
       "\t<tr><td>concerned    </td><td>14</td><td>negative</td><td>1</td></tr>\n",
       "\t<tr><td>concerns     </td><td>17</td><td>negative</td><td>1</td></tr>\n",
       "\t<tr><td>concerns     </td><td>19</td><td>negative</td><td>2</td></tr>\n",
       "\t<tr><td>conflicting  </td><td> 4</td><td>negative</td><td>3</td></tr>\n",
       "\t<tr><td>conservative </td><td>20</td><td>negative</td><td>1</td></tr>\n",
       "\t<tr><td>consistent   </td><td>27</td><td>positive</td><td>1</td></tr>\n",
       "\t<tr><td>...</td><td>...</td><td>...</td><td>...</td></tr>\n",
       "\t<tr><td>support       </td><td>31</td><td>positive</td><td> 3</td></tr>\n",
       "\t<tr><td>supported     </td><td>21</td><td>positive</td><td> 1</td></tr>\n",
       "\t<tr><td>supported     </td><td>22</td><td>positive</td><td> 1</td></tr>\n",
       "\t<tr><td>supports      </td><td>13</td><td>positive</td><td> 1</td></tr>\n",
       "\t<tr><td>syndrome      </td><td>33</td><td>negative</td><td> 1</td></tr>\n",
       "\t<tr><td>tentative     </td><td> 8</td><td>negative</td><td> 1</td></tr>\n",
       "\t<tr><td>thoughtfulness</td><td>14</td><td>positive</td><td> 1</td></tr>\n",
       "\t<tr><td>trust         </td><td>10</td><td>positive</td><td> 2</td></tr>\n",
       "\t<tr><td>trust         </td><td>15</td><td>positive</td><td> 3</td></tr>\n",
       "\t<tr><td>trust         </td><td>23</td><td>positive</td><td>11</td></tr>\n",
       "\t<tr><td>trustworthy   </td><td>33</td><td>positive</td><td> 1</td></tr>\n",
       "\t<tr><td>unclear       </td><td>28</td><td>negative</td><td> 1</td></tr>\n",
       "\t<tr><td>unfamiliar    </td><td>14</td><td>negative</td><td> 1</td></tr>\n",
       "\t<tr><td>variety       </td><td> 4</td><td>positive</td><td> 1</td></tr>\n",
       "\t<tr><td>variety       </td><td>10</td><td>positive</td><td> 1</td></tr>\n",
       "\t<tr><td>variety       </td><td>22</td><td>positive</td><td> 1</td></tr>\n",
       "\t<tr><td>vice          </td><td>10</td><td>negative</td><td> 1</td></tr>\n",
       "\t<tr><td>vulnerable    </td><td>17</td><td>negative</td><td> 1</td></tr>\n",
       "\t<tr><td>weak          </td><td> 3</td><td>negative</td><td> 2</td></tr>\n",
       "\t<tr><td>weaknesses    </td><td> 8</td><td>negative</td><td> 1</td></tr>\n",
       "\t<tr><td>well          </td><td>15</td><td>positive</td><td> 1</td></tr>\n",
       "\t<tr><td>well          </td><td>16</td><td>positive</td><td> 1</td></tr>\n",
       "\t<tr><td>well          </td><td>21</td><td>positive</td><td> 1</td></tr>\n",
       "\t<tr><td>well          </td><td>23</td><td>positive</td><td> 1</td></tr>\n",
       "\t<tr><td>well          </td><td>24</td><td>positive</td><td> 1</td></tr>\n",
       "\t<tr><td>well          </td><td>26</td><td>positive</td><td> 5</td></tr>\n",
       "\t<tr><td>well          </td><td>28</td><td>positive</td><td> 1</td></tr>\n",
       "\t<tr><td>winner        </td><td>20</td><td>positive</td><td> 1</td></tr>\n",
       "\t<tr><td>work          </td><td>17</td><td>positive</td><td> 1</td></tr>\n",
       "\t<tr><td>worry         </td><td>26</td><td>negative</td><td> 1</td></tr>\n",
       "</tbody>\n",
       "</table>\n"
      ],
      "text/latex": [
       "A tibble: 223 × 4\n",
       "\\begin{tabular}{llll}\n",
       " word & paper.id & sentiment & n\\\\\n",
       " <chr> & <int> & <chr> & <int>\\\\\n",
       "\\hline\n",
       "\t achievements  & 10 & positive & 1\\\\\n",
       "\t advanced      & 11 & positive & 1\\\\\n",
       "\t advanced      & 25 & positive & 1\\\\\n",
       "\t affirmative   &  9 & positive & 1\\\\\n",
       "\t ambivalence   &  4 & negative & 7\\\\\n",
       "\t ambivalence   &  6 & negative & 2\\\\\n",
       "\t ambivalence   & 32 & negative & 6\\\\\n",
       "\t ambivalent    & 16 & negative & 1\\\\\n",
       "\t anger         & 21 & negative & 3\\\\\n",
       "\t anxious       & 16 & negative & 1\\\\\n",
       "\t appealing     & 28 & positive & 1\\\\\n",
       "\t assure        &  1 & positive & 1\\\\\n",
       "\t beneficial    & 13 & positive & 1\\\\\n",
       "\t benefits      & 10 & positive & 1\\\\\n",
       "\t better        & 17 & positive & 1\\\\\n",
       "\t better        & 23 & positive & 1\\\\\n",
       "\t better        & 28 & positive & 1\\\\\n",
       "\t blurred       & 20 & negative & 1\\\\\n",
       "\t capability    & 25 & positive & 1\\\\\n",
       "\t clarity       &  4 & positive & 1\\\\\n",
       "\t clearly       & 20 & positive & 1\\\\\n",
       "\t commitment    & 23 & positive & 3\\\\\n",
       "\t complementary &  7 & positive & 1\\\\\n",
       "\t concern       &  6 & negative & 2\\\\\n",
       "\t concerned     & 14 & negative & 1\\\\\n",
       "\t concerns      & 17 & negative & 1\\\\\n",
       "\t concerns      & 19 & negative & 2\\\\\n",
       "\t conflicting   &  4 & negative & 3\\\\\n",
       "\t conservative  & 20 & negative & 1\\\\\n",
       "\t consistent    & 27 & positive & 1\\\\\n",
       "\t ... & ... & ... & ...\\\\\n",
       "\t support        & 31 & positive &  3\\\\\n",
       "\t supported      & 21 & positive &  1\\\\\n",
       "\t supported      & 22 & positive &  1\\\\\n",
       "\t supports       & 13 & positive &  1\\\\\n",
       "\t syndrome       & 33 & negative &  1\\\\\n",
       "\t tentative      &  8 & negative &  1\\\\\n",
       "\t thoughtfulness & 14 & positive &  1\\\\\n",
       "\t trust          & 10 & positive &  2\\\\\n",
       "\t trust          & 15 & positive &  3\\\\\n",
       "\t trust          & 23 & positive & 11\\\\\n",
       "\t trustworthy    & 33 & positive &  1\\\\\n",
       "\t unclear        & 28 & negative &  1\\\\\n",
       "\t unfamiliar     & 14 & negative &  1\\\\\n",
       "\t variety        &  4 & positive &  1\\\\\n",
       "\t variety        & 10 & positive &  1\\\\\n",
       "\t variety        & 22 & positive &  1\\\\\n",
       "\t vice           & 10 & negative &  1\\\\\n",
       "\t vulnerable     & 17 & negative &  1\\\\\n",
       "\t weak           &  3 & negative &  2\\\\\n",
       "\t weaknesses     &  8 & negative &  1\\\\\n",
       "\t well           & 15 & positive &  1\\\\\n",
       "\t well           & 16 & positive &  1\\\\\n",
       "\t well           & 21 & positive &  1\\\\\n",
       "\t well           & 23 & positive &  1\\\\\n",
       "\t well           & 24 & positive &  1\\\\\n",
       "\t well           & 26 & positive &  5\\\\\n",
       "\t well           & 28 & positive &  1\\\\\n",
       "\t winner         & 20 & positive &  1\\\\\n",
       "\t work           & 17 & positive &  1\\\\\n",
       "\t worry          & 26 & negative &  1\\\\\n",
       "\\end{tabular}\n"
      ],
      "text/markdown": [
       "\n",
       "A tibble: 223 × 4\n",
       "\n",
       "| word &lt;chr&gt; | paper.id &lt;int&gt; | sentiment &lt;chr&gt; | n &lt;int&gt; |\n",
       "|---|---|---|---|\n",
       "| achievements  | 10 | positive | 1 |\n",
       "| advanced      | 11 | positive | 1 |\n",
       "| advanced      | 25 | positive | 1 |\n",
       "| affirmative   |  9 | positive | 1 |\n",
       "| ambivalence   |  4 | negative | 7 |\n",
       "| ambivalence   |  6 | negative | 2 |\n",
       "| ambivalence   | 32 | negative | 6 |\n",
       "| ambivalent    | 16 | negative | 1 |\n",
       "| anger         | 21 | negative | 3 |\n",
       "| anxious       | 16 | negative | 1 |\n",
       "| appealing     | 28 | positive | 1 |\n",
       "| assure        |  1 | positive | 1 |\n",
       "| beneficial    | 13 | positive | 1 |\n",
       "| benefits      | 10 | positive | 1 |\n",
       "| better        | 17 | positive | 1 |\n",
       "| better        | 23 | positive | 1 |\n",
       "| better        | 28 | positive | 1 |\n",
       "| blurred       | 20 | negative | 1 |\n",
       "| capability    | 25 | positive | 1 |\n",
       "| clarity       |  4 | positive | 1 |\n",
       "| clearly       | 20 | positive | 1 |\n",
       "| commitment    | 23 | positive | 3 |\n",
       "| complementary |  7 | positive | 1 |\n",
       "| concern       |  6 | negative | 2 |\n",
       "| concerned     | 14 | negative | 1 |\n",
       "| concerns      | 17 | negative | 1 |\n",
       "| concerns      | 19 | negative | 2 |\n",
       "| conflicting   |  4 | negative | 3 |\n",
       "| conservative  | 20 | negative | 1 |\n",
       "| consistent    | 27 | positive | 1 |\n",
       "| ... | ... | ... | ... |\n",
       "| support        | 31 | positive |  3 |\n",
       "| supported      | 21 | positive |  1 |\n",
       "| supported      | 22 | positive |  1 |\n",
       "| supports       | 13 | positive |  1 |\n",
       "| syndrome       | 33 | negative |  1 |\n",
       "| tentative      |  8 | negative |  1 |\n",
       "| thoughtfulness | 14 | positive |  1 |\n",
       "| trust          | 10 | positive |  2 |\n",
       "| trust          | 15 | positive |  3 |\n",
       "| trust          | 23 | positive | 11 |\n",
       "| trustworthy    | 33 | positive |  1 |\n",
       "| unclear        | 28 | negative |  1 |\n",
       "| unfamiliar     | 14 | negative |  1 |\n",
       "| variety        |  4 | positive |  1 |\n",
       "| variety        | 10 | positive |  1 |\n",
       "| variety        | 22 | positive |  1 |\n",
       "| vice           | 10 | negative |  1 |\n",
       "| vulnerable     | 17 | negative |  1 |\n",
       "| weak           |  3 | negative |  2 |\n",
       "| weaknesses     |  8 | negative |  1 |\n",
       "| well           | 15 | positive |  1 |\n",
       "| well           | 16 | positive |  1 |\n",
       "| well           | 21 | positive |  1 |\n",
       "| well           | 23 | positive |  1 |\n",
       "| well           | 24 | positive |  1 |\n",
       "| well           | 26 | positive |  5 |\n",
       "| well           | 28 | positive |  1 |\n",
       "| winner         | 20 | positive |  1 |\n",
       "| work           | 17 | positive |  1 |\n",
       "| worry          | 26 | negative |  1 |\n",
       "\n"
      ],
      "text/plain": [
       "    word           paper.id sentiment n  \n",
       "1   achievements   10       positive  1  \n",
       "2   advanced       11       positive  1  \n",
       "3   advanced       25       positive  1  \n",
       "4   affirmative     9       positive  1  \n",
       "5   ambivalence     4       negative  7  \n",
       "6   ambivalence     6       negative  2  \n",
       "7   ambivalence    32       negative  6  \n",
       "8   ambivalent     16       negative  1  \n",
       "9   anger          21       negative  3  \n",
       "10  anxious        16       negative  1  \n",
       "11  appealing      28       positive  1  \n",
       "12  assure          1       positive  1  \n",
       "13  beneficial     13       positive  1  \n",
       "14  benefits       10       positive  1  \n",
       "15  better         17       positive  1  \n",
       "16  better         23       positive  1  \n",
       "17  better         28       positive  1  \n",
       "18  blurred        20       negative  1  \n",
       "19  capability     25       positive  1  \n",
       "20  clarity         4       positive  1  \n",
       "21  clearly        20       positive  1  \n",
       "22  commitment     23       positive  3  \n",
       "23  complementary   7       positive  1  \n",
       "24  concern         6       negative  2  \n",
       "25  concerned      14       negative  1  \n",
       "26  concerns       17       negative  1  \n",
       "27  concerns       19       negative  2  \n",
       "28  conflicting     4       negative  3  \n",
       "29  conservative   20       negative  1  \n",
       "30  consistent     27       positive  1  \n",
       "... ...            ...      ...       ...\n",
       "194 support        31       positive   3 \n",
       "195 supported      21       positive   1 \n",
       "196 supported      22       positive   1 \n",
       "197 supports       13       positive   1 \n",
       "198 syndrome       33       negative   1 \n",
       "199 tentative       8       negative   1 \n",
       "200 thoughtfulness 14       positive   1 \n",
       "201 trust          10       positive   2 \n",
       "202 trust          15       positive   3 \n",
       "203 trust          23       positive  11 \n",
       "204 trustworthy    33       positive   1 \n",
       "205 unclear        28       negative   1 \n",
       "206 unfamiliar     14       negative   1 \n",
       "207 variety         4       positive   1 \n",
       "208 variety        10       positive   1 \n",
       "209 variety        22       positive   1 \n",
       "210 vice           10       negative   1 \n",
       "211 vulnerable     17       negative   1 \n",
       "212 weak            3       negative   2 \n",
       "213 weaknesses      8       negative   1 \n",
       "214 well           15       positive   1 \n",
       "215 well           16       positive   1 \n",
       "216 well           21       positive   1 \n",
       "217 well           23       positive   1 \n",
       "218 well           24       positive   1 \n",
       "219 well           26       positive   5 \n",
       "220 well           28       positive   1 \n",
       "221 winner         20       positive   1 \n",
       "222 work           17       positive   1 \n",
       "223 worry          26       negative   1 "
      ]
     },
     "metadata": {},
     "output_type": "display_data"
    }
   ],
   "source": [
    "my.df.text.word %>% inner_join(get_sentiments(\"bing\")) %>% count(word, paper.id, sentiment)"
   ]
  },
  {
   "cell_type": "code",
   "execution_count": 53,
   "metadata": {},
   "outputs": [],
   "source": [
    "library(tidyr)"
   ]
  },
  {
   "cell_type": "code",
   "execution_count": 55,
   "metadata": {},
   "outputs": [
    {
     "name": "stderr",
     "output_type": "stream",
     "text": [
      "Joining, by = \"word\"\n",
      "\n"
     ]
    }
   ],
   "source": [
    "myresult.sa <- my.df.text.word %>% \n",
    "    inner_join(get_sentiments(\"bing\")) %>% \n",
    "    count(word, paper.id, sentiment) %>% \n",
    "    spread(sentiment, n, fill=0)"
   ]
  },
  {
   "cell_type": "code",
   "execution_count": 62,
   "metadata": {},
   "outputs": [
    {
     "name": "stderr",
     "output_type": "stream",
     "text": [
      "`summarise()` ungrouping output (override with `.groups` argument)\n",
      "\n"
     ]
    },
    {
     "data": {
      "text/html": [
       "<table>\n",
       "<caption>A tibble: 32 × 4</caption>\n",
       "<thead>\n",
       "\t<tr><th scope=col>paper.id</th><th scope=col>pos.sum</th><th scope=col>neg.sum</th><th scope=col>pos.sent</th></tr>\n",
       "\t<tr><th scope=col>&lt;int&gt;</th><th scope=col>&lt;dbl&gt;</th><th scope=col>&lt;dbl&gt;</th><th scope=col>&lt;dbl&gt;</th></tr>\n",
       "</thead>\n",
       "<tbody>\n",
       "\t<tr><td> 1</td><td> 3</td><td> 0</td><td>  3</td></tr>\n",
       "\t<tr><td> 2</td><td> 5</td><td> 3</td><td>  2</td></tr>\n",
       "\t<tr><td> 3</td><td> 3</td><td> 2</td><td>  1</td></tr>\n",
       "\t<tr><td> 4</td><td> 6</td><td>16</td><td>-10</td></tr>\n",
       "\t<tr><td> 5</td><td> 1</td><td> 3</td><td> -2</td></tr>\n",
       "\t<tr><td> 6</td><td> 1</td><td> 6</td><td> -5</td></tr>\n",
       "\t<tr><td> 7</td><td> 7</td><td> 2</td><td>  5</td></tr>\n",
       "\t<tr><td> 8</td><td> 2</td><td> 3</td><td> -1</td></tr>\n",
       "\t<tr><td> 9</td><td> 7</td><td>11</td><td> -4</td></tr>\n",
       "\t<tr><td>10</td><td>11</td><td> 8</td><td>  3</td></tr>\n",
       "\t<tr><td>11</td><td> 9</td><td>10</td><td> -1</td></tr>\n",
       "\t<tr><td>12</td><td> 5</td><td> 1</td><td>  4</td></tr>\n",
       "\t<tr><td>13</td><td> 5</td><td> 8</td><td> -3</td></tr>\n",
       "\t<tr><td>14</td><td> 4</td><td> 6</td><td> -2</td></tr>\n",
       "\t<tr><td>15</td><td>11</td><td> 1</td><td> 10</td></tr>\n",
       "\t<tr><td>16</td><td> 2</td><td> 4</td><td> -2</td></tr>\n",
       "\t<tr><td>17</td><td> 4</td><td> 5</td><td> -1</td></tr>\n",
       "\t<tr><td>19</td><td> 1</td><td> 9</td><td> -8</td></tr>\n",
       "\t<tr><td>20</td><td> 6</td><td> 3</td><td>  3</td></tr>\n",
       "\t<tr><td>21</td><td> 2</td><td>10</td><td> -8</td></tr>\n",
       "\t<tr><td>22</td><td> 6</td><td> 1</td><td>  5</td></tr>\n",
       "\t<tr><td>23</td><td>18</td><td> 1</td><td> 17</td></tr>\n",
       "\t<tr><td>24</td><td> 6</td><td> 2</td><td>  4</td></tr>\n",
       "\t<tr><td>25</td><td> 8</td><td> 2</td><td>  6</td></tr>\n",
       "\t<tr><td>26</td><td>13</td><td> 4</td><td>  9</td></tr>\n",
       "\t<tr><td>27</td><td> 3</td><td> 1</td><td>  2</td></tr>\n",
       "\t<tr><td>28</td><td>20</td><td> 2</td><td> 18</td></tr>\n",
       "\t<tr><td>29</td><td> 8</td><td> 0</td><td>  8</td></tr>\n",
       "\t<tr><td>30</td><td> 2</td><td> 0</td><td>  2</td></tr>\n",
       "\t<tr><td>31</td><td> 5</td><td> 8</td><td> -3</td></tr>\n",
       "\t<tr><td>32</td><td> 2</td><td> 6</td><td> -4</td></tr>\n",
       "\t<tr><td>33</td><td> 3</td><td> 4</td><td> -1</td></tr>\n",
       "</tbody>\n",
       "</table>\n"
      ],
      "text/latex": [
       "A tibble: 32 × 4\n",
       "\\begin{tabular}{llll}\n",
       " paper.id & pos.sum & neg.sum & pos.sent\\\\\n",
       " <int> & <dbl> & <dbl> & <dbl>\\\\\n",
       "\\hline\n",
       "\t  1 &  3 &  0 &   3\\\\\n",
       "\t  2 &  5 &  3 &   2\\\\\n",
       "\t  3 &  3 &  2 &   1\\\\\n",
       "\t  4 &  6 & 16 & -10\\\\\n",
       "\t  5 &  1 &  3 &  -2\\\\\n",
       "\t  6 &  1 &  6 &  -5\\\\\n",
       "\t  7 &  7 &  2 &   5\\\\\n",
       "\t  8 &  2 &  3 &  -1\\\\\n",
       "\t  9 &  7 & 11 &  -4\\\\\n",
       "\t 10 & 11 &  8 &   3\\\\\n",
       "\t 11 &  9 & 10 &  -1\\\\\n",
       "\t 12 &  5 &  1 &   4\\\\\n",
       "\t 13 &  5 &  8 &  -3\\\\\n",
       "\t 14 &  4 &  6 &  -2\\\\\n",
       "\t 15 & 11 &  1 &  10\\\\\n",
       "\t 16 &  2 &  4 &  -2\\\\\n",
       "\t 17 &  4 &  5 &  -1\\\\\n",
       "\t 19 &  1 &  9 &  -8\\\\\n",
       "\t 20 &  6 &  3 &   3\\\\\n",
       "\t 21 &  2 & 10 &  -8\\\\\n",
       "\t 22 &  6 &  1 &   5\\\\\n",
       "\t 23 & 18 &  1 &  17\\\\\n",
       "\t 24 &  6 &  2 &   4\\\\\n",
       "\t 25 &  8 &  2 &   6\\\\\n",
       "\t 26 & 13 &  4 &   9\\\\\n",
       "\t 27 &  3 &  1 &   2\\\\\n",
       "\t 28 & 20 &  2 &  18\\\\\n",
       "\t 29 &  8 &  0 &   8\\\\\n",
       "\t 30 &  2 &  0 &   2\\\\\n",
       "\t 31 &  5 &  8 &  -3\\\\\n",
       "\t 32 &  2 &  6 &  -4\\\\\n",
       "\t 33 &  3 &  4 &  -1\\\\\n",
       "\\end{tabular}\n"
      ],
      "text/markdown": [
       "\n",
       "A tibble: 32 × 4\n",
       "\n",
       "| paper.id &lt;int&gt; | pos.sum &lt;dbl&gt; | neg.sum &lt;dbl&gt; | pos.sent &lt;dbl&gt; |\n",
       "|---|---|---|---|\n",
       "|  1 |  3 |  0 |   3 |\n",
       "|  2 |  5 |  3 |   2 |\n",
       "|  3 |  3 |  2 |   1 |\n",
       "|  4 |  6 | 16 | -10 |\n",
       "|  5 |  1 |  3 |  -2 |\n",
       "|  6 |  1 |  6 |  -5 |\n",
       "|  7 |  7 |  2 |   5 |\n",
       "|  8 |  2 |  3 |  -1 |\n",
       "|  9 |  7 | 11 |  -4 |\n",
       "| 10 | 11 |  8 |   3 |\n",
       "| 11 |  9 | 10 |  -1 |\n",
       "| 12 |  5 |  1 |   4 |\n",
       "| 13 |  5 |  8 |  -3 |\n",
       "| 14 |  4 |  6 |  -2 |\n",
       "| 15 | 11 |  1 |  10 |\n",
       "| 16 |  2 |  4 |  -2 |\n",
       "| 17 |  4 |  5 |  -1 |\n",
       "| 19 |  1 |  9 |  -8 |\n",
       "| 20 |  6 |  3 |   3 |\n",
       "| 21 |  2 | 10 |  -8 |\n",
       "| 22 |  6 |  1 |   5 |\n",
       "| 23 | 18 |  1 |  17 |\n",
       "| 24 |  6 |  2 |   4 |\n",
       "| 25 |  8 |  2 |   6 |\n",
       "| 26 | 13 |  4 |   9 |\n",
       "| 27 |  3 |  1 |   2 |\n",
       "| 28 | 20 |  2 |  18 |\n",
       "| 29 |  8 |  0 |   8 |\n",
       "| 30 |  2 |  0 |   2 |\n",
       "| 31 |  5 |  8 |  -3 |\n",
       "| 32 |  2 |  6 |  -4 |\n",
       "| 33 |  3 |  4 |  -1 |\n",
       "\n"
      ],
      "text/plain": [
       "   paper.id pos.sum neg.sum pos.sent\n",
       "1   1        3       0        3     \n",
       "2   2        5       3        2     \n",
       "3   3        3       2        1     \n",
       "4   4        6      16      -10     \n",
       "5   5        1       3       -2     \n",
       "6   6        1       6       -5     \n",
       "7   7        7       2        5     \n",
       "8   8        2       3       -1     \n",
       "9   9        7      11       -4     \n",
       "10 10       11       8        3     \n",
       "11 11        9      10       -1     \n",
       "12 12        5       1        4     \n",
       "13 13        5       8       -3     \n",
       "14 14        4       6       -2     \n",
       "15 15       11       1       10     \n",
       "16 16        2       4       -2     \n",
       "17 17        4       5       -1     \n",
       "18 19        1       9       -8     \n",
       "19 20        6       3        3     \n",
       "20 21        2      10       -8     \n",
       "21 22        6       1        5     \n",
       "22 23       18       1       17     \n",
       "23 24        6       2        4     \n",
       "24 25        8       2        6     \n",
       "25 26       13       4        9     \n",
       "26 27        3       1        2     \n",
       "27 28       20       2       18     \n",
       "28 29        8       0        8     \n",
       "29 30        2       0        2     \n",
       "30 31        5       8       -3     \n",
       "31 32        2       6       -4     \n",
       "32 33        3       4       -1     "
      ]
     },
     "metadata": {},
     "output_type": "display_data"
    }
   ],
   "source": [
    "# 문서별 감정분석 (긍정, 부정)\n",
    "myagg<- summarise(group_by(myresult.sa, paper.id), \n",
    "                  pos.sum = sum(positive), \n",
    "                  neg.sum = sum(negative), \n",
    "                  pos.sent = pos.sum-neg.sum)\n",
    "myagg"
   ]
  },
  {
   "cell_type": "code",
   "execution_count": null,
   "metadata": {},
   "outputs": [],
   "source": [
    "# 객체(오브젝트) %>% 메서드(함수) : 파이프 오퍼레이터\n",
    "# 함수를 오브젝트에 적용하십시오!"
   ]
  },
  {
   "cell_type": "code",
   "execution_count": 43,
   "metadata": {},
   "outputs": [
    {
     "data": {
      "text/html": [
       "<style>\n",
       ".list-inline {list-style: none; margin:0; padding: 0}\n",
       ".list-inline>li {display: inline-block}\n",
       ".list-inline>li:not(:last-child)::after {content: \"\\00b7\"; padding: 0 .5ex}\n",
       "</style>\n",
       "<ol class=list-inline><li>'How Are You'</li><li>'He is a boy'</li><li>'She is a girl'</li></ol>\n"
      ],
      "text/latex": [
       "\\begin{enumerate*}\n",
       "\\item 'How Are You'\n",
       "\\item 'He is a boy'\n",
       "\\item 'She is a girl'\n",
       "\\end{enumerate*}\n"
      ],
      "text/markdown": [
       "1. 'How Are You'\n",
       "2. 'He is a boy'\n",
       "3. 'She is a girl'\n",
       "\n",
       "\n"
      ],
      "text/plain": [
       "[1] \"How Are You\"   \"He is a boy\"   \"She is a girl\""
      ]
     },
     "metadata": {},
     "output_type": "display_data"
    }
   ],
   "source": [
    "text <- c(\"How Are You\", \"He is a boy\", \"She is a girl\") # 요소3개 벡터\n",
    "text"
   ]
  },
  {
   "cell_type": "code",
   "execution_count": 48,
   "metadata": {},
   "outputs": [
    {
     "data": {
      "text/html": [
       "<table>\n",
       "<caption>A tibble: 11 × 2</caption>\n",
       "<thead>\n",
       "\t<tr><th scope=col>line</th><th scope=col>word</th></tr>\n",
       "\t<tr><th scope=col>&lt;int&gt;</th><th scope=col>&lt;chr&gt;</th></tr>\n",
       "</thead>\n",
       "<tbody>\n",
       "\t<tr><td>1</td><td>how </td></tr>\n",
       "\t<tr><td>1</td><td>are </td></tr>\n",
       "\t<tr><td>1</td><td>you </td></tr>\n",
       "\t<tr><td>2</td><td>he  </td></tr>\n",
       "\t<tr><td>2</td><td>is  </td></tr>\n",
       "\t<tr><td>2</td><td>a   </td></tr>\n",
       "\t<tr><td>2</td><td>boy </td></tr>\n",
       "\t<tr><td>3</td><td>she </td></tr>\n",
       "\t<tr><td>3</td><td>is  </td></tr>\n",
       "\t<tr><td>3</td><td>a   </td></tr>\n",
       "\t<tr><td>3</td><td>girl</td></tr>\n",
       "</tbody>\n",
       "</table>\n"
      ],
      "text/latex": [
       "A tibble: 11 × 2\n",
       "\\begin{tabular}{ll}\n",
       " line & word\\\\\n",
       " <int> & <chr>\\\\\n",
       "\\hline\n",
       "\t 1 & how \\\\\n",
       "\t 1 & are \\\\\n",
       "\t 1 & you \\\\\n",
       "\t 2 & he  \\\\\n",
       "\t 2 & is  \\\\\n",
       "\t 2 & a   \\\\\n",
       "\t 2 & boy \\\\\n",
       "\t 3 & she \\\\\n",
       "\t 3 & is  \\\\\n",
       "\t 3 & a   \\\\\n",
       "\t 3 & girl\\\\\n",
       "\\end{tabular}\n"
      ],
      "text/markdown": [
       "\n",
       "A tibble: 11 × 2\n",
       "\n",
       "| line &lt;int&gt; | word &lt;chr&gt; |\n",
       "|---|---|\n",
       "| 1 | how  |\n",
       "| 1 | are  |\n",
       "| 1 | you  |\n",
       "| 2 | he   |\n",
       "| 2 | is   |\n",
       "| 2 | a    |\n",
       "| 2 | boy  |\n",
       "| 3 | she  |\n",
       "| 3 | is   |\n",
       "| 3 | a    |\n",
       "| 3 | girl |\n",
       "\n"
      ],
      "text/plain": [
       "   line word\n",
       "1  1    how \n",
       "2  1    are \n",
       "3  1    you \n",
       "4  2    he  \n",
       "5  2    is  \n",
       "6  2    a   \n",
       "7  2    boy \n",
       "8  3    she \n",
       "9  3    is  \n",
       "10 3    a   \n",
       "11 3    girl"
      ]
     },
     "metadata": {},
     "output_type": "display_data"
    }
   ],
   "source": [
    "textof <- data_frame(line=1:3, text = text)\n",
    "\n",
    "textof %>% unnest_tokens(word, text)"
   ]
  },
  {
   "cell_type": "code",
   "execution_count": 65,
   "metadata": {},
   "outputs": [
    {
     "name": "stderr",
     "output_type": "stream",
     "text": [
      "Installing package into 'C:/Users/kccistc/Documents/R/win-library/4.0'\n",
      "(as 'lib' is unspecified)\n",
      "\n",
      "also installing the dependencies 'coda', 'zoo', 'dtt', 'extrafontdb', 'Rttf2pt1', 'statnet.common', 'sylly.en', 'sylly', 'syuzhet', 'extrafont', 'fastmatch', 'ggrepel', 'network', 'RcppParallel', 'sna', 'proxyC', 'RcppArmadillo', 'english', 'mgsub', 'qdapRegex', 'koRpus.lang.en', 'koRpus', 'lexicon', 'quanteda', 'textclean', 'textshape'\n",
      "\n",
      "\n"
     ]
    },
    {
     "name": "stdout",
     "output_type": "stream",
     "text": [
      "package 'coda' successfully unpacked and MD5 sums checked\n",
      "package 'zoo' successfully unpacked and MD5 sums checked\n",
      "package 'dtt' successfully unpacked and MD5 sums checked\n",
      "package 'extrafontdb' successfully unpacked and MD5 sums checked\n",
      "package 'Rttf2pt1' successfully unpacked and MD5 sums checked\n",
      "package 'statnet.common' successfully unpacked and MD5 sums checked\n",
      "package 'sylly.en' successfully unpacked and MD5 sums checked\n",
      "package 'sylly' successfully unpacked and MD5 sums checked\n",
      "package 'syuzhet' successfully unpacked and MD5 sums checked\n",
      "package 'extrafont' successfully unpacked and MD5 sums checked\n",
      "package 'fastmatch' successfully unpacked and MD5 sums checked\n",
      "package 'ggrepel' successfully unpacked and MD5 sums checked\n",
      "package 'network' successfully unpacked and MD5 sums checked\n",
      "package 'RcppParallel' successfully unpacked and MD5 sums checked\n",
      "package 'sna' successfully unpacked and MD5 sums checked\n",
      "package 'proxyC' successfully unpacked and MD5 sums checked\n",
      "package 'RcppArmadillo' successfully unpacked and MD5 sums checked\n",
      "package 'english' successfully unpacked and MD5 sums checked\n",
      "package 'mgsub' successfully unpacked and MD5 sums checked\n",
      "package 'qdapRegex' successfully unpacked and MD5 sums checked\n",
      "package 'koRpus.lang.en' successfully unpacked and MD5 sums checked\n",
      "package 'koRpus' successfully unpacked and MD5 sums checked\n",
      "package 'lexicon' successfully unpacked and MD5 sums checked\n",
      "package 'quanteda' successfully unpacked and MD5 sums checked\n",
      "package 'textclean' successfully unpacked and MD5 sums checked\n",
      "package 'textshape' successfully unpacked and MD5 sums checked\n",
      "package 'textstem' successfully unpacked and MD5 sums checked\n",
      "\n",
      "The downloaded binary packages are in\n",
      "\tC:\\Users\\kccistc\\AppData\\Local\\Temp\\Rtmpc3GbpR\\downloaded_packages\n"
     ]
    }
   ],
   "source": [
    "install.packages(\"textstem\")"
   ]
  },
  {
   "cell_type": "code",
   "execution_count": 66,
   "metadata": {},
   "outputs": [
    {
     "name": "stderr",
     "output_type": "stream",
     "text": [
      "Warning message:\n",
      "\"package 'textstem' was built under R version 4.0.2\"\n",
      "Loading required package: koRpus.lang.en\n",
      "\n",
      "Warning message:\n",
      "\"package 'koRpus.lang.en' was built under R version 4.0.2\"\n",
      "Loading required package: koRpus\n",
      "\n",
      "Warning message:\n",
      "\"package 'koRpus' was built under R version 4.0.2\"\n",
      "Loading required package: sylly\n",
      "\n",
      "Warning message:\n",
      "\"package 'sylly' was built under R version 4.0.2\"\n",
      "For information on available language packages for 'koRpus', run\n",
      "\n",
      "  available.koRpus.lang()\n",
      "\n",
      "and see ?install.koRpus.lang()\n",
      "\n",
      "\n",
      "\n",
      "Attaching package: 'koRpus'\n",
      "\n",
      "\n",
      "The following object is masked from 'package:readr':\n",
      "\n",
      "    tokenize\n",
      "\n",
      "\n"
     ]
    }
   ],
   "source": [
    "library(textstem)"
   ]
  },
  {
   "cell_type": "code",
   "execution_count": 67,
   "metadata": {},
   "outputs": [
    {
     "data": {
      "text/html": [
       "<style>\n",
       ".list-inline {list-style: none; margin:0; padding: 0}\n",
       ".list-inline>li {display: inline-block}\n",
       ".list-inline>li:not(:last-child)::after {content: \"\\00b7\"; padding: 0 .5ex}\n",
       "</style>\n",
       "<ol class=list-inline><li>'good'</li><li>'doggy'</li><li>'run'</li></ol>\n"
      ],
      "text/latex": [
       "\\begin{enumerate*}\n",
       "\\item 'good'\n",
       "\\item 'doggy'\n",
       "\\item 'run'\n",
       "\\end{enumerate*}\n"
      ],
      "text/markdown": [
       "1. 'good'\n",
       "2. 'doggy'\n",
       "3. 'run'\n",
       "\n",
       "\n"
      ],
      "text/plain": [
       "[1] \"good\"  \"doggy\" \"run\"  "
      ]
     },
     "metadata": {},
     "output_type": "display_data"
    }
   ],
   "source": [
    "x <- c(\"well\",\"doggies\",\"running\")\n",
    "lemmatize_words(x) # 단어 원형 변환 lemmatizing "
   ]
  }
 ],
 "metadata": {
  "kernelspec": {
   "display_name": "R",
   "language": "R",
   "name": "ir"
  },
  "language_info": {
   "codemirror_mode": "r",
   "file_extension": ".r",
   "mimetype": "text/x-r-source",
   "name": "R",
   "pygments_lexer": "r",
   "version": "4.0.1"
  }
 },
 "nbformat": 4,
 "nbformat_minor": 4
}
