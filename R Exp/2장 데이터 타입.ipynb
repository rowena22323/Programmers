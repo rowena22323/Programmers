{
 "cells": [
  {
   "cell_type": "markdown",
   "metadata": {},
   "source": [
    "## 01 변수"
   ]
  },
  {
   "cell_type": "code",
   "execution_count": 2,
   "metadata": {},
   "outputs": [
    {
     "name": "stdout",
     "output_type": "stream",
     "text": [
      "[1] 2\n",
      "[1] 1 2 3\n"
     ]
    }
   ],
   "source": [
    "print(mean(x<-c(1,2,3)))\n",
    "print(x)"
   ]
  },
  {
   "cell_type": "markdown",
   "metadata": {},
   "source": [
    "## 03 스칼라"
   ]
  },
  {
   "cell_type": "code",
   "execution_count": 3,
   "metadata": {},
   "outputs": [
    {
     "name": "stdout",
     "output_type": "stream",
     "text": [
      "[1] 7.5\n"
     ]
    }
   ],
   "source": [
    "a<-3\n",
    "b<-4.5\n",
    "c<-a+b\n",
    "print(c)"
   ]
  },
  {
   "cell_type": "markdown",
   "metadata": {},
   "source": [
    "### NULL"
   ]
  },
  {
   "cell_type": "code",
   "execution_count": 5,
   "metadata": {},
   "outputs": [
    {
     "name": "stdout",
     "output_type": "stream",
     "text": [
      "[1] TRUE\n",
      "[1] FALSE\n"
     ]
    }
   ],
   "source": [
    "x<-NULL\n",
    "print(is.null(x))\n",
    "print(is.null(1))"
   ]
  },
  {
   "cell_type": "markdown",
   "metadata": {},
   "source": [
    "### 문자열"
   ]
  },
  {
   "cell_type": "code",
   "execution_count": 6,
   "metadata": {},
   "outputs": [
    {
     "name": "stdout",
     "output_type": "stream",
     "text": [
      "[1] \"hello\"\n",
      "[1] \"hello\"\n"
     ]
    }
   ],
   "source": [
    "a<-\"hello\"\n",
    "print(a)\n",
    "b<-'hello'\n",
    "print(b)"
   ]
  },
  {
   "cell_type": "markdown",
   "metadata": {},
   "source": [
    "### 진리값"
   ]
  },
  {
   "cell_type": "code",
   "execution_count": 9,
   "metadata": {},
   "outputs": [
    {
     "name": "stdout",
     "output_type": "stream",
     "text": [
      "[1] TRUE\n",
      "[1] FALSE\n",
      "[1] TRUE\n",
      "[1] TRUE\n",
      "[1] FALSE\n",
      "[1] TRUE\n"
     ]
    }
   ],
   "source": [
    "print(TRUE & TRUE)\n",
    "print(TRUE & FALSE)\n",
    "print(TRUE | TRUE)\n",
    "print(TRUE | FALSE)\n",
    "print(!TRUE)\n",
    "print(c(TRUE,TRUE) && c(TRUE,FALSE))"
   ]
  },
  {
   "cell_type": "markdown",
   "metadata": {},
   "source": [
    "### 팩터"
   ]
  },
  {
   "cell_type": "code",
   "execution_count": 11,
   "metadata": {},
   "outputs": [
    {
     "name": "stdout",
     "output_type": "stream",
     "text": [
      "[1] m\n",
      "Levels: m f\n"
     ]
    }
   ],
   "source": [
    "sex <- factor(\"m\", c(\"m\", \"f\"))\n",
    "print(sex)"
   ]
  },
  {
   "cell_type": "code",
   "execution_count": 14,
   "metadata": {},
   "outputs": [
    {
     "name": "stdout",
     "output_type": "stream",
     "text": [
      "[1] \"m\"\n",
      "[1] \"m\" \"f\"\n",
      "[1] 2\n",
      "[1] \"f\"\n"
     ]
    }
   ],
   "source": [
    "print(levels(sex)[1])\n",
    "print(levels(sex))\n",
    "print(nlevels(sex)[1])\n",
    "print(levels(sex)[2])"
   ]
  },
  {
   "cell_type": "code",
   "execution_count": 15,
   "metadata": {},
   "outputs": [
    {
     "name": "stdout",
     "output_type": "stream",
     "text": [
      "[1] m\n",
      "Levels: m f\n",
      "[1] male\n",
      "Levels: male female\n"
     ]
    }
   ],
   "source": [
    "print(sex)\n",
    "levels(sex)<-c(\"male\",\"female\")\n",
    "print(sex)"
   ]
  },
  {
   "cell_type": "code",
   "execution_count": 17,
   "metadata": {},
   "outputs": [
    {
     "name": "stdout",
     "output_type": "stream",
     "text": [
      "[1] m m f\n",
      "Levels: m f\n",
      "[1] m m f\n",
      "Levels: f m\n"
     ]
    }
   ],
   "source": [
    "print(factor(c(\"m\",\"m\",\"f\"),c(\"m\",\"f\")))\n",
    "print(factor(c(\"m\",\"m\",\"f\")))"
   ]
  },
  {
   "cell_type": "code",
   "execution_count": 19,
   "metadata": {},
   "outputs": [
    {
     "name": "stdout",
     "output_type": "stream",
     "text": [
      "[1] a\n",
      "Levels: a < b < c\n"
     ]
    }
   ],
   "source": [
    "print(ordered(\"a\",c(\"a\",\"b\",\"c\")))"
   ]
  },
  {
   "cell_type": "markdown",
   "metadata": {},
   "source": [
    "## 04 벡터"
   ]
  },
  {
   "cell_type": "code",
   "execution_count": 24,
   "metadata": {},
   "outputs": [
    {
     "name": "stdout",
     "output_type": "stream",
     "text": [
      "[1] 1 2 3 4 5\n",
      "[1] \"1\" \"2\" \"3\"\n",
      "[1] 1 2 3\n",
      "[1] 1 2 3 1 2 3\n"
     ]
    }
   ],
   "source": [
    "print(x<-c(1,2,3,4,5))\n",
    "print(y<-c(\"1\",2,\"3\"))\n",
    "print(c(1,2,3))\n",
    "print(c(1,2,3,c(1,2,3)))"
   ]
  },
  {
   "cell_type": "code",
   "execution_count": 31,
   "metadata": {},
   "outputs": [
    {
     "name": "stdout",
     "output_type": "stream",
     "text": [
      " Kim  Seo Park \n",
      "   1    3    4 \n",
      "Seo \n",
      "  3 \n",
      " Seo Park \n",
      "   3    4 \n",
      "[1] \"Seo\"\n"
     ]
    }
   ],
   "source": [
    "x<-c(1,3,4)\n",
    "names(x) <- c(\"Kim\",\"Seo\",\"Park\")\n",
    "print(x)\n",
    "print(x[\"Seo\"])\n",
    "print(x[c(\"Seo\",\"Park\")])\n",
    "print(names(x)[2])"
   ]
  },
  {
   "cell_type": "code",
   "execution_count": 27,
   "metadata": {},
   "outputs": [
    {
     "name": "stdout",
     "output_type": "stream",
     "text": [
      "[1] \"a\"\n",
      "[1] \"c\"\n",
      "[1] \"a\" \"b\"\n",
      "[1] \"a\" \"c\"\n",
      "[1] \"a\" \"b\"\n",
      "[1] \"a\" \"b\" \"c\"\n"
     ]
    }
   ],
   "source": [
    "x<-c(\"a\",\"b\",\"c\")\n",
    "print(x[1])\n",
    "print(x[3])\n",
    "print(x[c(1,2)])\n",
    "print(x[c(1,3)])\n",
    "print(x[1:2])\n",
    "print(x[1:3])"
   ]
  },
  {
   "cell_type": "code",
   "execution_count": 32,
   "metadata": {},
   "outputs": [
    {
     "name": "stdout",
     "output_type": "stream",
     "text": [
      "[1] 3\n",
      "NULL\n",
      "[1] 3\n"
     ]
    }
   ],
   "source": [
    "x<-c(\"a\",\"b\",\"c\")\n",
    "print(length(x))\n",
    "print(nrow(x))\n",
    "print(NROW(x))"
   ]
  },
  {
   "cell_type": "code",
   "execution_count": 37,
   "metadata": {},
   "outputs": [
    {
     "name": "stdout",
     "output_type": "stream",
     "text": [
      "[1] TRUE\n",
      "[1] 2 3 4 5 6\n",
      "[1]  TRUE  TRUE FALSE\n"
     ]
    }
   ],
   "source": [
    "print(\"a\" %in% c(\"a\",\"b\",\"c\"))\n",
    "x<-c(1,2,3,4,5)\n",
    "print(x+1)\n",
    "print(c(1,2,3) == c(1,2,100))"
   ]
  },
  {
   "cell_type": "code",
   "execution_count": 38,
   "metadata": {},
   "outputs": [
    {
     "name": "stdout",
     "output_type": "stream",
     "text": [
      "[1] \"a\" \"b\" \"c\" \"d\"\n",
      "[1] \"a\"\n",
      "[1] \"b\" \"c\"\n"
     ]
    }
   ],
   "source": [
    "print(union(c(\"a\",\"b\",\"c\"),c(\"a\",\"d\")))\n",
    "print(intersect(c(\"a\",\"b\",\"c\"),c(\"a\",\"d\")))\n",
    "print(setdiff(c(\"a\",\"b\",\"c\"),c(\"a\",\"d\")))"
   ]
  },
  {
   "cell_type": "code",
   "execution_count": 41,
   "metadata": {},
   "outputs": [
    {
     "name": "stdout",
     "output_type": "stream",
     "text": [
      " [1] 1 2 1 2 1 2 1 2 1 2\n",
      " [1] 1 1 1 1 1 2 2 2 2 2\n",
      " [1] 1 1 1 1 1 2 2 2 2 2 1 1 1 1 1 2 2 2 2 2\n"
     ]
    }
   ],
   "source": [
    "print(rep(1:2, times=5))\n",
    "print(rep(1:2, each=5))\n",
    "print(rep(1:2, each=5, times=2))"
   ]
  },
  {
   "cell_type": "code",
   "execution_count": 44,
   "metadata": {},
   "outputs": [
    {
     "name": "stdout",
     "output_type": "stream",
     "text": [
      "     [,1] [,2] [,3]\n",
      "[1,]    1    4    7\n",
      "[2,]    2    5    8\n",
      "[3,]    3    6    9\n",
      "     [,1] [,2] [,3]\n",
      "[1,]   30   66  102\n",
      "[2,]   36   81  126\n",
      "[3,]   42   96  150\n"
     ]
    }
   ],
   "source": [
    "x<-matrix(c(1,2,3,4,5,6,7,8,9), nrow=3)\n",
    "print(x)\n",
    "print(x %*% x)"
   ]
  },
  {
   "cell_type": "code",
   "execution_count": 46,
   "metadata": {},
   "outputs": [
    {
     "name": "stdout",
     "output_type": "stream",
     "text": [
      "[1] 2\n",
      "[1] 3\n"
     ]
    }
   ],
   "source": [
    "x<-matrix(c(1,2,3,4,5,6), ncol=3)\n",
    "print(nrow(x))\n",
    "print(ncol(x))"
   ]
  },
  {
   "cell_type": "markdown",
   "metadata": {},
   "source": [
    "## 08 데이터프레임"
   ]
  },
  {
   "cell_type": "code",
   "execution_count": 49,
   "metadata": {},
   "outputs": [
    {
     "name": "stdout",
     "output_type": "stream",
     "text": [
      "'data.frame':\t5 obs. of  3 variables:\n",
      " $ x: num  1 2 3 4 5\n",
      " $ y: num  2 4 6 8 10\n",
      " $ z: chr  \"M\" \"F\" \"M\" \"F\" ...\n",
      "NULL\n",
      "  x  y z\n",
      "1 1  2 M\n",
      "2 2  4 F\n",
      "3 3  6 M\n",
      "4 4  8 F\n",
      "5 5 10 M\n"
     ]
    }
   ],
   "source": [
    "d <- data.frame(x=c(1,2,3,4,5), y=c(2,4,6,8,10), z=c('M','F','M','F','M'))\n",
    "print(str(d))\n",
    "print(d)"
   ]
  },
  {
   "cell_type": "markdown",
   "metadata": {},
   "source": [
    "## 09 타입판별"
   ]
  },
  {
   "cell_type": "code",
   "execution_count": 52,
   "metadata": {},
   "outputs": [
    {
     "name": "stdout",
     "output_type": "stream",
     "text": [
      "[1] \"numeric\"\n",
      "[1] \"matrix\" \"array\" \n",
      "[1] \"data.frame\"\n"
     ]
    }
   ],
   "source": [
    "print(class(c(1,2)))\n",
    "print(class(matrix(c(1,2))))\n",
    "print(class(data.frame(x=c(1,2), y=c(3,4))))"
   ]
  },
  {
   "cell_type": "code",
   "execution_count": 53,
   "metadata": {},
   "outputs": [
    {
     "name": "stdout",
     "output_type": "stream",
     "text": [
      " num [1:2] 1 2\n",
      "NULL\n",
      " num [1:2, 1] 1 2\n",
      "NULL\n",
      "List of 1\n",
      " $ : num [1:2] 1 2\n",
      "NULL\n",
      "'data.frame':\t2 obs. of  1 variable:\n",
      " $ x: num  1 2\n",
      "NULL\n"
     ]
    }
   ],
   "source": [
    "print(str(c(1,2)))\n",
    "print(str(matrix(c(1,2))))\n",
    "print(str(list(c(1,2))))\n",
    "print(str(data.frame(x=c(1,2))))"
   ]
  },
  {
   "cell_type": "code",
   "execution_count": 54,
   "metadata": {},
   "outputs": [
    {
     "name": "stdout",
     "output_type": "stream",
     "text": [
      "[1] TRUE\n",
      "[1] TRUE\n",
      "[1] TRUE\n",
      "[1] TRUE\n"
     ]
    }
   ],
   "source": [
    "print(is.factor(factor(c(\"m\",\"f\"))))\n",
    "print(is.numeric(1:5))\n",
    "print(is.character(c(\"a\",\"b\")))\n",
    "print(is.data.frame(data.frame(x=1:5)))"
   ]
  },
  {
   "cell_type": "markdown",
   "metadata": {},
   "source": [
    "## 10 타입변환"
   ]
  },
  {
   "cell_type": "code",
   "execution_count": 55,
   "metadata": {},
   "outputs": [
    {
     "name": "stdout",
     "output_type": "stream",
     "text": [
      "[1] a b c\n",
      "Levels: a b c\n",
      "[1] \"a\" \"b\" \"c\"\n"
     ]
    }
   ],
   "source": [
    "x <- c(\"a\",\"b\",\"c\")\n",
    "print(as.factor(x))\n",
    "print(as.character(as.factor(x)))"
   ]
  },
  {
   "cell_type": "code",
   "execution_count": 58,
   "metadata": {},
   "outputs": [
    {
     "data": {
      "text/html": [
       "<table>\n",
       "<caption>A data.frame: 3 × 3</caption>\n",
       "<thead>\n",
       "\t<tr><th scope=col>V1</th><th scope=col>V2</th><th scope=col>V3</th></tr>\n",
       "\t<tr><th scope=col>&lt;int&gt;</th><th scope=col>&lt;int&gt;</th><th scope=col>&lt;int&gt;</th></tr>\n",
       "</thead>\n",
       "<tbody>\n",
       "\t<tr><td>1</td><td>4</td><td>7</td></tr>\n",
       "\t<tr><td>2</td><td>5</td><td>8</td></tr>\n",
       "\t<tr><td>3</td><td>6</td><td>9</td></tr>\n",
       "</tbody>\n",
       "</table>\n"
      ],
      "text/latex": [
       "A data.frame: 3 × 3\n",
       "\\begin{tabular}{lll}\n",
       " V1 & V2 & V3\\\\\n",
       " <int> & <int> & <int>\\\\\n",
       "\\hline\n",
       "\t 1 & 4 & 7\\\\\n",
       "\t 2 & 5 & 8\\\\\n",
       "\t 3 & 6 & 9\\\\\n",
       "\\end{tabular}\n"
      ],
      "text/markdown": [
       "\n",
       "A data.frame: 3 × 3\n",
       "\n",
       "| V1 &lt;int&gt; | V2 &lt;int&gt; | V3 &lt;int&gt; |\n",
       "|---|---|---|\n",
       "| 1 | 4 | 7 |\n",
       "| 2 | 5 | 8 |\n",
       "| 3 | 6 | 9 |\n",
       "\n"
      ],
      "text/plain": [
       "  V1 V2 V3\n",
       "1 1  4  7 \n",
       "2 2  5  8 \n",
       "3 3  6  9 "
      ]
     },
     "metadata": {},
     "output_type": "display_data"
    }
   ],
   "source": [
    "x<-matrix(1:9, ncol=3)\n",
    "as.data.frame(x)"
   ]
  },
  {
   "cell_type": "code",
   "execution_count": 60,
   "metadata": {},
   "outputs": [
    {
     "data": {
      "text/html": [
       "<table>\n",
       "<caption>A data.frame: 2 × 2</caption>\n",
       "<thead>\n",
       "\t<tr><th scope=col>X1</th><th scope=col>X2</th></tr>\n",
       "\t<tr><th scope=col>&lt;dbl&gt;</th><th scope=col>&lt;dbl&gt;</th></tr>\n",
       "</thead>\n",
       "<tbody>\n",
       "\t<tr><td>1</td><td>3</td></tr>\n",
       "\t<tr><td>2</td><td>4</td></tr>\n",
       "</tbody>\n",
       "</table>\n"
      ],
      "text/latex": [
       "A data.frame: 2 × 2\n",
       "\\begin{tabular}{ll}\n",
       " X1 & X2\\\\\n",
       " <dbl> & <dbl>\\\\\n",
       "\\hline\n",
       "\t 1 & 3\\\\\n",
       "\t 2 & 4\\\\\n",
       "\\end{tabular}\n"
      ],
      "text/markdown": [
       "\n",
       "A data.frame: 2 × 2\n",
       "\n",
       "| X1 &lt;dbl&gt; | X2 &lt;dbl&gt; |\n",
       "|---|---|\n",
       "| 1 | 3 |\n",
       "| 2 | 4 |\n",
       "\n"
      ],
      "text/plain": [
       "  X1 X2\n",
       "1 1  3 \n",
       "2 2  4 "
      ]
     },
     "metadata": {},
     "output_type": "display_data"
    }
   ],
   "source": [
    "x <- data.frame(matrix(c(1,2,3,4), ncol=2))\n",
    "x"
   ]
  },
  {
   "cell_type": "code",
   "execution_count": 61,
   "metadata": {},
   "outputs": [
    {
     "data": {
      "text/html": [
       "<table>\n",
       "<caption>A data.frame: 2 × 2</caption>\n",
       "<thead>\n",
       "\t<tr><th scope=col>x</th><th scope=col>y</th></tr>\n",
       "\t<tr><th scope=col>&lt;dbl&gt;</th><th scope=col>&lt;dbl&gt;</th></tr>\n",
       "</thead>\n",
       "<tbody>\n",
       "\t<tr><td>1</td><td>3</td></tr>\n",
       "\t<tr><td>2</td><td>4</td></tr>\n",
       "</tbody>\n",
       "</table>\n"
      ],
      "text/latex": [
       "A data.frame: 2 × 2\n",
       "\\begin{tabular}{ll}\n",
       " x & y\\\\\n",
       " <dbl> & <dbl>\\\\\n",
       "\\hline\n",
       "\t 1 & 3\\\\\n",
       "\t 2 & 4\\\\\n",
       "\\end{tabular}\n"
      ],
      "text/markdown": [
       "\n",
       "A data.frame: 2 × 2\n",
       "\n",
       "| x &lt;dbl&gt; | y &lt;dbl&gt; |\n",
       "|---|---|\n",
       "| 1 | 3 |\n",
       "| 2 | 4 |\n",
       "\n"
      ],
      "text/plain": [
       "  x y\n",
       "1 1 3\n",
       "2 2 4"
      ]
     },
     "metadata": {},
     "output_type": "display_data"
    }
   ],
   "source": [
    "data.frame(list(x=c(1,2), y=c(3,4)))"
   ]
  },
  {
   "cell_type": "code",
   "execution_count": 63,
   "metadata": {},
   "outputs": [
    {
     "name": "stdout",
     "output_type": "stream",
     "text": [
      "[1] m f\n",
      "Levels: f m\n"
     ]
    }
   ],
   "source": [
    "print(as.factor(c(\"m\",\"f\")))"
   ]
  },
  {
   "cell_type": "code",
   "execution_count": 64,
   "metadata": {},
   "outputs": [
    {
     "name": "stdout",
     "output_type": "stream",
     "text": [
      "[1] m f\n",
      "Levels: m f\n"
     ]
    }
   ],
   "source": [
    "print(factor(c(\"m\",\"f\"), levels=c(\"m\",\"f\")))"
   ]
  }
 ],
 "metadata": {
  "kernelspec": {
   "display_name": "R",
   "language": "R",
   "name": "ir"
  },
  "language_info": {
   "codemirror_mode": "r",
   "file_extension": ".r",
   "mimetype": "text/x-r-source",
   "name": "R",
   "pygments_lexer": "r",
   "version": "4.0.1"
  }
 },
 "nbformat": 4,
 "nbformat_minor": 4
}
