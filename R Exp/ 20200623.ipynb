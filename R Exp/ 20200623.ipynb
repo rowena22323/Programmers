{
 "cells": [
  {
   "cell_type": "code",
   "execution_count": 10,
   "metadata": {},
   "outputs": [],
   "source": [
    "library(arules)"
   ]
  },
  {
   "cell_type": "code",
   "execution_count": 9,
   "metadata": {},
   "outputs": [],
   "source": [
    "library(Matrix)"
   ]
  },
  {
   "cell_type": "code",
   "execution_count": 15,
   "metadata": {},
   "outputs": [
    {
     "name": "stderr",
     "output_type": "stream",
     "text": [
      "Warning message in asMethod(object):\n",
      "\"removing duplicated items in transactions\"\n"
     ]
    },
    {
     "data": {
      "text/plain": [
       "transactions in sparse format with\n",
       " 9835 transactions (rows) and\n",
       " 6871 items (columns)"
      ]
     },
     "metadata": {},
     "output_type": "display_data"
    }
   ],
   "source": [
    "groceries <- read.transactions(\"rexp/groceries.csv\")\n",
    "groceries # transaction과 item"
   ]
  },
  {
   "cell_type": "code",
   "execution_count": 16,
   "metadata": {},
   "outputs": [
    {
     "data": {
      "text/html": [
       "<style>\n",
       ".dl-inline {width: auto; margin:0; padding: 0}\n",
       ".dl-inline>dt, .dl-inline>dd {float: none; width: auto; display: inline-block}\n",
       ".dl-inline>dt::after {content: \":\\0020\"; padding-right: .5ex}\n",
       ".dl-inline>dt:not(:first-of-type) {padding-left: .5ex}\n",
       "</style><dl class=dl-inline><dt>(appetizer)</dt><dd>0.00264361972547026</dd><dt>(appetizer),bathroom</dt><dd>0.000101677681748856</dd><dt>(appetizer),cake</dt><dd>0.000101677681748856</dd></dl>\n"
      ],
      "text/latex": [
       "\\begin{description*}\n",
       "\\item[(appetizer)] 0.00264361972547026\n",
       "\\item[(appetizer),bathroom] 0.000101677681748856\n",
       "\\item[(appetizer),cake] 0.000101677681748856\n",
       "\\end{description*}\n"
      ],
      "text/markdown": [
       "(appetizer)\n",
       ":   0.00264361972547026(appetizer),bathroom\n",
       ":   0.000101677681748856(appetizer),cake\n",
       ":   0.000101677681748856\n",
       "\n"
      ],
      "text/plain": [
       "         (appetizer) (appetizer),bathroom     (appetizer),cake \n",
       "        0.0026436197         0.0001016777         0.0001016777 "
      ]
     },
     "metadata": {},
     "output_type": "display_data"
    }
   ],
   "source": [
    "itemFrequency(groceries[,1:3]) # 지지도 전체 트랜잭션 중 해당 아이템 거래비율"
   ]
  },
  {
   "cell_type": "markdown",
   "metadata": {},
   "source": [
    "install.packages(\"arules\")\n",
    "library(arules)\n",
    "groceries<-read.transactions(\"groceries.csv\", sep=\",\",,header = FALSE)\n",
    "groceries\n",
    "View(groceries)\n",
    "summary(groceries)\n",
    "#transactions as itemMatrix in sparse format with\n",
    "#9835 rows (elements/itemsets/transactions) and\n",
    "#169 columns (items) and a density of 0.02609146 \n",
    "#9835행=거래건수, 169열=상품종류 개수, 0.026=밀도(행렬에서 0이 아닌 셀의 비율)\n",
    "#sparse natrix = 희소행렬\n",
    "#전체 행렬의 개수 * 밀도 \n",
    "print(9835*169*0.026) # [1] 43214.99 = 0이 아닌 cell의 개수 \n",
    "#한달동안 총 43000여개의 아이템이 판매되었다!\n",
    "inspect() #세밀하게 점검하자 데이터가 잘 읽어졌는지 확인할 때 inspect사용\n",
    "inspect(groceries[1:5]) #1번 부터 5번까지 항목들이 잘 읽어졌는지 확인 \n",
    "groceries[,1:3] # 1째 열에서 3번째 열까지를 의미함. \n",
    "itemFrequency(groceries[, 1:3])\n",
    "#지지도(support): 전체 거래 중 해당 아이템 거래 비율 지지도 "
   ]
  },
  {
   "cell_type": "code",
   "execution_count": 18,
   "metadata": {},
   "outputs": [
    {
     "name": "stderr",
     "output_type": "stream",
     "text": [
      "Warning message in min(height, na.rm = TRUE):\n",
      "\"min에 전달되는 인자들 중 누락이 있어 Inf를 반환합니다\"\n",
      "Warning message in max(graphics::strwidth(labels, units = \"inches\", cex = cex.names)):\n",
      "\"max에 전달되는 인자들 중 누락이 있어 -Inf를 반환합니다\"\n"
     ]
    },
    {
     "ename": "ERROR",
     "evalue": "Error in graphics::par(mai = mai): 그래픽 파라미터 \"mai\"에 지정된 값이 유효하지 않습니다\n",
     "output_type": "error",
     "traceback": [
      "Error in graphics::par(mai = mai): 그래픽 파라미터 \"mai\"에 지정된 값이 유효하지 않습니다\nTraceback:\n",
      "1. itemFrequencyPlot(groceries, support = 0.1)",
      "2. itemFrequencyPlot(groceries, support = 0.1)",
      "3. .local(x, ...)",
      "4. .barplot_vert(itemFrequency, ..., offset = offset, cex.names = cex.names, \n .     xlab = xlab, ylab = if (is.null(ylab)) label else ylab, mai = mai)",
      "5. graphics::par(mai = mai)"
     ]
    }
   ],
   "source": [
    "itemFrequencyPlot(groceries,support=0.1)"
   ]
  }
 ],
 "metadata": {
  "kernelspec": {
   "display_name": "R",
   "language": "R",
   "name": "ir"
  },
  "language_info": {
   "codemirror_mode": "r",
   "file_extension": ".r",
   "mimetype": "text/x-r-source",
   "name": "R",
   "pygments_lexer": "r",
   "version": "4.0.1"
  }
 },
 "nbformat": 4,
 "nbformat_minor": 4
}
