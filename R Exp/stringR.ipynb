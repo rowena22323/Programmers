{
 "cells": [
  {
   "cell_type": "code",
   "execution_count": 1,
   "metadata": {},
   "outputs": [
    {
     "data": {
      "text/html": [
       "<style>\n",
       ".list-inline {list-style: none; margin:0; padding: 0}\n",
       ".list-inline>li {display: inline-block}\n",
       ".list-inline>li:not(:last-child)::after {content: \"\\00b7\"; padding: 0 .5ex}\n",
       "</style>\n",
       "<ol class=list-inline><li>'1'</li><li>'2'</li><li>'3'</li><li>'4'</li><li>'5'</li><li>'6'</li><li>'a'</li></ol>\n"
      ],
      "text/latex": [
       "\\begin{enumerate*}\n",
       "\\item '1'\n",
       "\\item '2'\n",
       "\\item '3'\n",
       "\\item '4'\n",
       "\\item '5'\n",
       "\\item '6'\n",
       "\\item 'a'\n",
       "\\end{enumerate*}\n"
      ],
      "text/markdown": [
       "1. '1'\n",
       "2. '2'\n",
       "3. '3'\n",
       "4. '4'\n",
       "5. '5'\n",
       "6. '6'\n",
       "7. 'a'\n",
       "\n",
       "\n"
      ],
      "text/plain": [
       "[1] \"1\" \"2\" \"3\" \"4\" \"5\" \"6\" \"a\""
      ]
     },
     "metadata": {},
     "output_type": "display_data"
    },
    {
     "data": {
      "text/html": [
       "<ol>\n",
       "\t<li><style>\n",
       ".list-inline {list-style: none; margin:0; padding: 0}\n",
       ".list-inline>li {display: inline-block}\n",
       ".list-inline>li:not(:last-child)::after {content: \"\\00b7\"; padding: 0 .5ex}\n",
       "</style>\n",
       "<ol class=list-inline><li>1</li><li>2</li><li>3</li><li>4</li><li>5</li><li>6</li></ol>\n",
       "</li>\n",
       "\t<li>'a'</li>\n",
       "</ol>\n"
      ],
      "text/latex": [
       "\\begin{enumerate}\n",
       "\\item \\begin{enumerate*}\n",
       "\\item 1\n",
       "\\item 2\n",
       "\\item 3\n",
       "\\item 4\n",
       "\\item 5\n",
       "\\item 6\n",
       "\\end{enumerate*}\n",
       "\n",
       "\\item 'a'\n",
       "\\end{enumerate}\n"
      ],
      "text/markdown": [
       "1. 1. 1\n",
       "2. 2\n",
       "3. 3\n",
       "4. 4\n",
       "5. 5\n",
       "6. 6\n",
       "\n",
       "\n",
       "\n",
       "2. 'a'\n",
       "\n",
       "\n"
      ],
      "text/plain": [
       "[[1]]\n",
       "[1] 1 2 3 4 5 6\n",
       "\n",
       "[[2]]\n",
       "[1] \"a\"\n"
      ]
     },
     "metadata": {},
     "output_type": "display_data"
    },
    {
     "data": {
      "text/html": [
       "<ol>\n",
       "\t<li><style>\n",
       ".list-inline {list-style: none; margin:0; padding: 0}\n",
       ".list-inline>li {display: inline-block}\n",
       ".list-inline>li:not(:last-child)::after {content: \"\\00b7\"; padding: 0 .5ex}\n",
       "</style>\n",
       "<ol class=list-inline><li>1</li><li>2</li><li>3</li><li>4</li></ol>\n",
       "</li>\n",
       "\t<li><style>\n",
       ".list-inline {list-style: none; margin:0; padding: 0}\n",
       ".list-inline>li {display: inline-block}\n",
       ".list-inline>li:not(:last-child)::after {content: \"\\00b7\"; padding: 0 .5ex}\n",
       "</style>\n",
       "<ol class=list-inline><li>6</li><li>7</li><li>8</li><li>9</li><li>10</li></ol>\n",
       "</li>\n",
       "\t<li><ol>\n",
       "\t<li><style>\n",
       ".list-inline {list-style: none; margin:0; padding: 0}\n",
       ".list-inline>li {display: inline-block}\n",
       ".list-inline>li:not(:last-child)::after {content: \"\\00b7\"; padding: 0 .5ex}\n",
       "</style>\n",
       "<ol class=list-inline><li>1</li><li>2</li><li>3</li><li>4</li></ol>\n",
       "</li>\n",
       "\t<li><style>\n",
       ".list-inline {list-style: none; margin:0; padding: 0}\n",
       ".list-inline>li {display: inline-block}\n",
       ".list-inline>li:not(:last-child)::after {content: \"\\00b7\"; padding: 0 .5ex}\n",
       "</style>\n",
       "<ol class=list-inline><li>6</li><li>7</li><li>8</li><li>9</li><li>10</li></ol>\n",
       "</li>\n",
       "</ol>\n",
       "</li>\n",
       "</ol>\n"
      ],
      "text/latex": [
       "\\begin{enumerate}\n",
       "\\item \\begin{enumerate*}\n",
       "\\item 1\n",
       "\\item 2\n",
       "\\item 3\n",
       "\\item 4\n",
       "\\end{enumerate*}\n",
       "\n",
       "\\item \\begin{enumerate*}\n",
       "\\item 6\n",
       "\\item 7\n",
       "\\item 8\n",
       "\\item 9\n",
       "\\item 10\n",
       "\\end{enumerate*}\n",
       "\n",
       "\\item \\begin{enumerate}\n",
       "\\item \\begin{enumerate*}\n",
       "\\item 1\n",
       "\\item 2\n",
       "\\item 3\n",
       "\\item 4\n",
       "\\end{enumerate*}\n",
       "\n",
       "\\item \\begin{enumerate*}\n",
       "\\item 6\n",
       "\\item 7\n",
       "\\item 8\n",
       "\\item 9\n",
       "\\item 10\n",
       "\\end{enumerate*}\n",
       "\n",
       "\\end{enumerate}\n",
       "\n",
       "\\end{enumerate}\n"
      ],
      "text/markdown": [
       "1. 1. 1\n",
       "2. 2\n",
       "3. 3\n",
       "4. 4\n",
       "\n",
       "\n",
       "\n",
       "2. 1. 6\n",
       "2. 7\n",
       "3. 8\n",
       "4. 9\n",
       "5. 10\n",
       "\n",
       "\n",
       "\n",
       "3. 1. 1. 1\n",
       "2. 2\n",
       "3. 3\n",
       "4. 4\n",
       "\n",
       "\n",
       "\n",
       "2. 1. 6\n",
       "2. 7\n",
       "3. 8\n",
       "4. 9\n",
       "5. 10\n",
       "\n",
       "\n",
       "\n",
       "\n",
       "\n",
       "\n",
       "\n",
       "\n"
      ],
      "text/plain": [
       "[[1]]\n",
       "[1] 1 2 3 4\n",
       "\n",
       "[[2]]\n",
       "[1]  6  7  8  9 10\n",
       "\n",
       "[[3]]\n",
       "[[3]][[1]]\n",
       "[1] 1 2 3 4\n",
       "\n",
       "[[3]][[2]]\n",
       "[1]  6  7  8  9 10\n",
       "\n"
      ]
     },
     "metadata": {},
     "output_type": "display_data"
    },
    {
     "data": {
      "text/html": [
       "<ol>\n",
       "\t<li><style>\n",
       ".list-inline {list-style: none; margin:0; padding: 0}\n",
       ".list-inline>li {display: inline-block}\n",
       ".list-inline>li:not(:last-child)::after {content: \"\\00b7\"; padding: 0 .5ex}\n",
       "</style>\n",
       "<ol class=list-inline><li>1</li><li>2</li><li>3</li><li>4</li></ol>\n",
       "</li>\n",
       "</ol>\n"
      ],
      "text/latex": [
       "\\begin{enumerate}\n",
       "\\item \\begin{enumerate*}\n",
       "\\item 1\n",
       "\\item 2\n",
       "\\item 3\n",
       "\\item 4\n",
       "\\end{enumerate*}\n",
       "\n",
       "\\end{enumerate}\n"
      ],
      "text/markdown": [
       "1. 1. 1\n",
       "2. 2\n",
       "3. 3\n",
       "4. 4\n",
       "\n",
       "\n",
       "\n",
       "\n",
       "\n"
      ],
      "text/plain": [
       "[[1]]\n",
       "[1] 1 2 3 4\n"
      ]
     },
     "metadata": {},
     "output_type": "display_data"
    },
    {
     "data": {
      "text/html": [
       "<style>\n",
       ".list-inline {list-style: none; margin:0; padding: 0}\n",
       ".list-inline>li {display: inline-block}\n",
       ".list-inline>li:not(:last-child)::after {content: \"\\00b7\"; padding: 0 .5ex}\n",
       "</style>\n",
       "<ol class=list-inline><li>1</li><li>2</li><li>3</li><li>4</li></ol>\n"
      ],
      "text/latex": [
       "\\begin{enumerate*}\n",
       "\\item 1\n",
       "\\item 2\n",
       "\\item 3\n",
       "\\item 4\n",
       "\\end{enumerate*}\n"
      ],
      "text/markdown": [
       "1. 1\n",
       "2. 2\n",
       "3. 3\n",
       "4. 4\n",
       "\n",
       "\n"
      ],
      "text/plain": [
       "[1] 1 2 3 4"
      ]
     },
     "metadata": {},
     "output_type": "display_data"
    },
    {
     "data": {
      "text/html": [
       "<ol>\n",
       "\t<li><style>\n",
       ".list-inline {list-style: none; margin:0; padding: 0}\n",
       ".list-inline>li {display: inline-block}\n",
       ".list-inline>li:not(:last-child)::after {content: \"\\00b7\"; padding: 0 .5ex}\n",
       "</style>\n",
       "<ol class=list-inline><li>1</li><li>2</li><li>3</li><li>4</li></ol>\n",
       "</li>\n",
       "</ol>\n"
      ],
      "text/latex": [
       "\\begin{enumerate}\n",
       "\\item \\begin{enumerate*}\n",
       "\\item 1\n",
       "\\item 2\n",
       "\\item 3\n",
       "\\item 4\n",
       "\\end{enumerate*}\n",
       "\n",
       "\\end{enumerate}\n"
      ],
      "text/markdown": [
       "1. 1. 1\n",
       "2. 2\n",
       "3. 3\n",
       "4. 4\n",
       "\n",
       "\n",
       "\n",
       "\n",
       "\n"
      ],
      "text/plain": [
       "[[1]]\n",
       "[1] 1 2 3 4\n"
      ]
     },
     "metadata": {},
     "output_type": "display_data"
    },
    {
     "data": {
      "text/html": [
       "<ol>\n",
       "\t<li><style>\n",
       ".list-inline {list-style: none; margin:0; padding: 0}\n",
       ".list-inline>li {display: inline-block}\n",
       ".list-inline>li:not(:last-child)::after {content: \"\\00b7\"; padding: 0 .5ex}\n",
       "</style>\n",
       "<ol class=list-inline><li>1</li><li>2</li><li>3</li><li>4</li></ol>\n",
       "</li>\n",
       "\t<li><style>\n",
       ".list-inline {list-style: none; margin:0; padding: 0}\n",
       ".list-inline>li {display: inline-block}\n",
       ".list-inline>li:not(:last-child)::after {content: \"\\00b7\"; padding: 0 .5ex}\n",
       "</style>\n",
       "<ol class=list-inline><li>6</li><li>7</li><li>8</li><li>9</li><li>10</li></ol>\n",
       "</li>\n",
       "\t<li><ol>\n",
       "\t<li><style>\n",
       ".list-inline {list-style: none; margin:0; padding: 0}\n",
       ".list-inline>li {display: inline-block}\n",
       ".list-inline>li:not(:last-child)::after {content: \"\\00b7\"; padding: 0 .5ex}\n",
       "</style>\n",
       "<ol class=list-inline><li>1</li><li>2</li><li>3</li><li>4</li></ol>\n",
       "</li>\n",
       "\t<li><style>\n",
       ".list-inline {list-style: none; margin:0; padding: 0}\n",
       ".list-inline>li {display: inline-block}\n",
       ".list-inline>li:not(:last-child)::after {content: \"\\00b7\"; padding: 0 .5ex}\n",
       "</style>\n",
       "<ol class=list-inline><li>6</li><li>7</li><li>8</li><li>9</li><li>10</li></ol>\n",
       "</li>\n",
       "</ol>\n",
       "</li>\n",
       "</ol>\n"
      ],
      "text/latex": [
       "\\begin{enumerate}\n",
       "\\item \\begin{enumerate*}\n",
       "\\item 1\n",
       "\\item 2\n",
       "\\item 3\n",
       "\\item 4\n",
       "\\end{enumerate*}\n",
       "\n",
       "\\item \\begin{enumerate*}\n",
       "\\item 6\n",
       "\\item 7\n",
       "\\item 8\n",
       "\\item 9\n",
       "\\item 10\n",
       "\\end{enumerate*}\n",
       "\n",
       "\\item \\begin{enumerate}\n",
       "\\item \\begin{enumerate*}\n",
       "\\item 1\n",
       "\\item 2\n",
       "\\item 3\n",
       "\\item 4\n",
       "\\end{enumerate*}\n",
       "\n",
       "\\item \\begin{enumerate*}\n",
       "\\item 6\n",
       "\\item 7\n",
       "\\item 8\n",
       "\\item 9\n",
       "\\item 10\n",
       "\\end{enumerate*}\n",
       "\n",
       "\\end{enumerate}\n",
       "\n",
       "\\end{enumerate}\n"
      ],
      "text/markdown": [
       "1. 1. 1\n",
       "2. 2\n",
       "3. 3\n",
       "4. 4\n",
       "\n",
       "\n",
       "\n",
       "2. 1. 6\n",
       "2. 7\n",
       "3. 8\n",
       "4. 9\n",
       "5. 10\n",
       "\n",
       "\n",
       "\n",
       "3. 1. 1. 1\n",
       "2. 2\n",
       "3. 3\n",
       "4. 4\n",
       "\n",
       "\n",
       "\n",
       "2. 1. 6\n",
       "2. 7\n",
       "3. 8\n",
       "4. 9\n",
       "5. 10\n",
       "\n",
       "\n",
       "\n",
       "\n",
       "\n",
       "\n",
       "\n",
       "\n"
      ],
      "text/plain": [
       "[[1]]\n",
       "[1] 1 2 3 4\n",
       "\n",
       "[[2]]\n",
       "[1]  6  7  8  9 10\n",
       "\n",
       "[[3]]\n",
       "[[3]][[1]]\n",
       "[1] 1 2 3 4\n",
       "\n",
       "[[3]][[2]]\n",
       "[1]  6  7  8  9 10\n",
       "\n"
      ]
     },
     "metadata": {},
     "output_type": "display_data"
    },
    {
     "data": {
      "text/html": [
       "9"
      ],
      "text/latex": [
       "9"
      ],
      "text/markdown": [
       "9"
      ],
      "text/plain": [
       "[1] 9"
      ]
     },
     "metadata": {},
     "output_type": "display_data"
    },
    {
     "data": {
      "text/html": [
       "<ol>\n",
       "\t<li><style>\n",
       ".list-inline {list-style: none; margin:0; padding: 0}\n",
       ".list-inline>li {display: inline-block}\n",
       ".list-inline>li:not(:last-child)::after {content: \"\\00b7\"; padding: 0 .5ex}\n",
       "</style>\n",
       "<ol class=list-inline><li>1</li><li>2</li><li>3</li><li>4</li><li>5</li><li>6</li></ol>\n",
       "</li>\n",
       "\t<li>'a'</li>\n",
       "</ol>\n"
      ],
      "text/latex": [
       "\\begin{enumerate}\n",
       "\\item \\begin{enumerate*}\n",
       "\\item 1\n",
       "\\item 2\n",
       "\\item 3\n",
       "\\item 4\n",
       "\\item 5\n",
       "\\item 6\n",
       "\\end{enumerate*}\n",
       "\n",
       "\\item 'a'\n",
       "\\end{enumerate}\n"
      ],
      "text/markdown": [
       "1. 1. 1\n",
       "2. 2\n",
       "3. 3\n",
       "4. 4\n",
       "5. 5\n",
       "6. 6\n",
       "\n",
       "\n",
       "\n",
       "2. 'a'\n",
       "\n",
       "\n"
      ],
      "text/plain": [
       "[[1]]\n",
       "[1] 1 2 3 4 5 6\n",
       "\n",
       "[[2]]\n",
       "[1] \"a\"\n"
      ]
     },
     "metadata": {},
     "output_type": "display_data"
    },
    {
     "data": {
      "text/html": [
       "<style>\n",
       ".list-inline {list-style: none; margin:0; padding: 0}\n",
       ".list-inline>li {display: inline-block}\n",
       ".list-inline>li:not(:last-child)::after {content: \"\\00b7\"; padding: 0 .5ex}\n",
       "</style>\n",
       "<ol class=list-inline><li>'1'</li><li>'2'</li><li>'3'</li><li>'4'</li><li>'5'</li><li>'6'</li><li>'a'</li></ol>\n"
      ],
      "text/latex": [
       "\\begin{enumerate*}\n",
       "\\item '1'\n",
       "\\item '2'\n",
       "\\item '3'\n",
       "\\item '4'\n",
       "\\item '5'\n",
       "\\item '6'\n",
       "\\item 'a'\n",
       "\\end{enumerate*}\n"
      ],
      "text/markdown": [
       "1. '1'\n",
       "2. '2'\n",
       "3. '3'\n",
       "4. '4'\n",
       "5. '5'\n",
       "6. '6'\n",
       "7. 'a'\n",
       "\n",
       "\n"
      ],
      "text/plain": [
       "[1] \"1\" \"2\" \"3\" \"4\" \"5\" \"6\" \"a\""
      ]
     },
     "metadata": {},
     "output_type": "display_data"
    },
    {
     "data": {
      "text/html": [
       "<style>\n",
       ".list-inline {list-style: none; margin:0; padding: 0}\n",
       ".list-inline>li {display: inline-block}\n",
       ".list-inline>li:not(:last-child)::after {content: \"\\00b7\"; padding: 0 .5ex}\n",
       "</style>\n",
       "<ol class=list-inline><li>'1'</li><li>'2'</li><li>'3'</li><li>'4'</li><li>'5'</li><li>'6'</li><li>'a'</li></ol>\n"
      ],
      "text/latex": [
       "\\begin{enumerate*}\n",
       "\\item '1'\n",
       "\\item '2'\n",
       "\\item '3'\n",
       "\\item '4'\n",
       "\\item '5'\n",
       "\\item '6'\n",
       "\\item 'a'\n",
       "\\end{enumerate*}\n"
      ],
      "text/markdown": [
       "1. '1'\n",
       "2. '2'\n",
       "3. '3'\n",
       "4. '4'\n",
       "5. '5'\n",
       "6. '6'\n",
       "7. 'a'\n",
       "\n",
       "\n"
      ],
      "text/plain": [
       "[1] \"1\" \"2\" \"3\" \"4\" \"5\" \"6\" \"a\""
      ]
     },
     "metadata": {},
     "output_type": "display_data"
    },
    {
     "data": {
      "text/html": [
       "<style>\n",
       ".list-inline {list-style: none; margin:0; padding: 0}\n",
       ".list-inline>li {display: inline-block}\n",
       ".list-inline>li:not(:last-child)::after {content: \"\\00b7\"; padding: 0 .5ex}\n",
       "</style>\n",
       "<ol class=list-inline><li>TRUE</li><li>TRUE</li><li>TRUE</li><li>TRUE</li><li>TRUE</li><li>TRUE</li><li>TRUE</li></ol>\n"
      ],
      "text/latex": [
       "\\begin{enumerate*}\n",
       "\\item TRUE\n",
       "\\item TRUE\n",
       "\\item TRUE\n",
       "\\item TRUE\n",
       "\\item TRUE\n",
       "\\item TRUE\n",
       "\\item TRUE\n",
       "\\end{enumerate*}\n"
      ],
      "text/markdown": [
       "1. TRUE\n",
       "2. TRUE\n",
       "3. TRUE\n",
       "4. TRUE\n",
       "5. TRUE\n",
       "6. TRUE\n",
       "7. TRUE\n",
       "\n",
       "\n"
      ],
      "text/plain": [
       "[1] TRUE TRUE TRUE TRUE TRUE TRUE TRUE"
      ]
     },
     "metadata": {},
     "output_type": "display_data"
    },
    {
     "name": "stderr",
     "output_type": "stream",
     "text": [
      "Warning message in mean.default(unlist(mylist)[1:6]):\n",
      "\"argument is not numeric or logical: returning NA\"\n"
     ]
    },
    {
     "data": {
      "text/html": [
       "&lt;NA&gt;"
      ],
      "text/latex": [
       "<NA>"
      ],
      "text/markdown": [
       "&lt;NA&gt;"
      ],
      "text/plain": [
       "[1] NA"
      ]
     },
     "metadata": {},
     "output_type": "display_data"
    },
    {
     "data": {
      "text/html": [
       "3.5"
      ],
      "text/latex": [
       "3.5"
      ],
      "text/markdown": [
       "3.5"
      ],
      "text/plain": [
       "[1] 3.5"
      ]
     },
     "metadata": {},
     "output_type": "display_data"
    },
    {
     "data": {
      "text/html": [
       "<ol>\n",
       "\t<li>'Donald'</li>\n",
       "\t<li>' '</li>\n",
       "\t<li>'Trump'</li>\n",
       "</ol>\n"
      ],
      "text/latex": [
       "\\begin{enumerate}\n",
       "\\item 'Donald'\n",
       "\\item ' '\n",
       "\\item 'Trump'\n",
       "\\end{enumerate}\n"
      ],
      "text/markdown": [
       "1. 'Donald'\n",
       "2. ' '\n",
       "3. 'Trump'\n",
       "\n",
       "\n"
      ],
      "text/plain": [
       "[[1]]\n",
       "[1] \"Donald\"\n",
       "\n",
       "[[2]]\n",
       "[1] \" \"\n",
       "\n",
       "[[3]]\n",
       "[1] \"Trump\"\n"
      ]
     },
     "metadata": {},
     "output_type": "display_data"
    },
    {
     "data": {
      "text/html": [
       "<style>\n",
       ".list-inline {list-style: none; margin:0; padding: 0}\n",
       ".list-inline>li {display: inline-block}\n",
       ".list-inline>li:not(:last-child)::after {content: \"\\00b7\"; padding: 0 .5ex}\n",
       "</style>\n",
       "<ol class=list-inline><li>'Donald'</li><li>' '</li><li>'Trump'</li></ol>\n"
      ],
      "text/latex": [
       "\\begin{enumerate*}\n",
       "\\item 'Donald'\n",
       "\\item ' '\n",
       "\\item 'Trump'\n",
       "\\end{enumerate*}\n"
      ],
      "text/markdown": [
       "1. 'Donald'\n",
       "2. ' '\n",
       "3. 'Trump'\n",
       "\n",
       "\n"
      ],
      "text/plain": [
       "[1] \"Donald\" \" \"      \"Trump\" "
      ]
     },
     "metadata": {},
     "output_type": "display_data"
    },
    {
     "data": {
      "text/html": [
       "<style>\n",
       ".list-inline {list-style: none; margin:0; padding: 0}\n",
       ".list-inline>li {display: inline-block}\n",
       ".list-inline>li:not(:last-child)::after {content: \"\\00b7\"; padding: 0 .5ex}\n",
       "</style>\n",
       "<ol class=list-inline><li>'갑'</li><li>'을'</li><li>'병'</li><li>'정'</li></ol>\n"
      ],
      "text/latex": [
       "\\begin{enumerate*}\n",
       "\\item '갑'\n",
       "\\item '을'\n",
       "\\item '병'\n",
       "\\item '정'\n",
       "\\end{enumerate*}\n"
      ],
      "text/markdown": [
       "1. '갑'\n",
       "2. '을'\n",
       "3. '병'\n",
       "4. '정'\n",
       "\n",
       "\n"
      ],
      "text/plain": [
       "[1] \"갑\" \"을\" \"병\" \"정\"\n",
       "attr(,\"means\")\n",
       "[1] \"이름\""
      ]
     },
     "metadata": {},
     "output_type": "display_data"
    },
    {
     "data": {
      "text/html": [
       "<style>\n",
       ".list-inline {list-style: none; margin:0; padding: 0}\n",
       ".list-inline>li {display: inline-block}\n",
       ".list-inline>li:not(:last-child)::after {content: \"\\00b7\"; padding: 0 .5ex}\n",
       "</style>\n",
       "<ol class=list-inline><li>'여성'</li><li>'남성'</li><li>'남성'</li><li>'여성'</li></ol>\n"
      ],
      "text/latex": [
       "\\begin{enumerate*}\n",
       "\\item '여성'\n",
       "\\item '남성'\n",
       "\\item '남성'\n",
       "\\item '여성'\n",
       "\\end{enumerate*}\n"
      ],
      "text/markdown": [
       "1. '여성'\n",
       "2. '남성'\n",
       "3. '남성'\n",
       "4. '여성'\n",
       "\n",
       "\n"
      ],
      "text/plain": [
       "[1] \"여성\" \"남성\" \"남성\" \"여성\""
      ]
     },
     "metadata": {},
     "output_type": "display_data"
    },
    {
     "data": {
      "text/html": [
       "'성별'"
      ],
      "text/latex": [
       "'성별'"
      ],
      "text/markdown": [
       "'성별'"
      ],
      "text/plain": [
       "[1] \"성별\""
      ]
     },
     "metadata": {},
     "output_type": "display_data"
    },
    {
     "data": {
      "text/html": [
       "2.5"
      ],
      "text/latex": [
       "2.5"
      ],
      "text/markdown": [
       "2.5"
      ],
      "text/plain": [
       "[1] 2.5"
      ]
     },
     "metadata": {},
     "output_type": "display_data"
    },
    {
     "data": {
      "text/html": [
       "<ol>\n",
       "\t<li>2.5</li>\n",
       "</ol>\n"
      ],
      "text/latex": [
       "\\begin{enumerate}\n",
       "\\item 2.5\n",
       "\\end{enumerate}\n"
      ],
      "text/markdown": [
       "1. 2.5\n",
       "\n",
       "\n"
      ],
      "text/plain": [
       "[[1]]\n",
       "[1] 2.5\n"
      ]
     },
     "metadata": {},
     "output_type": "display_data"
    },
    {
     "data": {
      "text/html": [
       "<style>\n",
       ".list-inline {list-style: none; margin:0; padding: 0}\n",
       ".list-inline>li {display: inline-block}\n",
       ".list-inline>li:not(:last-child)::after {content: \"\\00b7\"; padding: 0 .5ex}\n",
       "</style>\n",
       "<ol class=list-inline><li>1</li><li>1</li><li>1</li><li>1</li></ol>\n"
      ],
      "text/latex": [
       "\\begin{enumerate*}\n",
       "\\item 1\n",
       "\\item 1\n",
       "\\item 1\n",
       "\\item 1\n",
       "\\end{enumerate*}\n"
      ],
      "text/markdown": [
       "1. 1\n",
       "2. 1\n",
       "3. 1\n",
       "4. 1\n",
       "\n",
       "\n"
      ],
      "text/plain": [
       "[1] 1 1 1 1"
      ]
     },
     "metadata": {},
     "output_type": "display_data"
    },
    {
     "data": {
      "text/html": [
       "<style>\n",
       ".list-inline {list-style: none; margin:0; padding: 0}\n",
       ".list-inline>li {display: inline-block}\n",
       ".list-inline>li:not(:last-child)::after {content: \"\\00b7\"; padding: 0 .5ex}\n",
       "</style>\n",
       "<ol class=list-inline><li>'earth'</li><li>'to'</li><li>'earth'</li></ol>\n"
      ],
      "text/latex": [
       "\\begin{enumerate*}\n",
       "\\item 'earth'\n",
       "\\item 'to'\n",
       "\\item 'earth'\n",
       "\\end{enumerate*}\n"
      ],
      "text/markdown": [
       "1. 'earth'\n",
       "2. 'to'\n",
       "3. 'earth'\n",
       "\n",
       "\n"
      ],
      "text/plain": [
       "[1] \"earth\" \"to\"    \"earth\""
      ]
     },
     "metadata": {},
     "output_type": "display_data"
    },
    {
     "data": {
      "text/html": [
       "<style>\n",
       ".list-inline {list-style: none; margin:0; padding: 0}\n",
       ".list-inline>li {display: inline-block}\n",
       ".list-inline>li:not(:last-child)::after {content: \"\\00b7\"; padding: 0 .5ex}\n",
       "</style>\n",
       "<ol class=list-inline><li>1</li><li>1</li><li>1</li></ol>\n"
      ],
      "text/latex": [
       "\\begin{enumerate*}\n",
       "\\item 1\n",
       "\\item 1\n",
       "\\item 1\n",
       "\\end{enumerate*}\n"
      ],
      "text/markdown": [
       "1. 1\n",
       "2. 1\n",
       "3. 1\n",
       "\n",
       "\n"
      ],
      "text/plain": [
       "[1] 1 1 1"
      ]
     },
     "metadata": {},
     "output_type": "display_data"
    },
    {
     "data": {
      "text/html": [
       "<style>\n",
       ".list-inline {list-style: none; margin:0; padding: 0}\n",
       ".list-inline>li {display: inline-block}\n",
       ".list-inline>li:not(:last-child)::after {content: \"\\00b7\"; padding: 0 .5ex}\n",
       "</style>\n",
       "<ol class=list-inline><li>'a'</li><li>'b'</li><li>'c'</li><li>'d'</li><li>'e'</li><li>'f'</li><li>'g'</li><li>'h'</li><li>'i'</li><li>'j'</li><li>'k'</li><li>'l'</li><li>'m'</li><li>'n'</li><li>'o'</li><li>'p'</li><li>'q'</li><li>'r'</li><li>'s'</li><li>'t'</li><li>'u'</li><li>'v'</li><li>'w'</li><li>'x'</li><li>'y'</li><li>'z'</li></ol>\n"
      ],
      "text/latex": [
       "\\begin{enumerate*}\n",
       "\\item 'a'\n",
       "\\item 'b'\n",
       "\\item 'c'\n",
       "\\item 'd'\n",
       "\\item 'e'\n",
       "\\item 'f'\n",
       "\\item 'g'\n",
       "\\item 'h'\n",
       "\\item 'i'\n",
       "\\item 'j'\n",
       "\\item 'k'\n",
       "\\item 'l'\n",
       "\\item 'm'\n",
       "\\item 'n'\n",
       "\\item 'o'\n",
       "\\item 'p'\n",
       "\\item 'q'\n",
       "\\item 'r'\n",
       "\\item 's'\n",
       "\\item 't'\n",
       "\\item 'u'\n",
       "\\item 'v'\n",
       "\\item 'w'\n",
       "\\item 'x'\n",
       "\\item 'y'\n",
       "\\item 'z'\n",
       "\\end{enumerate*}\n"
      ],
      "text/markdown": [
       "1. 'a'\n",
       "2. 'b'\n",
       "3. 'c'\n",
       "4. 'd'\n",
       "5. 'e'\n",
       "6. 'f'\n",
       "7. 'g'\n",
       "8. 'h'\n",
       "9. 'i'\n",
       "10. 'j'\n",
       "11. 'k'\n",
       "12. 'l'\n",
       "13. 'm'\n",
       "14. 'n'\n",
       "15. 'o'\n",
       "16. 'p'\n",
       "17. 'q'\n",
       "18. 'r'\n",
       "19. 's'\n",
       "20. 't'\n",
       "21. 'u'\n",
       "22. 'v'\n",
       "23. 'w'\n",
       "24. 'x'\n",
       "25. 'y'\n",
       "26. 'z'\n",
       "\n",
       "\n"
      ],
      "text/plain": [
       " [1] \"a\" \"b\" \"c\" \"d\" \"e\" \"f\" \"g\" \"h\" \"i\" \"j\" \"k\" \"l\" \"m\" \"n\" \"o\" \"p\" \"q\" \"r\" \"s\"\n",
       "[20] \"t\" \"u\" \"v\" \"w\" \"x\" \"y\" \"z\""
      ]
     },
     "metadata": {},
     "output_type": "display_data"
    },
    {
     "data": {
      "text/html": [
       "<style>\n",
       ".list-inline {list-style: none; margin:0; padding: 0}\n",
       ".list-inline>li {display: inline-block}\n",
       ".list-inline>li:not(:last-child)::after {content: \"\\00b7\"; padding: 0 .5ex}\n",
       "</style>\n",
       "<ol class=list-inline><li>'a'</li><li>'b'</li><li>'c'</li><li>'d'</li><li>'e'</li><li>'f'</li><li>'g'</li><li>'h'</li><li>'i'</li><li>'j'</li><li>'k'</li><li>'l'</li><li>'m'</li><li>'n'</li><li>'o'</li><li>'p'</li><li>'q'</li><li>'r'</li><li>'s'</li><li>'t'</li><li>'u'</li><li>'v'</li><li>'w'</li><li>'x'</li><li>'y'</li><li>'z'</li></ol>\n"
      ],
      "text/latex": [
       "\\begin{enumerate*}\n",
       "\\item 'a'\n",
       "\\item 'b'\n",
       "\\item 'c'\n",
       "\\item 'd'\n",
       "\\item 'e'\n",
       "\\item 'f'\n",
       "\\item 'g'\n",
       "\\item 'h'\n",
       "\\item 'i'\n",
       "\\item 'j'\n",
       "\\item 'k'\n",
       "\\item 'l'\n",
       "\\item 'm'\n",
       "\\item 'n'\n",
       "\\item 'o'\n",
       "\\item 'p'\n",
       "\\item 'q'\n",
       "\\item 'r'\n",
       "\\item 's'\n",
       "\\item 't'\n",
       "\\item 'u'\n",
       "\\item 'v'\n",
       "\\item 'w'\n",
       "\\item 'x'\n",
       "\\item 'y'\n",
       "\\item 'z'\n",
       "\\end{enumerate*}\n"
      ],
      "text/markdown": [
       "1. 'a'\n",
       "2. 'b'\n",
       "3. 'c'\n",
       "4. 'd'\n",
       "5. 'e'\n",
       "6. 'f'\n",
       "7. 'g'\n",
       "8. 'h'\n",
       "9. 'i'\n",
       "10. 'j'\n",
       "11. 'k'\n",
       "12. 'l'\n",
       "13. 'm'\n",
       "14. 'n'\n",
       "15. 'o'\n",
       "16. 'p'\n",
       "17. 'q'\n",
       "18. 'r'\n",
       "19. 's'\n",
       "20. 't'\n",
       "21. 'u'\n",
       "22. 'v'\n",
       "23. 'w'\n",
       "24. 'x'\n",
       "25. 'y'\n",
       "26. 'z'\n",
       "\n",
       "\n"
      ],
      "text/plain": [
       " [1] \"a\" \"b\" \"c\" \"d\" \"e\" \"f\" \"g\" \"h\" \"i\" \"j\" \"k\" \"l\" \"m\" \"n\" \"o\" \"p\" \"q\" \"r\" \"s\"\n",
       "[20] \"t\" \"u\" \"v\" \"w\" \"x\" \"y\" \"z\""
      ]
     },
     "metadata": {},
     "output_type": "display_data"
    },
    {
     "data": {
      "text/html": [
       "<style>\n",
       ".list-inline {list-style: none; margin:0; padding: 0}\n",
       ".list-inline>li {display: inline-block}\n",
       ".list-inline>li:not(:last-child)::after {content: \"\\00b7\"; padding: 0 .5ex}\n",
       "</style>\n",
       "<ol class=list-inline><li>'A'</li><li>'B'</li><li>'C'</li><li>'D'</li><li>'E'</li><li>'F'</li><li>'G'</li><li>'H'</li><li>'I'</li><li>'J'</li><li>'K'</li><li>'L'</li><li>'M'</li><li>'N'</li><li>'O'</li><li>'P'</li><li>'Q'</li><li>'R'</li><li>'S'</li><li>'T'</li><li>'U'</li><li>'V'</li><li>'W'</li><li>'X'</li><li>'Y'</li><li>'Z'</li></ol>\n"
      ],
      "text/latex": [
       "\\begin{enumerate*}\n",
       "\\item 'A'\n",
       "\\item 'B'\n",
       "\\item 'C'\n",
       "\\item 'D'\n",
       "\\item 'E'\n",
       "\\item 'F'\n",
       "\\item 'G'\n",
       "\\item 'H'\n",
       "\\item 'I'\n",
       "\\item 'J'\n",
       "\\item 'K'\n",
       "\\item 'L'\n",
       "\\item 'M'\n",
       "\\item 'N'\n",
       "\\item 'O'\n",
       "\\item 'P'\n",
       "\\item 'Q'\n",
       "\\item 'R'\n",
       "\\item 'S'\n",
       "\\item 'T'\n",
       "\\item 'U'\n",
       "\\item 'V'\n",
       "\\item 'W'\n",
       "\\item 'X'\n",
       "\\item 'Y'\n",
       "\\item 'Z'\n",
       "\\end{enumerate*}\n"
      ],
      "text/markdown": [
       "1. 'A'\n",
       "2. 'B'\n",
       "3. 'C'\n",
       "4. 'D'\n",
       "5. 'E'\n",
       "6. 'F'\n",
       "7. 'G'\n",
       "8. 'H'\n",
       "9. 'I'\n",
       "10. 'J'\n",
       "11. 'K'\n",
       "12. 'L'\n",
       "13. 'M'\n",
       "14. 'N'\n",
       "15. 'O'\n",
       "16. 'P'\n",
       "17. 'Q'\n",
       "18. 'R'\n",
       "19. 'S'\n",
       "20. 'T'\n",
       "21. 'U'\n",
       "22. 'V'\n",
       "23. 'W'\n",
       "24. 'X'\n",
       "25. 'Y'\n",
       "26. 'Z'\n",
       "\n",
       "\n"
      ],
      "text/plain": [
       " [1] \"A\" \"B\" \"C\" \"D\" \"E\" \"F\" \"G\" \"H\" \"I\" \"J\" \"K\" \"L\" \"M\" \"N\" \"O\" \"P\" \"Q\" \"R\" \"S\"\n",
       "[20] \"T\" \"U\" \"V\" \"W\" \"X\" \"Y\" \"Z\""
      ]
     },
     "metadata": {},
     "output_type": "display_data"
    },
    {
     "data": {
      "text/html": [
       "'eye for eye'"
      ],
      "text/latex": [
       "'eye for eye'"
      ],
      "text/markdown": [
       "'eye for eye'"
      ],
      "text/plain": [
       "[1] \"eye for eye\""
      ]
     },
     "metadata": {},
     "output_type": "display_data"
    },
    {
     "data": {
      "text/html": [
       "'EYE FOR EYE'"
      ],
      "text/latex": [
       "'EYE FOR EYE'"
      ],
      "text/markdown": [
       "'EYE FOR EYE'"
      ],
      "text/plain": [
       "[1] \"EYE FOR EYE\""
      ]
     },
     "metadata": {},
     "output_type": "display_data"
    },
    {
     "data": {
      "text/html": [
       "5"
      ],
      "text/latex": [
       "5"
      ],
      "text/markdown": [
       "5"
      ],
      "text/plain": [
       "[1] 5"
      ]
     },
     "metadata": {},
     "output_type": "display_data"
    },
    {
     "data": {
      "text/html": [
       "5"
      ],
      "text/latex": [
       "5"
      ],
      "text/markdown": [
       "5"
      ],
      "text/plain": [
       "[1] 5"
      ]
     },
     "metadata": {},
     "output_type": "display_data"
    },
    {
     "data": {
      "text/html": [
       "2"
      ],
      "text/latex": [
       "2"
      ],
      "text/markdown": [
       "2"
      ],
      "text/plain": [
       "[1] 2"
      ]
     },
     "metadata": {},
     "output_type": "display_data"
    },
    {
     "data": {
      "text/html": [
       "4"
      ],
      "text/latex": [
       "4"
      ],
      "text/markdown": [
       "4"
      ],
      "text/plain": [
       "[1] 4"
      ]
     },
     "metadata": {},
     "output_type": "display_data"
    },
    {
     "data": {
      "text/html": [
       "<ol>\n",
       "\t<li><style>\n",
       ".list-inline {list-style: none; margin:0; padding: 0}\n",
       ".list-inline>li {display: inline-block}\n",
       ".list-inline>li:not(:last-child)::after {content: \"\\00b7\"; padding: 0 .5ex}\n",
       "</style>\n",
       "<ol class=list-inline><li>'i'</li><li>'n'</li><li>'t'</li><li>'e'</li><li>'r'</li><li>'e'</li><li>'s'</li><li>'t'</li><li>'i'</li><li>'n'</li><li>'g'</li></ol>\n",
       "</li>\n",
       "</ol>\n"
      ],
      "text/latex": [
       "\\begin{enumerate}\n",
       "\\item \\begin{enumerate*}\n",
       "\\item 'i'\n",
       "\\item 'n'\n",
       "\\item 't'\n",
       "\\item 'e'\n",
       "\\item 'r'\n",
       "\\item 'e'\n",
       "\\item 's'\n",
       "\\item 't'\n",
       "\\item 'i'\n",
       "\\item 'n'\n",
       "\\item 'g'\n",
       "\\end{enumerate*}\n",
       "\n",
       "\\end{enumerate}\n"
      ],
      "text/markdown": [
       "1. 1. 'i'\n",
       "2. 'n'\n",
       "3. 't'\n",
       "4. 'e'\n",
       "5. 'r'\n",
       "6. 'e'\n",
       "7. 's'\n",
       "8. 't'\n",
       "9. 'i'\n",
       "10. 'n'\n",
       "11. 'g'\n",
       "\n",
       "\n",
       "\n",
       "\n",
       "\n"
      ],
      "text/plain": [
       "[[1]]\n",
       " [1] \"i\" \"n\" \"t\" \"e\" \"r\" \"e\" \"s\" \"t\" \"i\" \"n\" \"g\"\n"
      ]
     },
     "metadata": {},
     "output_type": "display_data"
    },
    {
     "data": {
      "text/html": [
       "<ol>\n",
       "\t<li><style>\n",
       ".list-inline {list-style: none; margin:0; padding: 0}\n",
       ".list-inline>li {display: inline-block}\n",
       ".list-inline>li:not(:last-child)::after {content: \"\\00b7\"; padding: 0 .5ex}\n",
       "</style>\n",
       "<ol class=list-inline><li>'지지자불여호지자'</li><li>'호지자불여락지자'</li></ol>\n",
       "</li>\n",
       "</ol>\n"
      ],
      "text/latex": [
       "\\begin{enumerate}\n",
       "\\item \\begin{enumerate*}\n",
       "\\item '지지자불여호지자'\n",
       "\\item '호지자불여락지자'\n",
       "\\end{enumerate*}\n",
       "\n",
       "\\end{enumerate}\n"
      ],
      "text/markdown": [
       "1. 1. '지지자불여호지자'\n",
       "2. '호지자불여락지자'\n",
       "\n",
       "\n",
       "\n",
       "\n",
       "\n"
      ],
      "text/plain": [
       "[[1]]\n",
       "[1] \"지지자불여호지자\" \"호지자불여락지자\"\n"
      ]
     },
     "metadata": {},
     "output_type": "display_data"
    },
    {
     "data": {
      "text/html": [
       "<ol>\n",
       "\t<li><style>\n",
       ".list-inline {list-style: none; margin:0; padding: 0}\n",
       ".list-inline>li {display: inline-block}\n",
       ".list-inline>li:not(:last-child)::after {content: \"\\00b7\"; padding: 0 .5ex}\n",
       "</style>\n",
       "<ol class=list-inline><li>'L'</li><li>'e'</li><li>'a'</li><li>'r'</li><li>'n'</li><li>'i'</li><li>'n'</li><li>'g'</li></ol>\n",
       "</li>\n",
       "\t<li>'R'</li>\n",
       "\t<li><style>\n",
       ".list-inline {list-style: none; margin:0; padding: 0}\n",
       ".list-inline>li {display: inline-block}\n",
       ".list-inline>li:not(:last-child)::after {content: \"\\00b7\"; padding: 0 .5ex}\n",
       "</style>\n",
       "<ol class=list-inline><li>'i'</li><li>'s'</li></ol>\n",
       "</li>\n",
       "\t<li><style>\n",
       ".list-inline {list-style: none; margin:0; padding: 0}\n",
       ".list-inline>li {display: inline-block}\n",
       ".list-inline>li:not(:last-child)::after {content: \"\\00b7\"; padding: 0 .5ex}\n",
       "</style>\n",
       "<ol class=list-inline><li>'s'</li><li>'o'</li></ol>\n",
       "</li>\n",
       "\t<li><style>\n",
       ".list-inline {list-style: none; margin:0; padding: 0}\n",
       ".list-inline>li {display: inline-block}\n",
       ".list-inline>li:not(:last-child)::after {content: \"\\00b7\"; padding: 0 .5ex}\n",
       "</style>\n",
       "<ol class=list-inline><li>'i'</li><li>'n'</li><li>'t'</li><li>'e'</li><li>'r'</li><li>'e'</li><li>'s'</li><li>'t'</li><li>'i'</li><li>'n'</li><li>'g'</li></ol>\n",
       "</li>\n",
       "</ol>\n"
      ],
      "text/latex": [
       "\\begin{enumerate}\n",
       "\\item \\begin{enumerate*}\n",
       "\\item 'L'\n",
       "\\item 'e'\n",
       "\\item 'a'\n",
       "\\item 'r'\n",
       "\\item 'n'\n",
       "\\item 'i'\n",
       "\\item 'n'\n",
       "\\item 'g'\n",
       "\\end{enumerate*}\n",
       "\n",
       "\\item 'R'\n",
       "\\item \\begin{enumerate*}\n",
       "\\item 'i'\n",
       "\\item 's'\n",
       "\\end{enumerate*}\n",
       "\n",
       "\\item \\begin{enumerate*}\n",
       "\\item 's'\n",
       "\\item 'o'\n",
       "\\end{enumerate*}\n",
       "\n",
       "\\item \\begin{enumerate*}\n",
       "\\item 'i'\n",
       "\\item 'n'\n",
       "\\item 't'\n",
       "\\item 'e'\n",
       "\\item 'r'\n",
       "\\item 'e'\n",
       "\\item 's'\n",
       "\\item 't'\n",
       "\\item 'i'\n",
       "\\item 'n'\n",
       "\\item 'g'\n",
       "\\end{enumerate*}\n",
       "\n",
       "\\end{enumerate}\n"
      ],
      "text/markdown": [
       "1. 1. 'L'\n",
       "2. 'e'\n",
       "3. 'a'\n",
       "4. 'r'\n",
       "5. 'n'\n",
       "6. 'i'\n",
       "7. 'n'\n",
       "8. 'g'\n",
       "\n",
       "\n",
       "\n",
       "2. 'R'\n",
       "3. 1. 'i'\n",
       "2. 's'\n",
       "\n",
       "\n",
       "\n",
       "4. 1. 's'\n",
       "2. 'o'\n",
       "\n",
       "\n",
       "\n",
       "5. 1. 'i'\n",
       "2. 'n'\n",
       "3. 't'\n",
       "4. 'e'\n",
       "5. 'r'\n",
       "6. 'e'\n",
       "7. 's'\n",
       "8. 't'\n",
       "9. 'i'\n",
       "10. 'n'\n",
       "11. 'g'\n",
       "\n",
       "\n",
       "\n",
       "\n",
       "\n"
      ],
      "text/plain": [
       "[[1]]\n",
       "[1] \"L\" \"e\" \"a\" \"r\" \"n\" \"i\" \"n\" \"g\"\n",
       "\n",
       "[[2]]\n",
       "[1] \"R\"\n",
       "\n",
       "[[3]]\n",
       "[1] \"i\" \"s\"\n",
       "\n",
       "[[4]]\n",
       "[1] \"s\" \"o\"\n",
       "\n",
       "[[5]]\n",
       " [1] \"i\" \"n\" \"t\" \"e\" \"r\" \"e\" \"s\" \"t\" \"i\" \"n\" \"g\"\n"
      ]
     },
     "metadata": {},
     "output_type": "display_data"
    },
    {
     "data": {
      "text/html": [
       "'Learning'"
      ],
      "text/latex": [
       "'Learning'"
      ],
      "text/markdown": [
       "'Learning'"
      ],
      "text/plain": [
       "[1] \"Learning\""
      ]
     },
     "metadata": {},
     "output_type": "display_data"
    },
    {
     "data": {
      "text/html": [
       "'L&amp;e&amp;a&amp;r&amp;n&amp;i&amp;n&amp;g'"
      ],
      "text/latex": [
       "'L\\&e\\&a\\&r\\&n\\&i\\&n\\&g'"
      ],
      "text/markdown": [
       "'L&amp;e&amp;a&amp;r&amp;n&amp;i&amp;n&amp;g'"
      ],
      "text/plain": [
       "[1] \"L&e&a&r&n&i&n&g\""
      ]
     },
     "metadata": {},
     "output_type": "display_data"
    },
    {
     "data": {
      "text/html": [
       "<ol>\n",
       "\t<li>'Learning'</li>\n",
       "\t<li>'R'</li>\n",
       "\t<li>'is'</li>\n",
       "\t<li>'so'</li>\n",
       "\t<li>'interesting'</li>\n",
       "</ol>\n"
      ],
      "text/latex": [
       "\\begin{enumerate}\n",
       "\\item 'Learning'\n",
       "\\item 'R'\n",
       "\\item 'is'\n",
       "\\item 'so'\n",
       "\\item 'interesting'\n",
       "\\end{enumerate}\n"
      ],
      "text/markdown": [
       "1. 'Learning'\n",
       "2. 'R'\n",
       "3. 'is'\n",
       "4. 'so'\n",
       "5. 'interesting'\n",
       "\n",
       "\n"
      ],
      "text/plain": [
       "[[1]]\n",
       "[1] \"Learning\"\n",
       "\n",
       "[[2]]\n",
       "[1] \"R\"\n",
       "\n",
       "[[3]]\n",
       "[1] \"is\"\n",
       "\n",
       "[[4]]\n",
       "[1] \"so\"\n",
       "\n",
       "[[5]]\n",
       "[1] \"interesting\"\n"
      ]
     },
     "metadata": {},
     "output_type": "display_data"
    },
    {
     "data": {
      "text/html": [
       "'Learning R is so interesting'"
      ],
      "text/latex": [
       "'Learning R is so interesting'"
      ],
      "text/markdown": [
       "'Learning R is so interesting'"
      ],
      "text/plain": [
       "[1] \"Learning R is so interesting\""
      ]
     },
     "metadata": {},
     "output_type": "display_data"
    },
    {
     "name": "stdout",
     "output_type": "stream",
     "text": [
      "[[1]]\n",
      " [1] \"R\"           \"is\"          \"a\"           \"programming\" \"language\"   \n",
      " [6] \"and\"         \"free\"        \"software\"    \"environment\" \"for\"        \n",
      "[11] \"statistical\" \"computing\"   \"and\"         \"graphics\"    \"supported\"  \n",
      "[16] \"by\"          \"the\"         \"R\"           \"Foundation\"  \"for\"        \n",
      "[21] \"Statistical\" \"Computing.\" \n",
      "\n",
      "[[1]]\n",
      " [1] \"The\"           \"R\"             \"language\"      \"is\"           \n",
      " [5] \"widely\"        \"used\"          \"among\"         \"statisticians\"\n",
      " [9] \"and\"           \"data\"          \"miners\"        \"for\"          \n",
      "[13] \"developing\"    \"statistical\"   \"software\"      \"and\"          \n",
      "[17] \"data\"          \"analysis.\"    \n",
      "\n",
      "[[1]]\n",
      " [1] \"Polls,\"      \"data\"        \"mining\"      \"surveys,\"    \"and\"        \n",
      " [6] \"studies\"     \"of\"          \"scholarly\"   \"literature\"  \"databases\"  \n",
      "[11] \"show\"        \"substantial\" \"increases\"   \"in\"          \"popularity;\"\n",
      "[16] \"as\"          \"of\"          \"June\"        \"2020,\"       \"R\"          \n",
      "[21] \"ranks\"       \"9th\"         \"in\"          \"the\"         \"TIOBE\"      \n",
      "[26] \"index,\"      \"a\"           \"measure\"     \"of\"          \"popularity\" \n",
      "[31] \"of\"          \"programming\" \"languages.\" \n",
      "\n"
     ]
    },
    {
     "data": {
      "text/html": [
       "'Learning R is so interesting'"
      ],
      "text/latex": [
       "'Learning R is so interesting'"
      ],
      "text/markdown": [
       "'Learning R is so interesting'"
      ],
      "text/plain": [
       "[1] \"Learning R is so interesting\""
      ]
     },
     "metadata": {},
     "output_type": "display_data"
    },
    {
     "data": {
      "text/html": [
       "8"
      ],
      "text/latex": [
       "8"
      ],
      "text/markdown": [
       "8"
      ],
      "text/plain": [
       "[1] 8"
      ]
     },
     "metadata": {},
     "output_type": "display_data"
    },
    {
     "data": {
      "text/html": [
       "<ol>\n",
       "\t<li><style>\n",
       ".list-inline {list-style: none; margin:0; padding: 0}\n",
       ".list-inline>li {display: inline-block}\n",
       ".list-inline>li:not(:last-child)::after {content: \"\\00b7\"; padding: 0 .5ex}\n",
       "</style>\n",
       "<ol class=list-inline><li>6</li><li>26</li></ol>\n",
       "</li>\n",
       "</ol>\n"
      ],
      "text/latex": [
       "\\begin{enumerate}\n",
       "\\item \\begin{enumerate*}\n",
       "\\item 6\n",
       "\\item 26\n",
       "\\end{enumerate*}\n",
       "\n",
       "\\end{enumerate}\n"
      ],
      "text/markdown": [
       "1. 1. 6\n",
       "2. 26\n",
       "\n",
       "\n",
       "\n",
       "\n",
       "\n"
      ],
      "text/plain": [
       "[[1]]\n",
       "[1]  6 26\n",
       "attr(,\"match.length\")\n",
       "[1] 3 3\n",
       "attr(,\"index.type\")\n",
       "[1] \"chars\"\n",
       "attr(,\"useBytes\")\n",
       "[1] TRUE\n"
      ]
     },
     "metadata": {},
     "output_type": "display_data"
    },
    {
     "data": {
      "text/html": [
       "2"
      ],
      "text/latex": [
       "2"
      ],
      "text/markdown": [
       "2"
      ],
      "text/plain": [
       "[1] 2"
      ]
     },
     "metadata": {},
     "output_type": "display_data"
    },
    {
     "data": {
      "text/html": [
       "18"
      ],
      "text/latex": [
       "18"
      ],
      "text/markdown": [
       "18"
      ],
      "text/plain": [
       "[1] 18\n",
       "attr(,\"match.length\")\n",
       "[1] 11\n",
       "attr(,\"index.type\")\n",
       "[1] \"chars\"\n",
       "attr(,\"useBytes\")\n",
       "[1] TRUE"
      ]
     },
     "metadata": {},
     "output_type": "display_data"
    },
    {
     "data": {
      "text/html": [
       "<ol>\n",
       "\t<li><style>\n",
       ".list-inline {list-style: none; margin:0; padding: 0}\n",
       ".list-inline>li {display: inline-block}\n",
       ".list-inline>li:not(:last-child)::after {content: \"\\00b7\"; padding: 0 .5ex}\n",
       "</style>\n",
       "<ol class=list-inline><li>18</li><li>28</li></ol>\n",
       "</li>\n",
       "</ol>\n"
      ],
      "text/latex": [
       "\\begin{enumerate}\n",
       "\\item \\begin{enumerate*}\n",
       "\\item 18\n",
       "\\item 28\n",
       "\\end{enumerate*}\n",
       "\n",
       "\\end{enumerate}\n"
      ],
      "text/markdown": [
       "1. 1. 18\n",
       "2. 28\n",
       "\n",
       "\n",
       "\n",
       "\n",
       "\n"
      ],
      "text/plain": [
       "[[1]]\n",
       "[1] 18 28\n",
       "attr(,\"match.length\")\n",
       "[1] 11  1\n",
       "attr(,\"index.type\")\n",
       "[1] \"chars\"\n",
       "attr(,\"useBytes\")\n",
       "[1] TRUE\n"
      ]
     },
     "metadata": {},
     "output_type": "display_data"
    },
    {
     "data": {
      "text/html": [
       "'Learning R is so interesting'"
      ],
      "text/latex": [
       "'Learning R is so interesting'"
      ],
      "text/markdown": [
       "'Learning R is so interesting'"
      ],
      "text/plain": [
       "[1] \"Learning R is so interesting\""
      ]
     },
     "metadata": {},
     "output_type": "display_data"
    },
    {
     "data": {
      "text/html": [
       "<ol>\n",
       "\t<li><style>\n",
       ".list-inline {list-style: none; margin:0; padding: 0}\n",
       ".list-inline>li {display: inline-block}\n",
       ".list-inline>li:not(:last-child)::after {content: \"\\00b7\"; padding: 0 .5ex}\n",
       "</style>\n",
       "<ol class=list-inline><li>15</li><li>18</li><li>28</li></ol>\n",
       "</li>\n",
       "</ol>\n"
      ],
      "text/latex": [
       "\\begin{enumerate}\n",
       "\\item \\begin{enumerate*}\n",
       "\\item 15\n",
       "\\item 18\n",
       "\\item 28\n",
       "\\end{enumerate*}\n",
       "\n",
       "\\end{enumerate}\n"
      ],
      "text/markdown": [
       "1. 1. 15\n",
       "2. 18\n",
       "3. 28\n",
       "\n",
       "\n",
       "\n",
       "\n",
       "\n"
      ],
      "text/plain": [
       "[[1]]\n",
       "[1] 15 18 28\n",
       "attr(,\"match.length\")\n",
       "[1] 14 11  1\n",
       "attr(,\"index.type\")\n",
       "[1] \"chars\"\n",
       "attr(,\"useBytes\")\n",
       "[1] TRUE\n"
      ]
     },
     "metadata": {},
     "output_type": "display_data"
    },
    {
     "data": {
      "text/html": [
       "'LearnING R is so interesting'"
      ],
      "text/latex": [
       "'LearnING R is so interesting'"
      ],
      "text/markdown": [
       "'LearnING R is so interesting'"
      ],
      "text/plain": [
       "[1] \"LearnING R is so interesting\""
      ]
     },
     "metadata": {},
     "output_type": "display_data"
    },
    {
     "data": {
      "text/html": [
       "'LearnING R is so interestING'"
      ],
      "text/latex": [
       "'LearnING R is so interestING'"
      ],
      "text/markdown": [
       "'LearnING R is so interestING'"
      ],
      "text/plain": [
       "[1] \"LearnING R is so interestING\""
      ]
     },
     "metadata": {},
     "output_type": "display_data"
    },
    {
     "data": {
      "text/html": [
       "'Learning R is so interesting'"
      ],
      "text/latex": [
       "'Learning R is so interesting'"
      ],
      "text/markdown": [
       "'Learning R is so interesting'"
      ],
      "text/plain": [
       "[1] \"Learning R is so interesting\""
      ]
     },
     "metadata": {},
     "output_type": "display_data"
    },
    {
     "data": {
      "text/html": [
       "<ol>\n",
       "\t<li><style>\n",
       ".list-inline {list-style: none; margin:0; padding: 0}\n",
       ".list-inline>li {display: inline-block}\n",
       ".list-inline>li:not(:last-child)::after {content: \"\\00b7\"; padding: 0 .5ex}\n",
       "</style>\n",
       "<ol class=list-inline><li>'R'</li><li>'is'</li><li>'a'</li><li>'programming'</li><li>'language'</li><li>'and'</li><li>'free'</li><li>'software'</li><li>'environment'</li><li>'for'</li><li>'statistical'</li><li>'computing'</li><li>'and'</li><li>'graphics'</li><li>'supported'</li><li>'by'</li><li>'the'</li><li>'R'</li><li>'Foundation'</li><li>'for'</li><li>'Statistical'</li><li>'Computing.'</li></ol>\n",
       "</li>\n",
       "\t<li><style>\n",
       ".list-inline {list-style: none; margin:0; padding: 0}\n",
       ".list-inline>li {display: inline-block}\n",
       ".list-inline>li:not(:last-child)::after {content: \"\\00b7\"; padding: 0 .5ex}\n",
       "</style>\n",
       "<ol class=list-inline><li>'The'</li><li>'R'</li><li>'language'</li><li>'is'</li><li>'widely'</li><li>'used'</li><li>'among'</li><li>'statisticians'</li><li>'and'</li><li>'data'</li><li>'miners'</li><li>'for'</li><li>'developing'</li><li>'statistical'</li><li>'software'</li><li>'and'</li><li>'data'</li><li>'analysis.'</li></ol>\n",
       "</li>\n",
       "\t<li><style>\n",
       ".list-inline {list-style: none; margin:0; padding: 0}\n",
       ".list-inline>li {display: inline-block}\n",
       ".list-inline>li:not(:last-child)::after {content: \"\\00b7\"; padding: 0 .5ex}\n",
       "</style>\n",
       "<ol class=list-inline><li>'Polls,'</li><li>'data'</li><li>'mining'</li><li>'surveys,'</li><li>'and'</li><li>'studies'</li><li>'of'</li><li>'scholarly'</li><li>'literature'</li><li>'databases'</li><li>'show'</li><li>'substantial'</li><li>'increases'</li><li>'in'</li><li>'popularity;'</li><li>'as'</li><li>'of'</li><li>'June'</li><li>'2020,'</li><li>'R'</li><li>'ranks'</li><li>'9th'</li><li>'in'</li><li>'the'</li><li>'TIOBE'</li><li>'index,'</li><li>'a'</li><li>'measure'</li><li>'of'</li><li>'popularity'</li><li>'of'</li><li>'programming'</li><li>'languages.'</li></ol>\n",
       "</li>\n",
       "</ol>\n"
      ],
      "text/latex": [
       "\\begin{enumerate}\n",
       "\\item \\begin{enumerate*}\n",
       "\\item 'R'\n",
       "\\item 'is'\n",
       "\\item 'a'\n",
       "\\item 'programming'\n",
       "\\item 'language'\n",
       "\\item 'and'\n",
       "\\item 'free'\n",
       "\\item 'software'\n",
       "\\item 'environment'\n",
       "\\item 'for'\n",
       "\\item 'statistical'\n",
       "\\item 'computing'\n",
       "\\item 'and'\n",
       "\\item 'graphics'\n",
       "\\item 'supported'\n",
       "\\item 'by'\n",
       "\\item 'the'\n",
       "\\item 'R'\n",
       "\\item 'Foundation'\n",
       "\\item 'for'\n",
       "\\item 'Statistical'\n",
       "\\item 'Computing.'\n",
       "\\end{enumerate*}\n",
       "\n",
       "\\item \\begin{enumerate*}\n",
       "\\item 'The'\n",
       "\\item 'R'\n",
       "\\item 'language'\n",
       "\\item 'is'\n",
       "\\item 'widely'\n",
       "\\item 'used'\n",
       "\\item 'among'\n",
       "\\item 'statisticians'\n",
       "\\item 'and'\n",
       "\\item 'data'\n",
       "\\item 'miners'\n",
       "\\item 'for'\n",
       "\\item 'developing'\n",
       "\\item 'statistical'\n",
       "\\item 'software'\n",
       "\\item 'and'\n",
       "\\item 'data'\n",
       "\\item 'analysis.'\n",
       "\\end{enumerate*}\n",
       "\n",
       "\\item \\begin{enumerate*}\n",
       "\\item 'Polls,'\n",
       "\\item 'data'\n",
       "\\item 'mining'\n",
       "\\item 'surveys,'\n",
       "\\item 'and'\n",
       "\\item 'studies'\n",
       "\\item 'of'\n",
       "\\item 'scholarly'\n",
       "\\item 'literature'\n",
       "\\item 'databases'\n",
       "\\item 'show'\n",
       "\\item 'substantial'\n",
       "\\item 'increases'\n",
       "\\item 'in'\n",
       "\\item 'popularity;'\n",
       "\\item 'as'\n",
       "\\item 'of'\n",
       "\\item 'June'\n",
       "\\item '2020,'\n",
       "\\item 'R'\n",
       "\\item 'ranks'\n",
       "\\item '9th'\n",
       "\\item 'in'\n",
       "\\item 'the'\n",
       "\\item 'TIOBE'\n",
       "\\item 'index,'\n",
       "\\item 'a'\n",
       "\\item 'measure'\n",
       "\\item 'of'\n",
       "\\item 'popularity'\n",
       "\\item 'of'\n",
       "\\item 'programming'\n",
       "\\item 'languages.'\n",
       "\\end{enumerate*}\n",
       "\n",
       "\\end{enumerate}\n"
      ],
      "text/markdown": [
       "1. 1. 'R'\n",
       "2. 'is'\n",
       "3. 'a'\n",
       "4. 'programming'\n",
       "5. 'language'\n",
       "6. 'and'\n",
       "7. 'free'\n",
       "8. 'software'\n",
       "9. 'environment'\n",
       "10. 'for'\n",
       "11. 'statistical'\n",
       "12. 'computing'\n",
       "13. 'and'\n",
       "14. 'graphics'\n",
       "15. 'supported'\n",
       "16. 'by'\n",
       "17. 'the'\n",
       "18. 'R'\n",
       "19. 'Foundation'\n",
       "20. 'for'\n",
       "21. 'Statistical'\n",
       "22. 'Computing.'\n",
       "\n",
       "\n",
       "\n",
       "2. 1. 'The'\n",
       "2. 'R'\n",
       "3. 'language'\n",
       "4. 'is'\n",
       "5. 'widely'\n",
       "6. 'used'\n",
       "7. 'among'\n",
       "8. 'statisticians'\n",
       "9. 'and'\n",
       "10. 'data'\n",
       "11. 'miners'\n",
       "12. 'for'\n",
       "13. 'developing'\n",
       "14. 'statistical'\n",
       "15. 'software'\n",
       "16. 'and'\n",
       "17. 'data'\n",
       "18. 'analysis.'\n",
       "\n",
       "\n",
       "\n",
       "3. 1. 'Polls,'\n",
       "2. 'data'\n",
       "3. 'mining'\n",
       "4. 'surveys,'\n",
       "5. 'and'\n",
       "6. 'studies'\n",
       "7. 'of'\n",
       "8. 'scholarly'\n",
       "9. 'literature'\n",
       "10. 'databases'\n",
       "11. 'show'\n",
       "12. 'substantial'\n",
       "13. 'increases'\n",
       "14. 'in'\n",
       "15. 'popularity;'\n",
       "16. 'as'\n",
       "17. 'of'\n",
       "18. 'June'\n",
       "19. '2020,'\n",
       "20. 'R'\n",
       "21. 'ranks'\n",
       "22. '9th'\n",
       "23. 'in'\n",
       "24. 'the'\n",
       "25. 'TIOBE'\n",
       "26. 'index,'\n",
       "27. 'a'\n",
       "28. 'measure'\n",
       "29. 'of'\n",
       "30. 'popularity'\n",
       "31. 'of'\n",
       "32. 'programming'\n",
       "33. 'languages.'\n",
       "\n",
       "\n",
       "\n",
       "\n",
       "\n"
      ],
      "text/plain": [
       "[[1]]\n",
       " [1] \"R\"           \"is\"          \"a\"           \"programming\" \"language\"   \n",
       " [6] \"and\"         \"free\"        \"software\"    \"environment\" \"for\"        \n",
       "[11] \"statistical\" \"computing\"   \"and\"         \"graphics\"    \"supported\"  \n",
       "[16] \"by\"          \"the\"         \"R\"           \"Foundation\"  \"for\"        \n",
       "[21] \"Statistical\" \"Computing.\" \n",
       "\n",
       "[[2]]\n",
       " [1] \"The\"           \"R\"             \"language\"      \"is\"           \n",
       " [5] \"widely\"        \"used\"          \"among\"         \"statisticians\"\n",
       " [9] \"and\"           \"data\"          \"miners\"        \"for\"          \n",
       "[13] \"developing\"    \"statistical\"   \"software\"      \"and\"          \n",
       "[17] \"data\"          \"analysis.\"    \n",
       "\n",
       "[[3]]\n",
       " [1] \"Polls,\"      \"data\"        \"mining\"      \"surveys,\"    \"and\"        \n",
       " [6] \"studies\"     \"of\"          \"scholarly\"   \"literature\"  \"databases\"  \n",
       "[11] \"show\"        \"substantial\" \"increases\"   \"in\"          \"popularity;\"\n",
       "[16] \"as\"          \"of\"          \"June\"        \"2020,\"       \"R\"          \n",
       "[21] \"ranks\"       \"9th\"         \"in\"          \"the\"         \"TIOBE\"      \n",
       "[26] \"index,\"      \"a\"           \"measure\"     \"of\"          \"popularity\" \n",
       "[31] \"of\"          \"programming\" \"languages.\" \n"
      ]
     },
     "metadata": {},
     "output_type": "display_data"
    }
   ],
   "source": [
    "#텍스트분석\n",
    "\n",
    "c(1:6,'a')\n",
    "list(1:6,'a')\n",
    "\n",
    "o1<-1:4\n",
    "o2<-6:10\n",
    "o3<-list(o1,o2)\n",
    "myo<-list(o1,o2,o3)\n",
    "myo\n",
    "\n",
    "#리스트:[[]], 벡터:[]\n",
    "myo[[3]][1]  # []:리스트내의 리스트를 추출\n",
    "myo[[3]][[1]] # [[]]:리스트내의 리스트에 대한 벡터를 추출\n",
    "\n",
    "myo[[3]][1]\n",
    "\n",
    "myo#참조하여 9를 출력하는 코드\n",
    "\n",
    "myo[[3]][[2]][4]\n",
    "\n",
    "\n",
    "mylist<-list(1:6,'a')\n",
    "mylist\n",
    "myvector<-c(1:6,'a')\n",
    "myvector\n",
    "unlist(mylist)#리스트 -> 벡터형식 변환\n",
    "unlist(mylist)==myvector\n",
    "\n",
    "mean(unlist(mylist)[1:6])\n",
    "\n",
    "mean(mylist[[1]][1:6])\n",
    "\n",
    "n1<-\"Donald\"\n",
    "ms<-\" \"\n",
    "n2<-\"Trump\"\n",
    "list(n1,ms,n2)\n",
    "unlist(list(n1,ms,n2)) #리스트 -> 벡터\n",
    "\n",
    "n<-c(\"갑\",\"을\",\"병\",\"정\")\n",
    "gen<-c(2,1,1,2)\n",
    "df<-data.frame(n,gen)\n",
    "\n",
    "attr(df$n,\"means\")<-\"이름\"\n",
    "attr(df$gen,\"means\")<-\"성별\"\n",
    "df$n\n",
    "\n",
    "myvalues<-gen\n",
    "\n",
    "for (i in 1:length(gen)){ #i는 1부터 4까지 증가\n",
    "  myvalues[i]<-ifelse(gen[i]==1, \"남성\", \"여성\")\n",
    "}\n",
    "myvalues\n",
    "\n",
    "attr(df$gen,\"means\")   #means:속성명, \"성별\":속성값\n",
    "\n",
    "mylist<-list(1:4, 6:10, list(1:4,6:10))\n",
    "\n",
    "#mean(mylist[1])\n",
    "mean(mylist[[1]]) #list 내에 있는 벡터에 대한 평균\n",
    "lapply(mylist[1],mean) #list에 대한 평균\n",
    "\n",
    "rep(1,4)\n",
    "\n",
    "s1<-c(\"earth\", \"to\", \"earth\")\n",
    "s1\n",
    "rep(1,length(s1))\n",
    "\n",
    "letters[1:26]\n",
    "letters\n",
    "LETTERS\n",
    "\n",
    "tolower(\"Eye for eye\")\n",
    "toupper(\"Eye for eye\")\n",
    "\n",
    "nchar(\"Korea\")\n",
    "nchar(\"Korea\", type='bytes')\n",
    "nchar(\"한국\")\n",
    "nchar(\"한국\", type='bytes')\n",
    "\n",
    "sent<-\"Learning R is so interesting\"\n",
    "mywords<-strsplit(sent, split=\" \")\n",
    "strsplit(mywords[[1]][5],split=\"\")\n",
    "\n",
    "sent2<-\"지지자불여호지자 호지자불여락지자\"\n",
    "#아는 사람은 좋아하는 사람만 못하고,\n",
    "#좋아하는 사람은 즐기는 사람만 못하다\n",
    "strsplit(sent2, split=\" \")\n",
    "\n",
    "\n",
    "myletters<-list(rep(NA, 5))\n",
    "\n",
    "for(i in 1:5){\n",
    "myletters[i]<-strsplit(mywords[[1]][i],split=\"\")\n",
    "}\n",
    "myletters\n",
    "\n",
    "#문자들을 합쳐 단어로 구성\n",
    "paste(myletters[[1]], collapse = \"\")\n",
    "paste(myletters[[1]], collapse = \"&\")\n",
    "\n",
    "\n",
    "mywords2<-list(rep(NA,5))\n",
    "for(i in 1:5){\n",
    "mywords2[i]<-paste(myletters[[i]], collapse = \"\")\n",
    "}\n",
    "mywords2\n",
    "\n",
    "paste(mywords2, collapse = \" \")\n",
    "\n",
    "rWiki<-\"R is a programming language and free software environment for statistical computing and graphics supported by the R Foundation for Statistical Computing. \n",
    "The R language is widely used among statisticians and data miners for developing statistical software and data analysis. \n",
    "Polls, data mining surveys, and studies of scholarly literature databases show substantial increases in popularity; as of June 2020, R ranks 9th in the TIOBE index, a measure of popularity of programming languages.\"\n",
    "rWikiPara=strsplit(rWiki,split=\"\\n\")\n",
    "#문단 분리 : \\n\n",
    "\n",
    "for(i in 1:3){\n",
    "print(strsplit(rWikiPara[[1]][i],split=\" \"))\n",
    "}\n",
    "\n",
    "sent\n",
    "loc.begin<-as.vector(regexpr(\"ing\", sent))\n",
    "loc.length<-as.vector(attr(regexpr(\"ing\", sent), 'match.length'))\n",
    "loc.end<-loc.begin+loc.length-1\n",
    "loc.end\n",
    "\n",
    "gregexpr(\"ing\", sent) # 6 26\n",
    "#sent\n",
    "\n",
    "\n",
    "length(gregexpr(\"ing\", sent)[[1]]) #ing 패턴이 2번 매칭\n",
    "\n",
    "regexpr(\"interesting\", sent)\n",
    "\n",
    "regexec(\"interestin(g)\", sent)\n",
    "sent\n",
    "\n",
    "regexec(\"so (interestin(g))\", sent)\n",
    "\n",
    "\n",
    "sub(\"ing\", 'ING', sent)\n",
    "gsub(\"ing\", 'ING', sent)\n",
    "\n",
    "#고유명사 처리:여러 단어로 기관명 구성-> _와 같은 기호로 연결=> 하나의 단어 \n",
    "\n",
    "#singer=\"가수들 이름\"\n",
    "#gsub(\"Micheal Jackson\", \"Micheal_Jackson\", singer)\n",
    "\n",
    "sent\n",
    "\n",
    "rWikiParaSplit<-list(rep(NA,3))\n",
    "\n",
    "for(i in 1:3){\n",
    "  rWikiParaSplit[i]<-strsplit(rWikiPara[[1]][i],split=\" \")\n",
    "}\n",
    "rWikiParaSplit"
   ]
  },
  {
   "cell_type": "code",
   "execution_count": 2,
   "metadata": {},
   "outputs": [
    {
     "data": {
      "text/html": [
       "<ol>\n",
       "\t<li><style>\n",
       ".list-inline {list-style: none; margin:0; padding: 0}\n",
       ".list-inline>li {display: inline-block}\n",
       ".list-inline>li:not(:last-child)::after {content: \"\\00b7\"; padding: 0 .5ex}\n",
       "</style>\n",
       "<ol class=list-inline><li>'R'</li><li>'is'</li><li>'a'</li><li>'programming'</li><li>'language'</li><li>'and'</li><li>'free'</li><li>'software'</li><li>'environment'</li><li>'for'</li><li>'statistical'</li><li>'computing'</li><li>'and'</li><li>'graphics'</li><li>'supported'</li><li>'by'</li><li>'the'</li><li>'R'</li><li>'Foundation'</li><li>'for'</li><li>'Statistical'</li><li>'Computing.'</li></ol>\n",
       "</li>\n",
       "\t<li><style>\n",
       ".list-inline {list-style: none; margin:0; padding: 0}\n",
       ".list-inline>li {display: inline-block}\n",
       ".list-inline>li:not(:last-child)::after {content: \"\\00b7\"; padding: 0 .5ex}\n",
       "</style>\n",
       "<ol class=list-inline><li>'The'</li><li>'R'</li><li>'language'</li><li>'is'</li><li>'widely'</li><li>'used'</li><li>'among'</li><li>'statisticians'</li><li>'and'</li><li>'data'</li><li>'miners'</li><li>'for'</li><li>'developing'</li><li>'statistical'</li><li>'software'</li><li>'and'</li><li>'data'</li><li>'analysis.'</li></ol>\n",
       "</li>\n",
       "\t<li><style>\n",
       ".list-inline {list-style: none; margin:0; padding: 0}\n",
       ".list-inline>li {display: inline-block}\n",
       ".list-inline>li:not(:last-child)::after {content: \"\\00b7\"; padding: 0 .5ex}\n",
       "</style>\n",
       "<ol class=list-inline><li>'Polls,'</li><li>'data'</li><li>'mining'</li><li>'surveys,'</li><li>'and'</li><li>'studies'</li><li>'of'</li><li>'scholarly'</li><li>'literature'</li><li>'databases'</li><li>'show'</li><li>'substantial'</li><li>'increases'</li><li>'in'</li><li>'popularity;'</li><li>'as'</li><li>'of'</li><li>'June'</li><li>'2020,'</li><li>'R'</li><li>'ranks'</li><li>'9th'</li><li>'in'</li><li>'the'</li><li>'TIOBE'</li><li>'index,'</li><li>'a'</li><li>'measure'</li><li>'of'</li><li>'popularity'</li><li>'of'</li><li>'programming'</li><li>'languages.'</li></ol>\n",
       "</li>\n",
       "</ol>\n"
      ],
      "text/latex": [
       "\\begin{enumerate}\n",
       "\\item \\begin{enumerate*}\n",
       "\\item 'R'\n",
       "\\item 'is'\n",
       "\\item 'a'\n",
       "\\item 'programming'\n",
       "\\item 'language'\n",
       "\\item 'and'\n",
       "\\item 'free'\n",
       "\\item 'software'\n",
       "\\item 'environment'\n",
       "\\item 'for'\n",
       "\\item 'statistical'\n",
       "\\item 'computing'\n",
       "\\item 'and'\n",
       "\\item 'graphics'\n",
       "\\item 'supported'\n",
       "\\item 'by'\n",
       "\\item 'the'\n",
       "\\item 'R'\n",
       "\\item 'Foundation'\n",
       "\\item 'for'\n",
       "\\item 'Statistical'\n",
       "\\item 'Computing.'\n",
       "\\end{enumerate*}\n",
       "\n",
       "\\item \\begin{enumerate*}\n",
       "\\item 'The'\n",
       "\\item 'R'\n",
       "\\item 'language'\n",
       "\\item 'is'\n",
       "\\item 'widely'\n",
       "\\item 'used'\n",
       "\\item 'among'\n",
       "\\item 'statisticians'\n",
       "\\item 'and'\n",
       "\\item 'data'\n",
       "\\item 'miners'\n",
       "\\item 'for'\n",
       "\\item 'developing'\n",
       "\\item 'statistical'\n",
       "\\item 'software'\n",
       "\\item 'and'\n",
       "\\item 'data'\n",
       "\\item 'analysis.'\n",
       "\\end{enumerate*}\n",
       "\n",
       "\\item \\begin{enumerate*}\n",
       "\\item 'Polls,'\n",
       "\\item 'data'\n",
       "\\item 'mining'\n",
       "\\item 'surveys,'\n",
       "\\item 'and'\n",
       "\\item 'studies'\n",
       "\\item 'of'\n",
       "\\item 'scholarly'\n",
       "\\item 'literature'\n",
       "\\item 'databases'\n",
       "\\item 'show'\n",
       "\\item 'substantial'\n",
       "\\item 'increases'\n",
       "\\item 'in'\n",
       "\\item 'popularity;'\n",
       "\\item 'as'\n",
       "\\item 'of'\n",
       "\\item 'June'\n",
       "\\item '2020,'\n",
       "\\item 'R'\n",
       "\\item 'ranks'\n",
       "\\item '9th'\n",
       "\\item 'in'\n",
       "\\item 'the'\n",
       "\\item 'TIOBE'\n",
       "\\item 'index,'\n",
       "\\item 'a'\n",
       "\\item 'measure'\n",
       "\\item 'of'\n",
       "\\item 'popularity'\n",
       "\\item 'of'\n",
       "\\item 'programming'\n",
       "\\item 'languages.'\n",
       "\\end{enumerate*}\n",
       "\n",
       "\\end{enumerate}\n"
      ],
      "text/markdown": [
       "1. 1. 'R'\n",
       "2. 'is'\n",
       "3. 'a'\n",
       "4. 'programming'\n",
       "5. 'language'\n",
       "6. 'and'\n",
       "7. 'free'\n",
       "8. 'software'\n",
       "9. 'environment'\n",
       "10. 'for'\n",
       "11. 'statistical'\n",
       "12. 'computing'\n",
       "13. 'and'\n",
       "14. 'graphics'\n",
       "15. 'supported'\n",
       "16. 'by'\n",
       "17. 'the'\n",
       "18. 'R'\n",
       "19. 'Foundation'\n",
       "20. 'for'\n",
       "21. 'Statistical'\n",
       "22. 'Computing.'\n",
       "\n",
       "\n",
       "\n",
       "2. 1. 'The'\n",
       "2. 'R'\n",
       "3. 'language'\n",
       "4. 'is'\n",
       "5. 'widely'\n",
       "6. 'used'\n",
       "7. 'among'\n",
       "8. 'statisticians'\n",
       "9. 'and'\n",
       "10. 'data'\n",
       "11. 'miners'\n",
       "12. 'for'\n",
       "13. 'developing'\n",
       "14. 'statistical'\n",
       "15. 'software'\n",
       "16. 'and'\n",
       "17. 'data'\n",
       "18. 'analysis.'\n",
       "\n",
       "\n",
       "\n",
       "3. 1. 'Polls,'\n",
       "2. 'data'\n",
       "3. 'mining'\n",
       "4. 'surveys,'\n",
       "5. 'and'\n",
       "6. 'studies'\n",
       "7. 'of'\n",
       "8. 'scholarly'\n",
       "9. 'literature'\n",
       "10. 'databases'\n",
       "11. 'show'\n",
       "12. 'substantial'\n",
       "13. 'increases'\n",
       "14. 'in'\n",
       "15. 'popularity;'\n",
       "16. 'as'\n",
       "17. 'of'\n",
       "18. 'June'\n",
       "19. '2020,'\n",
       "20. 'R'\n",
       "21. 'ranks'\n",
       "22. '9th'\n",
       "23. 'in'\n",
       "24. 'the'\n",
       "25. 'TIOBE'\n",
       "26. 'index,'\n",
       "27. 'a'\n",
       "28. 'measure'\n",
       "29. 'of'\n",
       "30. 'popularity'\n",
       "31. 'of'\n",
       "32. 'programming'\n",
       "33. 'languages.'\n",
       "\n",
       "\n",
       "\n",
       "\n",
       "\n"
      ],
      "text/plain": [
       "[[1]]\n",
       " [1] \"R\"           \"is\"          \"a\"           \"programming\" \"language\"   \n",
       " [6] \"and\"         \"free\"        \"software\"    \"environment\" \"for\"        \n",
       "[11] \"statistical\" \"computing\"   \"and\"         \"graphics\"    \"supported\"  \n",
       "[16] \"by\"          \"the\"         \"R\"           \"Foundation\"  \"for\"        \n",
       "[21] \"Statistical\" \"Computing.\" \n",
       "\n",
       "[[2]]\n",
       " [1] \"The\"           \"R\"             \"language\"      \"is\"           \n",
       " [5] \"widely\"        \"used\"          \"among\"         \"statisticians\"\n",
       " [9] \"and\"           \"data\"          \"miners\"        \"for\"          \n",
       "[13] \"developing\"    \"statistical\"   \"software\"      \"and\"          \n",
       "[17] \"data\"          \"analysis.\"    \n",
       "\n",
       "[[3]]\n",
       " [1] \"Polls,\"      \"data\"        \"mining\"      \"surveys,\"    \"and\"        \n",
       " [6] \"studies\"     \"of\"          \"scholarly\"   \"literature\"  \"databases\"  \n",
       "[11] \"show\"        \"substantial\" \"increases\"   \"in\"          \"popularity;\"\n",
       "[16] \"as\"          \"of\"          \"June\"        \"2020,\"       \"R\"          \n",
       "[21] \"ranks\"       \"9th\"         \"in\"          \"the\"         \"TIOBE\"      \n",
       "[26] \"index,\"      \"a\"           \"measure\"     \"of\"          \"popularity\" \n",
       "[31] \"of\"          \"programming\" \"languages.\" \n"
      ]
     },
     "metadata": {},
     "output_type": "display_data"
    }
   ],
   "source": [
    "rWikiParaSplit<-list(rep(NA,3))\n",
    "\n",
    "for(i in 1:3){\n",
    "  rWikiParaSplit[i]<-strsplit(rWikiPara[[1]][i],split=\" \")\n",
    "}\n",
    "rWikiParaSplit"
   ]
  },
  {
   "cell_type": "code",
   "execution_count": 3,
   "metadata": {},
   "outputs": [],
   "source": [
    "sent1<-rWikiParaSplit[[1]]"
   ]
  },
  {
   "cell_type": "code",
   "execution_count": 4,
   "metadata": {},
   "outputs": [
    {
     "data": {
      "text/html": [
       "22"
      ],
      "text/latex": [
       "22"
      ],
      "text/markdown": [
       "22"
      ],
      "text/plain": [
       "[1] 22"
      ]
     },
     "metadata": {},
     "output_type": "display_data"
    }
   ],
   "source": [
    "sum(table(sent1))"
   ]
  },
  {
   "cell_type": "code",
   "execution_count": 5,
   "metadata": {},
   "outputs": [
    {
     "data": {
      "text/html": [
       "<style>\n",
       ".list-inline {list-style: none; margin:0; padding: 0}\n",
       ".list-inline>li {display: inline-block}\n",
       ".list-inline>li:not(:last-child)::after {content: \"\\00b7\"; padding: 0 .5ex}\n",
       "</style>\n",
       "<ol class=list-inline><li>'R'</li><li>'is'</li><li>'a'</li><li>'programming'</li><li>'language'</li><li>'and'</li><li>'free'</li><li>'software'</li><li>'environment'</li><li>'for'</li><li>'statistical'</li><li>'computing'</li><li>'and'</li><li>'graphics'</li><li>'supported'</li><li>'by'</li><li>'the'</li><li>'R'</li><li>'Foundation'</li><li>'for'</li><li>'Statistical'</li><li>'Computing.'</li></ol>\n"
      ],
      "text/latex": [
       "\\begin{enumerate*}\n",
       "\\item 'R'\n",
       "\\item 'is'\n",
       "\\item 'a'\n",
       "\\item 'programming'\n",
       "\\item 'language'\n",
       "\\item 'and'\n",
       "\\item 'free'\n",
       "\\item 'software'\n",
       "\\item 'environment'\n",
       "\\item 'for'\n",
       "\\item 'statistical'\n",
       "\\item 'computing'\n",
       "\\item 'and'\n",
       "\\item 'graphics'\n",
       "\\item 'supported'\n",
       "\\item 'by'\n",
       "\\item 'the'\n",
       "\\item 'R'\n",
       "\\item 'Foundation'\n",
       "\\item 'for'\n",
       "\\item 'Statistical'\n",
       "\\item 'Computing.'\n",
       "\\end{enumerate*}\n"
      ],
      "text/markdown": [
       "1. 'R'\n",
       "2. 'is'\n",
       "3. 'a'\n",
       "4. 'programming'\n",
       "5. 'language'\n",
       "6. 'and'\n",
       "7. 'free'\n",
       "8. 'software'\n",
       "9. 'environment'\n",
       "10. 'for'\n",
       "11. 'statistical'\n",
       "12. 'computing'\n",
       "13. 'and'\n",
       "14. 'graphics'\n",
       "15. 'supported'\n",
       "16. 'by'\n",
       "17. 'the'\n",
       "18. 'R'\n",
       "19. 'Foundation'\n",
       "20. 'for'\n",
       "21. 'Statistical'\n",
       "22. 'Computing.'\n",
       "\n",
       "\n"
      ],
      "text/plain": [
       " [1] \"R\"           \"is\"          \"a\"           \"programming\" \"language\"   \n",
       " [6] \"and\"         \"free\"        \"software\"    \"environment\" \"for\"        \n",
       "[11] \"statistical\" \"computing\"   \"and\"         \"graphics\"    \"supported\"  \n",
       "[16] \"by\"          \"the\"         \"R\"           \"Foundation\"  \"for\"        \n",
       "[21] \"Statistical\" \"Computing.\" "
      ]
     },
     "metadata": {},
     "output_type": "display_data"
    }
   ],
   "source": [
    "sent1"
   ]
  },
  {
   "cell_type": "code",
   "execution_count": 6,
   "metadata": {},
   "outputs": [
    {
     "name": "stdout",
     "output_type": "stream",
     "text": [
      " [1] \"R\"           \"is\"          \"a\"           \"programming\" \"language\"   \n",
      " [6] \"and\"         \"free\"        \"software\"    \"environment\" \"for\"        \n",
      "[11] \"statistical\" \"computing\"   \"and\"         \"graphics\"    \"supported\"  \n",
      "[16] \"\"            \"the\"         \"R\"           \"Foundation\"  \"for\"        \n",
      "[21] \"Statistical\" \"Computing.\" \n",
      " [1] \"R\"           \"is\"          \"a\"           \"programming\" \"language\"   \n",
      " [6] \"and\"         \"free\"        \"software\"    \"environment\" \"\"           \n",
      "[11] \"statistical\" \"computing\"   \"and\"         \"graphics\"    \"supported\"  \n",
      "[16] \"\"            \"the\"         \"R\"           \"Foundation\"  \"\"           \n",
      "[21] \"Statistical\" \"Computing.\" \n"
     ]
    }
   ],
   "source": [
    "print(gsub(\"by\", \"\", sent1))\n",
    "print(gsub(\"by|for\",\"\",sent1))"
   ]
  },
  {
   "cell_type": "code",
   "execution_count": 7,
   "metadata": {},
   "outputs": [
    {
     "data": {
      "text/html": [
       "<ol>\n",
       "\t<li>'R'</li>\n",
       "\t<li>'is'</li>\n",
       "\t<li>'a'</li>\n",
       "\t<li>'programming'</li>\n",
       "\t<li>'language'</li>\n",
       "\t<li>'and'</li>\n",
       "\t<li>'free'</li>\n",
       "\t<li>'software'</li>\n",
       "\t<li>'environment'</li>\n",
       "\t<li></li>\n",
       "\t<li>'statistical'</li>\n",
       "\t<li>'computing'</li>\n",
       "\t<li>'and'</li>\n",
       "\t<li>'graphics'</li>\n",
       "\t<li>'supported'</li>\n",
       "\t<li></li>\n",
       "\t<li></li>\n",
       "\t<li>'R'</li>\n",
       "\t<li>'Foundation'</li>\n",
       "\t<li></li>\n",
       "\t<li>'Statistical'</li>\n",
       "\t<li>'Computing.'</li>\n",
       "</ol>\n"
      ],
      "text/latex": [
       "\\begin{enumerate}\n",
       "\\item 'R'\n",
       "\\item 'is'\n",
       "\\item 'a'\n",
       "\\item 'programming'\n",
       "\\item 'language'\n",
       "\\item 'and'\n",
       "\\item 'free'\n",
       "\\item 'software'\n",
       "\\item 'environment'\n",
       "\\item \n",
       "\\item 'statistical'\n",
       "\\item 'computing'\n",
       "\\item 'and'\n",
       "\\item 'graphics'\n",
       "\\item 'supported'\n",
       "\\item \n",
       "\\item \n",
       "\\item 'R'\n",
       "\\item 'Foundation'\n",
       "\\item \n",
       "\\item 'Statistical'\n",
       "\\item 'Computing.'\n",
       "\\end{enumerate}\n"
      ],
      "text/markdown": [
       "1. 'R'\n",
       "2. 'is'\n",
       "3. 'a'\n",
       "4. 'programming'\n",
       "5. 'language'\n",
       "6. 'and'\n",
       "7. 'free'\n",
       "8. 'software'\n",
       "9. 'environment'\n",
       "10. \n",
       "11. 'statistical'\n",
       "12. 'computing'\n",
       "13. 'and'\n",
       "14. 'graphics'\n",
       "15. 'supported'\n",
       "16. \n",
       "17. \n",
       "18. 'R'\n",
       "19. 'Foundation'\n",
       "20. \n",
       "21. 'Statistical'\n",
       "22. 'Computing.'\n",
       "\n",
       "\n"
      ],
      "text/plain": [
       "[[1]]\n",
       "[1] \"R\"\n",
       "\n",
       "[[2]]\n",
       "[1] \"is\"\n",
       "\n",
       "[[3]]\n",
       "[1] \"a\"\n",
       "\n",
       "[[4]]\n",
       "[1] \"programming\"\n",
       "\n",
       "[[5]]\n",
       "[1] \"language\"\n",
       "\n",
       "[[6]]\n",
       "[1] \"and\"\n",
       "\n",
       "[[7]]\n",
       "[1] \"free\"\n",
       "\n",
       "[[8]]\n",
       "[1] \"software\"\n",
       "\n",
       "[[9]]\n",
       "[1] \"environment\"\n",
       "\n",
       "[[10]]\n",
       "character(0)\n",
       "\n",
       "[[11]]\n",
       "[1] \"statistical\"\n",
       "\n",
       "[[12]]\n",
       "[1] \"computing\"\n",
       "\n",
       "[[13]]\n",
       "[1] \"and\"\n",
       "\n",
       "[[14]]\n",
       "[1] \"graphics\"\n",
       "\n",
       "[[15]]\n",
       "[1] \"supported\"\n",
       "\n",
       "[[16]]\n",
       "character(0)\n",
       "\n",
       "[[17]]\n",
       "character(0)\n",
       "\n",
       "[[18]]\n",
       "[1] \"R\"\n",
       "\n",
       "[[19]]\n",
       "[1] \"Foundation\"\n",
       "\n",
       "[[20]]\n",
       "character(0)\n",
       "\n",
       "[[21]]\n",
       "[1] \"Statistical\"\n",
       "\n",
       "[[22]]\n",
       "[1] \"Computing.\"\n"
      ]
     },
     "metadata": {},
     "output_type": "display_data"
    }
   ],
   "source": [
    "dropsent <- gsub(\"by|the|for\",\"\",sent1)\n",
    "strsplit(dropsent, split=\" \")"
   ]
  },
  {
   "cell_type": "code",
   "execution_count": 8,
   "metadata": {},
   "outputs": [],
   "source": [
    "sent <- c(\"Learning R is so interesting\",\"He is a fascinating singer\")"
   ]
  },
  {
   "cell_type": "code",
   "execution_count": 9,
   "metadata": {},
   "outputs": [],
   "source": [
    "# -ing로 끝나는 모든 단어 추출하기\n",
    "mypat0<-gregexpr(\"ing\",sent)"
   ]
  },
  {
   "cell_type": "code",
   "execution_count": 10,
   "metadata": {},
   "outputs": [
    {
     "data": {
      "text/html": [
       "<ol>\n",
       "\t<li><style>\n",
       ".list-inline {list-style: none; margin:0; padding: 0}\n",
       ".list-inline>li {display: inline-block}\n",
       ".list-inline>li:not(:last-child)::after {content: \"\\00b7\"; padding: 0 .5ex}\n",
       "</style>\n",
       "<ol class=list-inline><li>'ing'</li><li>'ing'</li></ol>\n",
       "</li>\n",
       "\t<li><style>\n",
       ".list-inline {list-style: none; margin:0; padding: 0}\n",
       ".list-inline>li {display: inline-block}\n",
       ".list-inline>li:not(:last-child)::after {content: \"\\00b7\"; padding: 0 .5ex}\n",
       "</style>\n",
       "<ol class=list-inline><li>'ing'</li><li>'ing'</li></ol>\n",
       "</li>\n",
       "</ol>\n"
      ],
      "text/latex": [
       "\\begin{enumerate}\n",
       "\\item \\begin{enumerate*}\n",
       "\\item 'ing'\n",
       "\\item 'ing'\n",
       "\\end{enumerate*}\n",
       "\n",
       "\\item \\begin{enumerate*}\n",
       "\\item 'ing'\n",
       "\\item 'ing'\n",
       "\\end{enumerate*}\n",
       "\n",
       "\\end{enumerate}\n"
      ],
      "text/markdown": [
       "1. 1. 'ing'\n",
       "2. 'ing'\n",
       "\n",
       "\n",
       "\n",
       "2. 1. 'ing'\n",
       "2. 'ing'\n",
       "\n",
       "\n",
       "\n",
       "\n",
       "\n"
      ],
      "text/plain": [
       "[[1]]\n",
       "[1] \"ing\" \"ing\"\n",
       "\n",
       "[[2]]\n",
       "[1] \"ing\" \"ing\"\n"
      ]
     },
     "metadata": {},
     "output_type": "display_data"
    }
   ],
   "source": [
    "regmatches(sent, mypat0)"
   ]
  },
  {
   "cell_type": "code",
   "execution_count": 11,
   "metadata": {},
   "outputs": [
    {
     "data": {
      "text/html": [
       "<ol>\n",
       "\t<li><style>\n",
       ".list-inline {list-style: none; margin:0; padding: 0}\n",
       ".list-inline>li {display: inline-block}\n",
       ".list-inline>li:not(:last-child)::after {content: \"\\00b7\"; padding: 0 .5ex}\n",
       "</style>\n",
       "<ol class=list-inline><li>5</li><li>25</li></ol>\n",
       "</li>\n",
       "\t<li><style>\n",
       ".list-inline {list-style: none; margin:0; padding: 0}\n",
       ".list-inline>li {display: inline-block}\n",
       ".list-inline>li:not(:last-child)::after {content: \"\\00b7\"; padding: 0 .5ex}\n",
       "</style>\n",
       "<ol class=list-inline><li>16</li><li>21</li></ol>\n",
       "</li>\n",
       "</ol>\n"
      ],
      "text/latex": [
       "\\begin{enumerate}\n",
       "\\item \\begin{enumerate*}\n",
       "\\item 5\n",
       "\\item 25\n",
       "\\end{enumerate*}\n",
       "\n",
       "\\item \\begin{enumerate*}\n",
       "\\item 16\n",
       "\\item 21\n",
       "\\end{enumerate*}\n",
       "\n",
       "\\end{enumerate}\n"
      ],
      "text/markdown": [
       "1. 1. 5\n",
       "2. 25\n",
       "\n",
       "\n",
       "\n",
       "2. 1. 16\n",
       "2. 21\n",
       "\n",
       "\n",
       "\n",
       "\n",
       "\n"
      ],
      "text/plain": [
       "[[1]]\n",
       "[1]  5 25\n",
       "attr(,\"match.length\")\n",
       "[1] 4 4\n",
       "attr(,\"index.type\")\n",
       "[1] \"chars\"\n",
       "attr(,\"useBytes\")\n",
       "[1] TRUE\n",
       "\n",
       "[[2]]\n",
       "[1] 16 21\n",
       "attr(,\"match.length\")\n",
       "[1] 4 4\n",
       "attr(,\"index.type\")\n",
       "[1] \"chars\"\n",
       "attr(,\"useBytes\")\n",
       "[1] TRUE\n"
      ]
     },
     "metadata": {},
     "output_type": "display_data"
    }
   ],
   "source": [
    "mypat1<-gregexpr(\"[[:alpha:]]ing\",sent) #[[:alpha:]] 알파벳문자 한글자\n",
    "mypat1"
   ]
  },
  {
   "cell_type": "code",
   "execution_count": 12,
   "metadata": {},
   "outputs": [
    {
     "data": {
      "text/html": [
       "<ol>\n",
       "\t<li><style>\n",
       ".list-inline {list-style: none; margin:0; padding: 0}\n",
       ".list-inline>li {display: inline-block}\n",
       ".list-inline>li:not(:last-child)::after {content: \"\\00b7\"; padding: 0 .5ex}\n",
       "</style>\n",
       "<ol class=list-inline><li>'ning'</li><li>'ting'</li></ol>\n",
       "</li>\n",
       "\t<li><style>\n",
       ".list-inline {list-style: none; margin:0; padding: 0}\n",
       ".list-inline>li {display: inline-block}\n",
       ".list-inline>li:not(:last-child)::after {content: \"\\00b7\"; padding: 0 .5ex}\n",
       "</style>\n",
       "<ol class=list-inline><li>'ting'</li><li>'sing'</li></ol>\n",
       "</li>\n",
       "</ol>\n"
      ],
      "text/latex": [
       "\\begin{enumerate}\n",
       "\\item \\begin{enumerate*}\n",
       "\\item 'ning'\n",
       "\\item 'ting'\n",
       "\\end{enumerate*}\n",
       "\n",
       "\\item \\begin{enumerate*}\n",
       "\\item 'ting'\n",
       "\\item 'sing'\n",
       "\\end{enumerate*}\n",
       "\n",
       "\\end{enumerate}\n"
      ],
      "text/markdown": [
       "1. 1. 'ning'\n",
       "2. 'ting'\n",
       "\n",
       "\n",
       "\n",
       "2. 1. 'ting'\n",
       "2. 'sing'\n",
       "\n",
       "\n",
       "\n",
       "\n",
       "\n"
      ],
      "text/plain": [
       "[[1]]\n",
       "[1] \"ning\" \"ting\"\n",
       "\n",
       "[[2]]\n",
       "[1] \"ting\" \"sing\"\n"
      ]
     },
     "metadata": {},
     "output_type": "display_data"
    }
   ],
   "source": [
    "regmatches(sent, mypat1) # 표현에 맞는 문자열 반환"
   ]
  },
  {
   "cell_type": "code",
   "execution_count": 13,
   "metadata": {},
   "outputs": [
    {
     "data": {
      "text/html": [
       "<ol>\n",
       "\t<li><style>\n",
       ".list-inline {list-style: none; margin:0; padding: 0}\n",
       ".list-inline>li {display: inline-block}\n",
       ".list-inline>li:not(:last-child)::after {content: \"\\00b7\"; padding: 0 .5ex}\n",
       "</style>\n",
       "<ol class=list-inline><li>5</li><li>25</li></ol>\n",
       "</li>\n",
       "\t<li><style>\n",
       ".list-inline {list-style: none; margin:0; padding: 0}\n",
       ".list-inline>li {display: inline-block}\n",
       ".list-inline>li:not(:last-child)::after {content: \"\\00b7\"; padding: 0 .5ex}\n",
       "</style>\n",
       "<ol class=list-inline><li>16</li><li>21</li></ol>\n",
       "</li>\n",
       "</ol>\n"
      ],
      "text/latex": [
       "\\begin{enumerate}\n",
       "\\item \\begin{enumerate*}\n",
       "\\item 5\n",
       "\\item 25\n",
       "\\end{enumerate*}\n",
       "\n",
       "\\item \\begin{enumerate*}\n",
       "\\item 16\n",
       "\\item 21\n",
       "\\end{enumerate*}\n",
       "\n",
       "\\end{enumerate}\n"
      ],
      "text/markdown": [
       "1. 1. 5\n",
       "2. 25\n",
       "\n",
       "\n",
       "\n",
       "2. 1. 16\n",
       "2. 21\n",
       "\n",
       "\n",
       "\n",
       "\n",
       "\n"
      ],
      "text/plain": [
       "[[1]]\n",
       "[1]  5 25\n",
       "attr(,\"match.length\")\n",
       "[1] 4 4\n",
       "attr(,\"index.type\")\n",
       "[1] \"chars\"\n",
       "attr(,\"useBytes\")\n",
       "[1] TRUE\n",
       "\n",
       "[[2]]\n",
       "[1] 16 21\n",
       "attr(,\"match.length\")\n",
       "[1] 4 4\n",
       "attr(,\"index.type\")\n",
       "[1] \"chars\"\n",
       "attr(,\"useBytes\")\n",
       "[1] TRUE\n"
      ]
     },
     "metadata": {},
     "output_type": "display_data"
    }
   ],
   "source": [
    "mypat1<-gregexpr(\"[[:alpha:]](ing)\",sent) #() 괄호는 그룹인가봄.\n",
    "mypat1"
   ]
  },
  {
   "cell_type": "code",
   "execution_count": 14,
   "metadata": {},
   "outputs": [
    {
     "data": {
      "text/html": [
       "<ol>\n",
       "\t<li><style>\n",
       ".list-inline {list-style: none; margin:0; padding: 0}\n",
       ".list-inline>li {display: inline-block}\n",
       ".list-inline>li:not(:last-child)::after {content: \"\\00b7\"; padding: 0 .5ex}\n",
       "</style>\n",
       "<ol class=list-inline><li>'ning'</li><li>'ting'</li></ol>\n",
       "</li>\n",
       "\t<li><style>\n",
       ".list-inline {list-style: none; margin:0; padding: 0}\n",
       ".list-inline>li {display: inline-block}\n",
       ".list-inline>li:not(:last-child)::after {content: \"\\00b7\"; padding: 0 .5ex}\n",
       "</style>\n",
       "<ol class=list-inline><li>'ting'</li><li>'sing'</li></ol>\n",
       "</li>\n",
       "</ol>\n"
      ],
      "text/latex": [
       "\\begin{enumerate}\n",
       "\\item \\begin{enumerate*}\n",
       "\\item 'ning'\n",
       "\\item 'ting'\n",
       "\\end{enumerate*}\n",
       "\n",
       "\\item \\begin{enumerate*}\n",
       "\\item 'ting'\n",
       "\\item 'sing'\n",
       "\\end{enumerate*}\n",
       "\n",
       "\\end{enumerate}\n"
      ],
      "text/markdown": [
       "1. 1. 'ning'\n",
       "2. 'ting'\n",
       "\n",
       "\n",
       "\n",
       "2. 1. 'ting'\n",
       "2. 'sing'\n",
       "\n",
       "\n",
       "\n",
       "\n",
       "\n"
      ],
      "text/plain": [
       "[[1]]\n",
       "[1] \"ning\" \"ting\"\n",
       "\n",
       "[[2]]\n",
       "[1] \"ting\" \"sing\"\n"
      ]
     },
     "metadata": {},
     "output_type": "display_data"
    }
   ],
   "source": [
    "regmatches(sent, mypat1)"
   ]
  },
  {
   "cell_type": "code",
   "execution_count": 15,
   "metadata": {},
   "outputs": [
    {
     "data": {
      "text/html": [
       "<style>\n",
       ".list-inline {list-style: none; margin:0; padding: 0}\n",
       ".list-inline>li {display: inline-block}\n",
       ".list-inline>li:not(:last-child)::after {content: \"\\00b7\"; padding: 0 .5ex}\n",
       "</style>\n",
       "<ol class=list-inline><li>'L'</li><li>'R'</li><li>'H'</li></ol>\n"
      ],
      "text/latex": [
       "\\begin{enumerate*}\n",
       "\\item 'L'\n",
       "\\item 'R'\n",
       "\\item 'H'\n",
       "\\end{enumerate*}\n"
      ],
      "text/markdown": [
       "1. 'L'\n",
       "2. 'R'\n",
       "3. 'H'\n",
       "\n",
       "\n"
      ],
      "text/plain": [
       "[1] \"L\" \"R\" \"H\""
      ]
     },
     "metadata": {},
     "output_type": "display_data"
    }
   ],
   "source": [
    "mypat1<-gregexpr(\"[[:upper:]]\",sent) #[[:alpha:]] 알파벳문자 한글자\n",
    "unlist(regmatches(sent, mypat1)) # unlist : 벡터화를 하지않는다"
   ]
  },
  {
   "cell_type": "code",
   "execution_count": 16,
   "metadata": {},
   "outputs": [],
   "source": [
    "mypat1<-gregexpr(\"[[:lower:]]\",sent) #[[:alpha:]] 알파벳문자 한글자"
   ]
  },
  {
   "cell_type": "code",
   "execution_count": 17,
   "metadata": {},
   "outputs": [
    {
     "name": "stdout",
     "output_type": "stream",
     "text": [
      "[1] 8\n",
      "[1] 11\n",
      "[1] 43\n"
     ]
    }
   ],
   "source": [
    "mytable<-table(unlist(regmatches(sent,mypat1)))\n",
    "print(max(mytable))\n",
    "print(length(mytable))\n",
    "print(sum(mytable))"
   ]
  },
  {
   "cell_type": "code",
   "execution_count": 18,
   "metadata": {},
   "outputs": [
    {
     "ename": "ERROR",
     "evalue": "Error in parse(text = x, srcfile = src): <text>:2:6: 예상하지 못한 기호(symbol)입니다.\n1: corpus(말뭉치)\n2: 분석 대상\n        ^\n",
     "output_type": "error",
     "traceback": [
      "Error in parse(text = x, srcfile = src): <text>:2:6: 예상하지 못한 기호(symbol)입니다.\n1: corpus(말뭉치)\n2: 분석 대상\n        ^\nTraceback:\n"
     ]
    }
   ],
   "source": [
    "corpus(말뭉치)\n",
    "분석 대상 분야의 용어들에 대한 집합"
   ]
  },
  {
   "cell_type": "code",
   "execution_count": null,
   "metadata": {},
   "outputs": [],
   "source": [
    "- 자연어처리 -\n",
    "1) 코퍼스 구성 : 서로 연관있는것들에 대한 말뭉치 / 딱 정해져 있지는 않음 구성하는 사람에 따라 다르다.\n",
    "    국립국어원 언어정보나눔터\n"
   ]
  },
  {
   "cell_type": "code",
   "execution_count": 19,
   "metadata": {},
   "outputs": [],
   "source": [
    "mytext<-c(\"software environment\",\"software  environment\",\"software'\\t'environment\")"
   ]
  },
  {
   "cell_type": "code",
   "execution_count": 20,
   "metadata": {},
   "outputs": [
    {
     "name": "stderr",
     "output_type": "stream",
     "text": [
      "Warning message:\n",
      "\"package 'stringr' was built under R version 4.0.2\"\n"
     ]
    }
   ],
   "source": [
    "library(stringr) #문자열 관련함수"
   ]
  },
  {
   "cell_type": "code",
   "execution_count": 21,
   "metadata": {},
   "outputs": [
    {
     "data": {
      "text/html": [
       "<style>\n",
       ".list-inline {list-style: none; margin:0; padding: 0}\n",
       ".list-inline>li {display: inline-block}\n",
       ".list-inline>li:not(:last-child)::after {content: \"\\00b7\"; padding: 0 .5ex}\n",
       "</style>\n",
       "<ol class=list-inline><li>'software environment'</li><li><span style=white-space:pre-wrap>'software  environment'</span></li><li>'software\\'\\t\\'environment'</li></ol>\n"
      ],
      "text/latex": [
       "\\begin{enumerate*}\n",
       "\\item 'software environment'\n",
       "\\item 'software  environment'\n",
       "\\item 'software\\textbackslash{}'\\textbackslash{}t\\textbackslash{}'environment'\n",
       "\\end{enumerate*}\n"
      ],
      "text/markdown": [
       "1. 'software environment'\n",
       "2. <span style=white-space:pre-wrap>'software  environment'</span>\n",
       "3. 'software\\'\\t\\'environment'\n",
       "\n",
       "\n"
      ],
      "text/plain": [
       "[1] \"software environment\"    \"software  environment\"  \n",
       "[3] \"software'\\t'environment\""
      ]
     },
     "metadata": {},
     "output_type": "display_data"
    }
   ],
   "source": [
    "mytext"
   ]
  },
  {
   "cell_type": "code",
   "execution_count": 22,
   "metadata": {},
   "outputs": [
    {
     "data": {
      "text/html": [
       "<ol>\n",
       "\t<li><style>\n",
       ".list-inline {list-style: none; margin:0; padding: 0}\n",
       ".list-inline>li {display: inline-block}\n",
       ".list-inline>li:not(:last-child)::after {content: \"\\00b7\"; padding: 0 .5ex}\n",
       "</style>\n",
       "<ol class=list-inline><li>'software'</li><li>'environment'</li></ol>\n",
       "</li>\n",
       "\t<li><style>\n",
       ".list-inline {list-style: none; margin:0; padding: 0}\n",
       ".list-inline>li {display: inline-block}\n",
       ".list-inline>li:not(:last-child)::after {content: \"\\00b7\"; padding: 0 .5ex}\n",
       "</style>\n",
       "<ol class=list-inline><li>'software'</li><li>''</li><li>'environment'</li></ol>\n",
       "</li>\n",
       "\t<li>'software\\'\\t\\'environment'</li>\n",
       "</ol>\n"
      ],
      "text/latex": [
       "\\begin{enumerate}\n",
       "\\item \\begin{enumerate*}\n",
       "\\item 'software'\n",
       "\\item 'environment'\n",
       "\\end{enumerate*}\n",
       "\n",
       "\\item \\begin{enumerate*}\n",
       "\\item 'software'\n",
       "\\item ''\n",
       "\\item 'environment'\n",
       "\\end{enumerate*}\n",
       "\n",
       "\\item 'software\\textbackslash{}'\\textbackslash{}t\\textbackslash{}'environment'\n",
       "\\end{enumerate}\n"
      ],
      "text/markdown": [
       "1. 1. 'software'\n",
       "2. 'environment'\n",
       "\n",
       "\n",
       "\n",
       "2. 1. 'software'\n",
       "2. ''\n",
       "3. 'environment'\n",
       "\n",
       "\n",
       "\n",
       "3. 'software\\'\\t\\'environment'\n",
       "\n",
       "\n"
      ],
      "text/plain": [
       "[[1]]\n",
       "[1] \"software\"    \"environment\"\n",
       "\n",
       "[[2]]\n",
       "[1] \"software\"    \"\"            \"environment\"\n",
       "\n",
       "[[3]]\n",
       "[1] \"software'\\t'environment\"\n"
      ]
     },
     "metadata": {},
     "output_type": "display_data"
    }
   ],
   "source": [
    "str_split(mytext, \" \") # str_split{stringr}"
   ]
  },
  {
   "cell_type": "code",
   "execution_count": 23,
   "metadata": {},
   "outputs": [
    {
     "data": {
      "text/html": [
       "<style>\n",
       ".list-inline {list-style: none; margin:0; padding: 0}\n",
       ".list-inline>li {display: inline-block}\n",
       ".list-inline>li:not(:last-child)::after {content: \"\\00b7\"; padding: 0 .5ex}\n",
       "</style>\n",
       "<ol class=list-inline><li>'software environment'</li><li><span style=white-space:pre-wrap>'software  environment'</span></li><li>'software\\'\\t\\'environment'</li></ol>\n"
      ],
      "text/latex": [
       "\\begin{enumerate*}\n",
       "\\item 'software environment'\n",
       "\\item 'software  environment'\n",
       "\\item 'software\\textbackslash{}'\\textbackslash{}t\\textbackslash{}'environment'\n",
       "\\end{enumerate*}\n"
      ],
      "text/markdown": [
       "1. 'software environment'\n",
       "2. <span style=white-space:pre-wrap>'software  environment'</span>\n",
       "3. 'software\\'\\t\\'environment'\n",
       "\n",
       "\n"
      ],
      "text/plain": [
       "[1] \"software environment\"    \"software  environment\"  \n",
       "[3] \"software'\\t'environment\""
      ]
     },
     "metadata": {},
     "output_type": "display_data"
    }
   ],
   "source": [
    "mytext"
   ]
  },
  {
   "cell_type": "code",
   "execution_count": 26,
   "metadata": {},
   "outputs": [],
   "source": [
    "mytext.nowhitespace<-str_replace_all(mytext, \"[[:space:]]{1,}\",\" \") \n",
    "#[[:\"space\":]] = 공백문자가 {1,}1글자 이상 존재하는 패턴 발견된다면 \" \"공백 1개로 치환"
   ]
  },
  {
   "cell_type": "code",
   "execution_count": 28,
   "metadata": {},
   "outputs": [],
   "source": [
    "mytext2 <- \" The 45th President of the United States, Donald Trump, states that he knows how to play trump with the former president.\""
   ]
  },
  {
   "cell_type": "code",
   "execution_count": 31,
   "metadata": {},
   "outputs": [],
   "source": [
    "myword<- unlist(str_extract_all(mytext2, boundary(\"word\"))) # 벡터값 출력"
   ]
  },
  {
   "cell_type": "code",
   "execution_count": 32,
   "metadata": {},
   "outputs": [
    {
     "data": {
      "text/plain": [
       "myword\n",
       "     45th    Donald    former        he       how     knows        of      play \n",
       "        1         1         1         1         1         1         1         1 \n",
       "president President    states    States      that       the       The        to \n",
       "        1         1         1         1         1         2         1         1 \n",
       "    trump     Trump    United      with \n",
       "        1         1         1         1 "
      ]
     },
     "metadata": {},
     "output_type": "display_data"
    }
   ],
   "source": [
    "table(myword)"
   ]
  },
  {
   "cell_type": "code",
   "execution_count": 33,
   "metadata": {},
   "outputs": [
    {
     "data": {
      "text/plain": [
       "\n",
       "     45th    donald    former        he       how     knows        of      play \n",
       "        1         1         1         1         1         1         1         1 \n",
       "president    states      that       the        to     trump    united      with \n",
       "        2         2         1         3         1         2         1         1 "
      ]
     },
     "metadata": {},
     "output_type": "display_data"
    }
   ],
   "source": [
    "table(tolower(myword)) # 좋은 방법이긴 한데, 철자는 동일한데 의미가 다른 경우는 구분되지 않는다. "
   ]
  },
  {
   "cell_type": "code",
   "execution_count": 37,
   "metadata": {},
   "outputs": [
    {
     "data": {
      "text/plain": [
       "myword\n",
       "                          45th                         Donald \n",
       "                             1                              1 \n",
       "                        former                             he \n",
       "                             1                              1 \n",
       "                           how                          knows \n",
       "                             1                              1 \n",
       "                            of                           play \n",
       "                             1                              1 \n",
       "                     president                      President \n",
       "                             1                              1 \n",
       "                        states States_unique__unique__unique_ \n",
       "                             1                              1 \n",
       "                          that                            the \n",
       "                             1                              2 \n",
       "                           The                             to \n",
       "                             1                              1 \n",
       "                         trump  Trump_unique__unique__unique_ \n",
       "                             1                              1 \n",
       "                        United                           with \n",
       "                             1                              1 "
      ]
     },
     "metadata": {},
     "output_type": "display_data"
    }
   ],
   "source": [
    "myword <- str_replace(myword,\"Trump\", \"Trump_unique_\") #Trump는 고유명사라는 뜻!\n",
    "myword <- str_replace(myword,\"States\", \"States_unique_\")\n",
    "table(myword)"
   ]
  },
  {
   "cell_type": "code",
   "execution_count": 38,
   "metadata": {},
   "outputs": [
    {
     "data": {
      "text/html": [
       "'R is the No. _number_stat sw'"
      ],
      "text/latex": [
       "'R is the No. \\_number\\_stat sw'"
      ],
      "text/markdown": [
       "'R is the No. _number_stat sw'"
      ],
      "text/plain": [
       "[1] \"R is the No. _number_stat sw\""
      ]
     },
     "metadata": {},
     "output_type": "display_data"
    }
   ],
   "source": [
    "mytext<-c(\"R is the No. 1 stat sw\")\n",
    "str_replace_all(mytext, \"[[:digit:]]{1,}[[:space:]]{1,}\",\"_number_\")\n",
    "#[[:digit:]]{1,}[[:space:]]{1,} 숫자 하나이상 & 공백하나 이상"
   ]
  },
  {
   "cell_type": "code",
   "execution_count": null,
   "metadata": {},
   "outputs": [],
   "source": [
    "library(tm)"
   ]
  },
  {
   "cell_type": "code",
   "execution_count": null,
   "metadata": {},
   "outputs": [],
   "source": [
    "stopwords(\"SMART\")"
   ]
  },
  {
   "cell_type": "code",
   "execution_count": null,
   "metadata": {},
   "outputs": [],
   "source": []
  },
  {
   "cell_type": "code",
   "execution_count": null,
   "metadata": {},
   "outputs": [],
   "source": []
  },
  {
   "cell_type": "code",
   "execution_count": null,
   "metadata": {},
   "outputs": [],
   "source": []
  },
  {
   "cell_type": "code",
   "execution_count": null,
   "metadata": {},
   "outputs": [],
   "source": []
  },
  {
   "cell_type": "code",
   "execution_count": null,
   "metadata": {},
   "outputs": [],
   "source": []
  },
  {
   "cell_type": "code",
   "execution_count": null,
   "metadata": {},
   "outputs": [],
   "source": []
  },
  {
   "cell_type": "code",
   "execution_count": null,
   "metadata": {},
   "outputs": [],
   "source": []
  },
  {
   "cell_type": "code",
   "execution_count": null,
   "metadata": {},
   "outputs": [],
   "source": []
  },
  {
   "cell_type": "code",
   "execution_count": null,
   "metadata": {},
   "outputs": [],
   "source": []
  },
  {
   "cell_type": "code",
   "execution_count": null,
   "metadata": {},
   "outputs": [],
   "source": []
  },
  {
   "cell_type": "code",
   "execution_count": null,
   "metadata": {},
   "outputs": [],
   "source": []
  },
  {
   "cell_type": "code",
   "execution_count": null,
   "metadata": {},
   "outputs": [],
   "source": []
  },
  {
   "cell_type": "code",
   "execution_count": null,
   "metadata": {},
   "outputs": [],
   "source": []
  },
  {
   "cell_type": "code",
   "execution_count": null,
   "metadata": {},
   "outputs": [],
   "source": []
  }
 ],
 "metadata": {
  "kernelspec": {
   "display_name": "R",
   "language": "R",
   "name": "ir"
  },
  "language_info": {
   "codemirror_mode": "r",
   "file_extension": ".r",
   "mimetype": "text/x-r-source",
   "name": "R",
   "pygments_lexer": "r",
   "version": "4.0.1"
  }
 },
 "nbformat": 4,
 "nbformat_minor": 4
}
